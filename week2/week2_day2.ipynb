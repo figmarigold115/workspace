{
 "cells": [
  {
   "cell_type": "markdown",
   "id": "05997d87",
   "metadata": {},
   "source": [
    "\n",
    "# 🌼 기계학습 및 데이터 전처리 - 2차시(24.11.01)\n",
    "\n",
    "---\n"
   ]
  },
  {
   "cell_type": "markdown",
   "id": "c116bb20",
   "metadata": {},
   "source": [
    "## 1. 이상치 처리\n",
    "### 1-1. 이상치를 포함한 데이터프레임"
   ]
  },
  {
   "cell_type": "code",
   "execution_count": 108,
   "id": "5f967b69",
   "metadata": {},
   "outputs": [],
   "source": [
    "import pandas as pd"
   ]
  },
  {
   "cell_type": "code",
   "execution_count": 109,
   "id": "2e603223",
   "metadata": {},
   "outputs": [],
   "source": [
    "import matplotlib.pyplot as plt"
   ]
  },
  {
   "cell_type": "code",
   "execution_count": 110,
   "id": "742d4811",
   "metadata": {},
   "outputs": [
    {
     "data": {
      "text/html": [
       "<div>\n",
       "<style scoped>\n",
       "    .dataframe tbody tr th:only-of-type {\n",
       "        vertical-align: middle;\n",
       "    }\n",
       "\n",
       "    .dataframe tbody tr th {\n",
       "        vertical-align: top;\n",
       "    }\n",
       "\n",
       "    .dataframe thead th {\n",
       "        text-align: right;\n",
       "    }\n",
       "</style>\n",
       "<table border=\"1\" class=\"dataframe\">\n",
       "  <thead>\n",
       "    <tr style=\"text-align: right;\">\n",
       "      <th></th>\n",
       "      <th>고객ID</th>\n",
       "      <th>이름</th>\n",
       "      <th>구매금액</th>\n",
       "    </tr>\n",
       "  </thead>\n",
       "  <tbody>\n",
       "    <tr>\n",
       "      <th>0</th>\n",
       "      <td>101</td>\n",
       "      <td>유진</td>\n",
       "      <td>25000</td>\n",
       "    </tr>\n",
       "    <tr>\n",
       "      <th>1</th>\n",
       "      <td>102</td>\n",
       "      <td>가을</td>\n",
       "      <td>30000</td>\n",
       "    </tr>\n",
       "    <tr>\n",
       "      <th>2</th>\n",
       "      <td>103</td>\n",
       "      <td>레이</td>\n",
       "      <td>15000</td>\n",
       "    </tr>\n",
       "    <tr>\n",
       "      <th>3</th>\n",
       "      <td>104</td>\n",
       "      <td>원영</td>\n",
       "      <td>50000</td>\n",
       "    </tr>\n",
       "    <tr>\n",
       "      <th>4</th>\n",
       "      <td>105</td>\n",
       "      <td>리즈</td>\n",
       "      <td>10000</td>\n",
       "    </tr>\n",
       "    <tr>\n",
       "      <th>5</th>\n",
       "      <td>106</td>\n",
       "      <td>이서</td>\n",
       "      <td>500000</td>\n",
       "    </tr>\n",
       "  </tbody>\n",
       "</table>\n",
       "</div>"
      ],
      "text/plain": [
       "   고객ID  이름    구매금액\n",
       "0   101  유진   25000\n",
       "1   102  가을   30000\n",
       "2   103  레이   15000\n",
       "3   104  원영   50000\n",
       "4   105  리즈   10000\n",
       "5   106  이서  500000"
      ]
     },
     "execution_count": 110,
     "metadata": {},
     "output_type": "execute_result"
    }
   ],
   "source": [
    "data = {\n",
    "    '고객ID': [101, 102, 103, 104, 105, 106],\n",
    "    '이름': ['유진', '가을', '레이', '원영', '리즈', '이서'],\n",
    "    '구매금액': [25000, 30000, 15000, 50000, 10000, 500000]\n",
    "}\n",
    "\n",
    "df_outlier = pd.DataFrame(data)\n",
    "df_outlier"
   ]
  },
  {
   "cell_type": "markdown",
   "id": "77706797",
   "metadata": {},
   "source": [
    "### 2-2. 이상치 탐색\n",
    "- 박스플롯 찍어보기\n",
    "- 시각적으로 이상치 탐색\n",
    "- 박스플롯상에서 점으로 나타나는 값이 이상치일 가능성 多"
   ]
  },
  {
   "cell_type": "code",
   "execution_count": 111,
   "id": "d46286e0",
   "metadata": {},
   "outputs": [],
   "source": [
    "import matplotlib.pyplot as plt\n",
    "plt.rcParams['font.family'] ='Malgun Gothic'\n",
    "plt.rcParams['axes.unicode_minus'] =False"
   ]
  },
  {
   "cell_type": "code",
   "execution_count": 112,
   "id": "e0ce770b",
   "metadata": {},
   "outputs": [
    {
     "data": {
      "image/png": "[encoded data removed]",
      "text/plain": [
       "<Figure size 500x500 with 1 Axes>"
      ]
     },
     "metadata": {},
     "output_type": "display_data"
    }
   ],
   "source": [
    "plt.figure(figsize=(5, 5))\n",
    "plt.boxplot(df_outlier['구매금액'])\n",
    "plt.show()"
   ]
  },
  {
   "cell_type": "markdown",
   "id": "b61a781e",
   "metadata": {},
   "source": [
    "### 2-3. 이상치 처리\n",
    "- 특정 조건에 따라 이상치 제거"
   ]
  },
  {
   "cell_type": "code",
   "execution_count": 113,
   "id": "e316bb79",
   "metadata": {},
   "outputs": [
    {
     "data": {
      "text/html": [
       "<div>\n",
       "<style scoped>\n",
       "    .dataframe tbody tr th:only-of-type {\n",
       "        vertical-align: middle;\n",
       "    }\n",
       "\n",
       "    .dataframe tbody tr th {\n",
       "        vertical-align: top;\n",
       "    }\n",
       "\n",
       "    .dataframe thead th {\n",
       "        text-align: right;\n",
       "    }\n",
       "</style>\n",
       "<table border=\"1\" class=\"dataframe\">\n",
       "  <thead>\n",
       "    <tr style=\"text-align: right;\">\n",
       "      <th></th>\n",
       "      <th>고객ID</th>\n",
       "      <th>이름</th>\n",
       "      <th>구매금액</th>\n",
       "    </tr>\n",
       "  </thead>\n",
       "  <tbody>\n",
       "    <tr>\n",
       "      <th>0</th>\n",
       "      <td>101</td>\n",
       "      <td>유진</td>\n",
       "      <td>25000</td>\n",
       "    </tr>\n",
       "    <tr>\n",
       "      <th>1</th>\n",
       "      <td>102</td>\n",
       "      <td>가을</td>\n",
       "      <td>30000</td>\n",
       "    </tr>\n",
       "    <tr>\n",
       "      <th>2</th>\n",
       "      <td>103</td>\n",
       "      <td>레이</td>\n",
       "      <td>15000</td>\n",
       "    </tr>\n",
       "    <tr>\n",
       "      <th>3</th>\n",
       "      <td>104</td>\n",
       "      <td>원영</td>\n",
       "      <td>50000</td>\n",
       "    </tr>\n",
       "    <tr>\n",
       "      <th>4</th>\n",
       "      <td>105</td>\n",
       "      <td>리즈</td>\n",
       "      <td>10000</td>\n",
       "    </tr>\n",
       "  </tbody>\n",
       "</table>\n",
       "</div>"
      ],
      "text/plain": [
       "   고객ID  이름   구매금액\n",
       "0   101  유진  25000\n",
       "1   102  가을  30000\n",
       "2   103  레이  15000\n",
       "3   104  원영  50000\n",
       "4   105  리즈  10000"
      ]
     },
     "execution_count": 113,
     "metadata": {},
     "output_type": "execute_result"
    }
   ],
   "source": [
    "df_no_outlier = df_outlier[df_outlier['구매금액'] < 100000]\n",
    "df_no_outlier"
   ]
  },
  {
   "cell_type": "code",
   "execution_count": 114,
   "id": "cc91d974",
   "metadata": {},
   "outputs": [
    {
     "data": {
      "image/png": "[encoded data removed]",
      "text/plain": [
       "<Figure size 640x480 with 1 Axes>"
      ]
     },
     "metadata": {},
     "output_type": "display_data"
    }
   ],
   "source": [
    "plt.Figure(figsize=(5, 5))\n",
    "plt.boxplot(df_no_outlier['구매금액'])\n",
    "plt.title('구매금액의 이상치 제거한 박스플롯')\n",
    "plt.show()"
   ]
  },
  {
   "cell_type": "markdown",
   "id": "6eabd4fb",
   "metadata": {},
   "source": [
    "### boxplot\n",
    "- 박스플롯은 데이터의 분포와 이상치를 시각적으로 보여주는 그래프\n",
    "### 구성 요소 : \n",
    " 1. `박스(Box)`:  \n",
    " 데이터의 1사분위수(Q1)와 3사분위수(Q3) 사이의 범위  \n",
    " 박스의 상단은 Q3, 하단은 Q1을 나타내며, 이 범위는 데이터의 중간 50%를 포함\n",
    "\n",
    " 2. `중앙선(Median Line)`:  \n",
    " 박스 안의 굵은 선은 중앙값(Median).  \n",
    " -> 데이터의 중간에 해당하는 값  \n",
    "\n",
    " 3. `수염(Whiskers)`:  \n",
    " 박스 상단과 하단에서 각각 최솟값과 최댓값을 나타냄\n",
    " 하지만, 수염은 극단적인 값(이상치)을 제외한 값들로 제한됨\n",
    "\n",
    " 4. `이상치(Outliers)`:  \n",
    " 수염 밖에 있는 점으로 표시된 값들\n",
    " 이 값들은 일반적인 데이터 범위를 벗어난 값들로, 이상치라고 함"
   ]
  },
  {
   "cell_type": "code",
   "execution_count": 115,
   "id": "badb29a9",
   "metadata": {},
   "outputs": [],
   "source": [
    "q1 = df_outlier['구매금액'].quantile(0.25)\n",
    "q3 = df_outlier['구매금액'].quantile(0.75)\n",
    "median = df_outlier['구매금액'].median()\n",
    "IQR = q3 - q1"
   ]
  },
  {
   "cell_type": "code",
   "execution_count": 116,
   "id": "e298de7b",
   "metadata": {},
   "outputs": [
    {
     "name": "stdout",
     "output_type": "stream",
     "text": [
      "1사분위수 (Q1) : 17500.0\n",
      "3사분위수 (Q3) : 45000.0\n",
      "중앙값 : 27500.0\n",
      "사분위 범위 (IQR) : 27500.0\n"
     ]
    }
   ],
   "source": [
    "print(f'1사분위수 (Q1) : {q1}')  # 박스 아래 선\n",
    "print(f'3사분위수 (Q3) : {q3}')  # 박스 위 선\n",
    "print(f'중앙값 : {median}')  # 박스 중앙선\n",
    "print(f'사분위 범위 (IQR) : {IQR}')"
   ]
  },
  {
   "cell_type": "code",
   "execution_count": 117,
   "id": "15e773dc",
   "metadata": {},
   "outputs": [],
   "source": [
    "lower_bound = q1 - 1.5 * IQR\n",
    "# IQR 계산 방법: 이상치 범위를 계산하는 공식\n",
    "# (1.5 * IQR) 밖의 값은 이상치로 간주\n",
    "upper_bound = q3 + 1.5 * IQR"
   ]
  },
  {
   "cell_type": "code",
   "execution_count": 118,
   "id": "91f5cf8a",
   "metadata": {},
   "outputs": [
    {
     "name": "stdout",
     "output_type": "stream",
     "text": [
      "이상치 탐색 범위: -23750.0~86250.0\n"
     ]
    }
   ],
   "source": [
    "print(f'이상치 탐색 범위: {lower_bound}~{upper_bound}')"
   ]
  },
  {
   "cell_type": "code",
   "execution_count": 119,
   "id": "d73c2a4b",
   "metadata": {},
   "outputs": [
    {
     "data": {
      "text/html": [
       "<div>\n",
       "<style scoped>\n",
       "    .dataframe tbody tr th:only-of-type {\n",
       "        vertical-align: middle;\n",
       "    }\n",
       "\n",
       "    .dataframe tbody tr th {\n",
       "        vertical-align: top;\n",
       "    }\n",
       "\n",
       "    .dataframe thead th {\n",
       "        text-align: right;\n",
       "    }\n",
       "</style>\n",
       "<table border=\"1\" class=\"dataframe\">\n",
       "  <thead>\n",
       "    <tr style=\"text-align: right;\">\n",
       "      <th></th>\n",
       "      <th>고객ID</th>\n",
       "      <th>이름</th>\n",
       "      <th>구매금액</th>\n",
       "    </tr>\n",
       "  </thead>\n",
       "  <tbody>\n",
       "    <tr>\n",
       "      <th>5</th>\n",
       "      <td>106</td>\n",
       "      <td>이서</td>\n",
       "      <td>500000</td>\n",
       "    </tr>\n",
       "  </tbody>\n",
       "</table>\n",
       "</div>"
      ],
      "text/plain": [
       "   고객ID  이름    구매금액\n",
       "5   106  이서  500000"
      ]
     },
     "execution_count": 119,
     "metadata": {},
     "output_type": "execute_result"
    }
   ],
   "source": [
    "outliers = df_outlier[(df_outlier['구매금액'] < lower_bound) | (df_outlier['구매금액'] > upper_bound)]\n",
    "outliers"
   ]
  },
  {
   "cell_type": "code",
   "execution_count": 120,
   "id": "65074cd0",
   "metadata": {},
   "outputs": [
    {
     "data": {
      "text/html": [
       "<div>\n",
       "<style scoped>\n",
       "    .dataframe tbody tr th:only-of-type {\n",
       "        vertical-align: middle;\n",
       "    }\n",
       "\n",
       "    .dataframe tbody tr th {\n",
       "        vertical-align: top;\n",
       "    }\n",
       "\n",
       "    .dataframe thead th {\n",
       "        text-align: right;\n",
       "    }\n",
       "</style>\n",
       "<table border=\"1\" class=\"dataframe\">\n",
       "  <thead>\n",
       "    <tr style=\"text-align: right;\">\n",
       "      <th></th>\n",
       "      <th>고객ID</th>\n",
       "      <th>이름</th>\n",
       "      <th>구매금액</th>\n",
       "    </tr>\n",
       "  </thead>\n",
       "  <tbody>\n",
       "    <tr>\n",
       "      <th>0</th>\n",
       "      <td>101</td>\n",
       "      <td>유진</td>\n",
       "      <td>25000</td>\n",
       "    </tr>\n",
       "    <tr>\n",
       "      <th>1</th>\n",
       "      <td>102</td>\n",
       "      <td>가을</td>\n",
       "      <td>30000</td>\n",
       "    </tr>\n",
       "    <tr>\n",
       "      <th>2</th>\n",
       "      <td>103</td>\n",
       "      <td>레이</td>\n",
       "      <td>15000</td>\n",
       "    </tr>\n",
       "    <tr>\n",
       "      <th>3</th>\n",
       "      <td>104</td>\n",
       "      <td>원영</td>\n",
       "      <td>50000</td>\n",
       "    </tr>\n",
       "    <tr>\n",
       "      <th>4</th>\n",
       "      <td>105</td>\n",
       "      <td>리즈</td>\n",
       "      <td>10000</td>\n",
       "    </tr>\n",
       "  </tbody>\n",
       "</table>\n",
       "</div>"
      ],
      "text/plain": [
       "   고객ID  이름   구매금액\n",
       "0   101  유진  25000\n",
       "1   102  가을  30000\n",
       "2   103  레이  15000\n",
       "3   104  원영  50000\n",
       "4   105  리즈  10000"
      ]
     },
     "execution_count": 120,
     "metadata": {},
     "output_type": "execute_result"
    }
   ],
   "source": [
    "normal_data = df_outlier.iloc[:-1, :]\n",
    "normal_data"
   ]
  },
  {
   "cell_type": "code",
   "execution_count": 121,
   "id": "888e9a75",
   "metadata": {},
   "outputs": [
    {
     "data": {
      "text/plain": [
       "고객ID       106\n",
       "이름          이서\n",
       "구매금액    500000\n",
       "Name: 5, dtype: object"
      ]
     },
     "execution_count": 121,
     "metadata": {},
     "output_type": "execute_result"
    }
   ],
   "source": [
    "outlier_data = df_outlier.iloc[5]\n",
    "outlier_data"
   ]
  },
  {
   "cell_type": "code",
   "execution_count": 122,
   "id": "47473a35",
   "metadata": {},
   "outputs": [
    {
     "data": {
      "image/png": "[encoded data removed]",
      "text/plain": [
       "<Figure size 640x480 with 1 Axes>"
      ]
     },
     "metadata": {},
     "output_type": "display_data"
    }
   ],
   "source": [
    "plt.scatter(normal_data['고객ID'], normal_data['구매금액'], color='blue', label='정상 데이터')\n",
    "plt.scatter(outlier_data['고객ID'], outlier_data['구매금액'], color='red', label='이상치 데이터')\n",
    "\n",
    "plt.title('구매금액에 대한 이상치 시각화')\n",
    "plt.xlabel('고객ID')\n",
    "plt.ylabel('구매금액')\n",
    "\n",
    "plt.legend()\n",
    "\n",
    "plt.show()"
   ]
  },
  {
   "cell_type": "markdown",
   "id": "4ad506dd",
   "metadata": {},
   "source": [
    "## 3. 정규화 (Normalization)\n",
    "### 3-1. Min-Max Scaling\n",
    "- 데이터를 0과 1사이의 값으로 정규화하여 특정 값의 크기를 조정하는 방법\n",
    "- 연속형 변수에 사용할 수 있음\n",
    "- MinMaxScaler는 모든 값을 최대값을 1, 최솟값을 0으로 변환\n",
    "- 데이터의 범위를 좁혀서 머신러닝 모델이 데이터를 학습하기 쉽게 만듦"
   ]
  },
  {
   "cell_type": "code",
   "execution_count": 123,
   "id": "2bc6be27",
   "metadata": {},
   "outputs": [],
   "source": [
    "# pip install pydataset"
   ]
  },
  {
   "cell_type": "code",
   "execution_count": 124,
   "id": "ba58f19c",
   "metadata": {},
   "outputs": [
    {
     "data": {
      "text/html": [
       "<div>\n",
       "<style scoped>\n",
       "    .dataframe tbody tr th:only-of-type {\n",
       "        vertical-align: middle;\n",
       "    }\n",
       "\n",
       "    .dataframe tbody tr th {\n",
       "        vertical-align: top;\n",
       "    }\n",
       "\n",
       "    .dataframe thead th {\n",
       "        text-align: right;\n",
       "    }\n",
       "</style>\n",
       "<table border=\"1\" class=\"dataframe\">\n",
       "  <thead>\n",
       "    <tr style=\"text-align: right;\">\n",
       "      <th></th>\n",
       "      <th>dataset_id</th>\n",
       "      <th>title</th>\n",
       "    </tr>\n",
       "  </thead>\n",
       "  <tbody>\n",
       "    <tr>\n",
       "      <th>0</th>\n",
       "      <td>AirPassengers</td>\n",
       "      <td>Monthly Airline Passenger Numbers 1949-1960</td>\n",
       "    </tr>\n",
       "    <tr>\n",
       "      <th>1</th>\n",
       "      <td>BJsales</td>\n",
       "      <td>Sales Data with Leading Indicator</td>\n",
       "    </tr>\n",
       "    <tr>\n",
       "      <th>2</th>\n",
       "      <td>BOD</td>\n",
       "      <td>Biochemical Oxygen Demand</td>\n",
       "    </tr>\n",
       "    <tr>\n",
       "      <th>3</th>\n",
       "      <td>Formaldehyde</td>\n",
       "      <td>Determination of Formaldehyde</td>\n",
       "    </tr>\n",
       "    <tr>\n",
       "      <th>4</th>\n",
       "      <td>HairEyeColor</td>\n",
       "      <td>Hair and Eye Color of Statistics Students</td>\n",
       "    </tr>\n",
       "    <tr>\n",
       "      <th>...</th>\n",
       "      <td>...</td>\n",
       "      <td>...</td>\n",
       "    </tr>\n",
       "    <tr>\n",
       "      <th>752</th>\n",
       "      <td>VerbAgg</td>\n",
       "      <td>Verbal Aggression item responses</td>\n",
       "    </tr>\n",
       "    <tr>\n",
       "      <th>753</th>\n",
       "      <td>cake</td>\n",
       "      <td>Breakage Angle of Chocolate Cakes</td>\n",
       "    </tr>\n",
       "    <tr>\n",
       "      <th>754</th>\n",
       "      <td>cbpp</td>\n",
       "      <td>Contagious bovine pleuropneumonia</td>\n",
       "    </tr>\n",
       "    <tr>\n",
       "      <th>755</th>\n",
       "      <td>grouseticks</td>\n",
       "      <td>Data on red grouse ticks from Elston et al. 2001</td>\n",
       "    </tr>\n",
       "    <tr>\n",
       "      <th>756</th>\n",
       "      <td>sleepstudy</td>\n",
       "      <td>Reaction times in a sleep deprivation study</td>\n",
       "    </tr>\n",
       "  </tbody>\n",
       "</table>\n",
       "<p>757 rows × 2 columns</p>\n",
       "</div>"
      ],
      "text/plain": [
       "        dataset_id                                             title\n",
       "0    AirPassengers       Monthly Airline Passenger Numbers 1949-1960\n",
       "1          BJsales                 Sales Data with Leading Indicator\n",
       "2              BOD                         Biochemical Oxygen Demand\n",
       "3     Formaldehyde                     Determination of Formaldehyde\n",
       "4     HairEyeColor         Hair and Eye Color of Statistics Students\n",
       "..             ...                                               ...\n",
       "752        VerbAgg                  Verbal Aggression item responses\n",
       "753           cake                 Breakage Angle of Chocolate Cakes\n",
       "754           cbpp                 Contagious bovine pleuropneumonia\n",
       "755    grouseticks  Data on red grouse ticks from Elston et al. 2001\n",
       "756     sleepstudy       Reaction times in a sleep deprivation study\n",
       "\n",
       "[757 rows x 2 columns]"
      ]
     },
     "execution_count": 124,
     "metadata": {},
     "output_type": "execute_result"
    }
   ],
   "source": [
    "from pydataset import data\n",
    "data()"
   ]
  },
  {
   "cell_type": "markdown",
   "id": "7998c1ee",
   "metadata": {},
   "source": [
    "\n",
    "|열 이름|설명|\n",
    "|---|---|\n",
    "|Ozone\t|오존 수준 (ppb 단위, 결측치 존재)|\n",
    "|Solar.R|\t태양 복사량 (lang 단위)|\n",
    "|Wind|\t바람의 속도 (mph 단위)|\n",
    "|Temp|\t온도 (화씨)|\n",
    "|Month\t|측정 월 (5 = 5월, 6 = 6월, ...)|\n",
    "|Day|\t측정 일 (1~31일)|"
   ]
  },
  {
   "cell_type": "code",
   "execution_count": 125,
   "id": "840a1897",
   "metadata": {},
   "outputs": [
    {
     "data": {
      "text/html": [
       "<div>\n",
       "<style scoped>\n",
       "    .dataframe tbody tr th:only-of-type {\n",
       "        vertical-align: middle;\n",
       "    }\n",
       "\n",
       "    .dataframe tbody tr th {\n",
       "        vertical-align: top;\n",
       "    }\n",
       "\n",
       "    .dataframe thead th {\n",
       "        text-align: right;\n",
       "    }\n",
       "</style>\n",
       "<table border=\"1\" class=\"dataframe\">\n",
       "  <thead>\n",
       "    <tr style=\"text-align: right;\">\n",
       "      <th></th>\n",
       "      <th>Ozone</th>\n",
       "      <th>Solar.R</th>\n",
       "      <th>Wind</th>\n",
       "      <th>Temp</th>\n",
       "      <th>Month</th>\n",
       "      <th>Day</th>\n",
       "    </tr>\n",
       "  </thead>\n",
       "  <tbody>\n",
       "    <tr>\n",
       "      <th>1</th>\n",
       "      <td>41.0</td>\n",
       "      <td>190.0</td>\n",
       "      <td>7.4</td>\n",
       "      <td>67</td>\n",
       "      <td>5</td>\n",
       "      <td>1</td>\n",
       "    </tr>\n",
       "    <tr>\n",
       "      <th>2</th>\n",
       "      <td>36.0</td>\n",
       "      <td>118.0</td>\n",
       "      <td>8.0</td>\n",
       "      <td>72</td>\n",
       "      <td>5</td>\n",
       "      <td>2</td>\n",
       "    </tr>\n",
       "    <tr>\n",
       "      <th>3</th>\n",
       "      <td>12.0</td>\n",
       "      <td>149.0</td>\n",
       "      <td>12.6</td>\n",
       "      <td>74</td>\n",
       "      <td>5</td>\n",
       "      <td>3</td>\n",
       "    </tr>\n",
       "    <tr>\n",
       "      <th>4</th>\n",
       "      <td>18.0</td>\n",
       "      <td>313.0</td>\n",
       "      <td>11.5</td>\n",
       "      <td>62</td>\n",
       "      <td>5</td>\n",
       "      <td>4</td>\n",
       "    </tr>\n",
       "    <tr>\n",
       "      <th>5</th>\n",
       "      <td>NaN</td>\n",
       "      <td>NaN</td>\n",
       "      <td>14.3</td>\n",
       "      <td>56</td>\n",
       "      <td>5</td>\n",
       "      <td>5</td>\n",
       "    </tr>\n",
       "  </tbody>\n",
       "</table>\n",
       "</div>"
      ],
      "text/plain": [
       "   Ozone  Solar.R  Wind  Temp  Month  Day\n",
       "1   41.0    190.0   7.4    67      5    1\n",
       "2   36.0    118.0   8.0    72      5    2\n",
       "3   12.0    149.0  12.6    74      5    3\n",
       "4   18.0    313.0  11.5    62      5    4\n",
       "5    NaN      NaN  14.3    56      5    5"
      ]
     },
     "execution_count": 125,
     "metadata": {},
     "output_type": "execute_result"
    }
   ],
   "source": [
    "df = data('airquality')\n",
    "df.head()"
   ]
  },
  {
   "cell_type": "code",
   "execution_count": 126,
   "id": "c70af4f4",
   "metadata": {},
   "outputs": [
    {
     "data": {
      "text/html": [
       "<div>\n",
       "<style scoped>\n",
       "    .dataframe tbody tr th:only-of-type {\n",
       "        vertical-align: middle;\n",
       "    }\n",
       "\n",
       "    .dataframe tbody tr th {\n",
       "        vertical-align: top;\n",
       "    }\n",
       "\n",
       "    .dataframe thead th {\n",
       "        text-align: right;\n",
       "    }\n",
       "</style>\n",
       "<table border=\"1\" class=\"dataframe\">\n",
       "  <thead>\n",
       "    <tr style=\"text-align: right;\">\n",
       "      <th></th>\n",
       "      <th>오존농도</th>\n",
       "      <th>태양복사량</th>\n",
       "      <th>풍속</th>\n",
       "      <th>온도</th>\n",
       "      <th>월</th>\n",
       "      <th>일</th>\n",
       "    </tr>\n",
       "  </thead>\n",
       "  <tbody>\n",
       "    <tr>\n",
       "      <th>1</th>\n",
       "      <td>41.0</td>\n",
       "      <td>190.0</td>\n",
       "      <td>7.4</td>\n",
       "      <td>67</td>\n",
       "      <td>5</td>\n",
       "      <td>1</td>\n",
       "    </tr>\n",
       "    <tr>\n",
       "      <th>2</th>\n",
       "      <td>36.0</td>\n",
       "      <td>118.0</td>\n",
       "      <td>8.0</td>\n",
       "      <td>72</td>\n",
       "      <td>5</td>\n",
       "      <td>2</td>\n",
       "    </tr>\n",
       "    <tr>\n",
       "      <th>3</th>\n",
       "      <td>12.0</td>\n",
       "      <td>149.0</td>\n",
       "      <td>12.6</td>\n",
       "      <td>74</td>\n",
       "      <td>5</td>\n",
       "      <td>3</td>\n",
       "    </tr>\n",
       "    <tr>\n",
       "      <th>4</th>\n",
       "      <td>18.0</td>\n",
       "      <td>313.0</td>\n",
       "      <td>11.5</td>\n",
       "      <td>62</td>\n",
       "      <td>5</td>\n",
       "      <td>4</td>\n",
       "    </tr>\n",
       "    <tr>\n",
       "      <th>5</th>\n",
       "      <td>NaN</td>\n",
       "      <td>NaN</td>\n",
       "      <td>14.3</td>\n",
       "      <td>56</td>\n",
       "      <td>5</td>\n",
       "      <td>5</td>\n",
       "    </tr>\n",
       "  </tbody>\n",
       "</table>\n",
       "</div>"
      ],
      "text/plain": [
       "   오존농도  태양복사량    풍속  온도  월  일\n",
       "1  41.0  190.0   7.4  67  5  1\n",
       "2  36.0  118.0   8.0  72  5  2\n",
       "3  12.0  149.0  12.6  74  5  3\n",
       "4  18.0  313.0  11.5  62  5  4\n",
       "5   NaN    NaN  14.3  56  5  5"
      ]
     },
     "execution_count": 126,
     "metadata": {},
     "output_type": "execute_result"
    }
   ],
   "source": [
    "df = df.rename(columns={\n",
    "    'Ozone': '오존농도',\n",
    "    'Solar.R': '태양복사량',\n",
    "    'Wind': '풍속',\n",
    "    'Temp': '온도',\n",
    "    'Month': '월',\n",
    "    'Day': '일'\n",
    "})\n",
    "\n",
    "df.head()"
   ]
  },
  {
   "cell_type": "code",
   "execution_count": 127,
   "id": "d6131247",
   "metadata": {},
   "outputs": [
    {
     "data": {
      "text/plain": [
       "오존농도     37\n",
       "태양복사량     7\n",
       "풍속        0\n",
       "온도        0\n",
       "월         0\n",
       "일         0\n",
       "dtype: int64"
      ]
     },
     "execution_count": 127,
     "metadata": {},
     "output_type": "execute_result"
    }
   ],
   "source": [
    "# 첫 번째 할일: 결측치 확인하기\n",
    "df.isnull().sum()"
   ]
  },
  {
   "cell_type": "code",
   "execution_count": 128,
   "id": "c1a65d54",
   "metadata": {},
   "outputs": [],
   "source": [
    "df.fillna(df.mean(), inplace=True)"
   ]
  },
  {
   "cell_type": "code",
   "execution_count": 129,
   "id": "6b1962a0",
   "metadata": {},
   "outputs": [
    {
     "data": {
      "text/plain": [
       "오존농도      42.129310\n",
       "태양복사량    185.931507\n",
       "풍속         9.957516\n",
       "온도        77.882353\n",
       "월          6.993464\n",
       "일         15.803922\n",
       "dtype: float64"
      ]
     },
     "execution_count": 129,
     "metadata": {},
     "output_type": "execute_result"
    }
   ],
   "source": [
    "df.mean()  # 열 별로 평균 값이 출력된다"
   ]
  },
  {
   "cell_type": "code",
   "execution_count": 130,
   "id": "7137259d",
   "metadata": {},
   "outputs": [
    {
     "data": {
      "text/html": [
       "<div>\n",
       "<style scoped>\n",
       "    .dataframe tbody tr th:only-of-type {\n",
       "        vertical-align: middle;\n",
       "    }\n",
       "\n",
       "    .dataframe tbody tr th {\n",
       "        vertical-align: top;\n",
       "    }\n",
       "\n",
       "    .dataframe thead th {\n",
       "        text-align: right;\n",
       "    }\n",
       "</style>\n",
       "<table border=\"1\" class=\"dataframe\">\n",
       "  <thead>\n",
       "    <tr style=\"text-align: right;\">\n",
       "      <th></th>\n",
       "      <th>오존농도</th>\n",
       "      <th>태양복사량</th>\n",
       "      <th>풍속</th>\n",
       "      <th>온도</th>\n",
       "      <th>월</th>\n",
       "      <th>일</th>\n",
       "    </tr>\n",
       "  </thead>\n",
       "  <tbody>\n",
       "    <tr>\n",
       "      <th>1</th>\n",
       "      <td>41.00000</td>\n",
       "      <td>190.000000</td>\n",
       "      <td>7.4</td>\n",
       "      <td>67</td>\n",
       "      <td>5</td>\n",
       "      <td>1</td>\n",
       "    </tr>\n",
       "    <tr>\n",
       "      <th>2</th>\n",
       "      <td>36.00000</td>\n",
       "      <td>118.000000</td>\n",
       "      <td>8.0</td>\n",
       "      <td>72</td>\n",
       "      <td>5</td>\n",
       "      <td>2</td>\n",
       "    </tr>\n",
       "    <tr>\n",
       "      <th>3</th>\n",
       "      <td>12.00000</td>\n",
       "      <td>149.000000</td>\n",
       "      <td>12.6</td>\n",
       "      <td>74</td>\n",
       "      <td>5</td>\n",
       "      <td>3</td>\n",
       "    </tr>\n",
       "    <tr>\n",
       "      <th>4</th>\n",
       "      <td>18.00000</td>\n",
       "      <td>313.000000</td>\n",
       "      <td>11.5</td>\n",
       "      <td>62</td>\n",
       "      <td>5</td>\n",
       "      <td>4</td>\n",
       "    </tr>\n",
       "    <tr>\n",
       "      <th>5</th>\n",
       "      <td>42.12931</td>\n",
       "      <td>185.931507</td>\n",
       "      <td>14.3</td>\n",
       "      <td>56</td>\n",
       "      <td>5</td>\n",
       "      <td>5</td>\n",
       "    </tr>\n",
       "  </tbody>\n",
       "</table>\n",
       "</div>"
      ],
      "text/plain": [
       "       오존농도       태양복사량    풍속  온도  월  일\n",
       "1  41.00000  190.000000   7.4  67  5  1\n",
       "2  36.00000  118.000000   8.0  72  5  2\n",
       "3  12.00000  149.000000  12.6  74  5  3\n",
       "4  18.00000  313.000000  11.5  62  5  4\n",
       "5  42.12931  185.931507  14.3  56  5  5"
      ]
     },
     "execution_count": 130,
     "metadata": {},
     "output_type": "execute_result"
    }
   ],
   "source": [
    "df.head()"
   ]
  },
  {
   "cell_type": "code",
   "execution_count": 131,
   "id": "e87bb8e8",
   "metadata": {},
   "outputs": [],
   "source": [
    "# 연속형 변수: 숫자로 표현할 수 있고, 소수점으로 표현할 수 있는 변수\n",
    "# 예: 키, 몸무게, 온도\n",
    "# 범주형 변수: 서로 구분은 되는 범주, 그룹 (수치적인 의미가 없는 변수)\n",
    "# 예: 성별, 척도(매우좋음, 좋음, 보통), 혈액형"
   ]
  },
  {
   "cell_type": "code",
   "execution_count": 132,
   "id": "dd6a853d",
   "metadata": {},
   "outputs": [],
   "source": [
    "features = ['오존농도', '태양복사량', '풍속', '온도']"
   ]
  },
  {
   "cell_type": "code",
   "execution_count": 133,
   "id": "1f15651c",
   "metadata": {},
   "outputs": [
    {
     "data": {
      "image/png": "[encoded data removed]",
      "text/plain": [
       "<Figure size 1200x800 with 4 Axes>"
      ]
     },
     "metadata": {},
     "output_type": "display_data"
    }
   ],
   "source": [
    "fig, axs = plt.subplots(2, 2, figsize=(12, 8))\n",
    "for i, f in enumerate(features):\n",
    "    ax = axs[i//2, i%2]\n",
    "    ax.hist(df[f], bins=20, color='skyblue', edgecolor='black')\n",
    "    ax.set_title(f'{f}: 원본')\n",
    "    ax.set_xlabel(f)\n",
    "    ax.set_ylabel('빈도')\n",
    "\n",
    "plt.tight_layout()\n",
    "\n",
    "plt.show()"
   ]
  },
  {
   "cell_type": "code",
   "execution_count": 134,
   "id": "a4b87227",
   "metadata": {},
   "outputs": [],
   "source": [
    "# pip install scikit-learn"
   ]
  },
  {
   "cell_type": "code",
   "execution_count": 135,
   "id": "3ef93b27",
   "metadata": {},
   "outputs": [],
   "source": [
    "from sklearn.preprocessing import MinMaxScaler"
   ]
  },
  {
   "cell_type": "code",
   "execution_count": 136,
   "id": "bbe58530",
   "metadata": {},
   "outputs": [],
   "source": [
    "import_scaler = MinMaxScaler()"
   ]
  },
  {
   "cell_type": "code",
   "execution_count": 137,
   "id": "a91d6f72",
   "metadata": {},
   "outputs": [],
   "source": [
    "df_normalized = df.copy()"
   ]
  },
  {
   "cell_type": "code",
   "execution_count": 142,
   "id": "76adc767",
   "metadata": {},
   "outputs": [],
   "source": [
    "df_normalized[features] = import_scaler.fit_transform(df_normalized[features])"
   ]
  },
  {
   "cell_type": "code",
   "execution_count": 143,
   "id": "963b34a7",
   "metadata": {},
   "outputs": [
    {
     "data": {
      "text/html": [
       "<div>\n",
       "<style scoped>\n",
       "    .dataframe tbody tr th:only-of-type {\n",
       "        vertical-align: middle;\n",
       "    }\n",
       "\n",
       "    .dataframe tbody tr th {\n",
       "        vertical-align: top;\n",
       "    }\n",
       "\n",
       "    .dataframe thead th {\n",
       "        text-align: right;\n",
       "    }\n",
       "</style>\n",
       "<table border=\"1\" class=\"dataframe\">\n",
       "  <thead>\n",
       "    <tr style=\"text-align: right;\">\n",
       "      <th></th>\n",
       "      <th>오존농도</th>\n",
       "      <th>태양복사량</th>\n",
       "      <th>풍속</th>\n",
       "      <th>온도</th>\n",
       "      <th>월</th>\n",
       "      <th>일</th>\n",
       "    </tr>\n",
       "  </thead>\n",
       "  <tbody>\n",
       "    <tr>\n",
       "      <th>1</th>\n",
       "      <td>0.239521</td>\n",
       "      <td>0.559633</td>\n",
       "      <td>0.300000</td>\n",
       "      <td>0.268293</td>\n",
       "      <td>5</td>\n",
       "      <td>1</td>\n",
       "    </tr>\n",
       "    <tr>\n",
       "      <th>2</th>\n",
       "      <td>0.209581</td>\n",
       "      <td>0.339450</td>\n",
       "      <td>0.331579</td>\n",
       "      <td>0.390244</td>\n",
       "      <td>5</td>\n",
       "      <td>2</td>\n",
       "    </tr>\n",
       "    <tr>\n",
       "      <th>3</th>\n",
       "      <td>0.065868</td>\n",
       "      <td>0.434251</td>\n",
       "      <td>0.573684</td>\n",
       "      <td>0.439024</td>\n",
       "      <td>5</td>\n",
       "      <td>3</td>\n",
       "    </tr>\n",
       "    <tr>\n",
       "      <th>4</th>\n",
       "      <td>0.101796</td>\n",
       "      <td>0.935780</td>\n",
       "      <td>0.515789</td>\n",
       "      <td>0.146341</td>\n",
       "      <td>5</td>\n",
       "      <td>4</td>\n",
       "    </tr>\n",
       "    <tr>\n",
       "      <th>5</th>\n",
       "      <td>0.246283</td>\n",
       "      <td>0.547191</td>\n",
       "      <td>0.663158</td>\n",
       "      <td>0.000000</td>\n",
       "      <td>5</td>\n",
       "      <td>5</td>\n",
       "    </tr>\n",
       "  </tbody>\n",
       "</table>\n",
       "</div>"
      ],
      "text/plain": [
       "       오존농도     태양복사량        풍속        온도  월  일\n",
       "1  0.239521  0.559633  0.300000  0.268293  5  1\n",
       "2  0.209581  0.339450  0.331579  0.390244  5  2\n",
       "3  0.065868  0.434251  0.573684  0.439024  5  3\n",
       "4  0.101796  0.935780  0.515789  0.146341  5  4\n",
       "5  0.246283  0.547191  0.663158  0.000000  5  5"
      ]
     },
     "execution_count": 143,
     "metadata": {},
     "output_type": "execute_result"
    }
   ],
   "source": [
    "df_normalized.head()"
   ]
  },
  {
   "cell_type": "code",
   "execution_count": 146,
   "id": "be6b06a5",
   "metadata": {},
   "outputs": [
    {
     "data": {
      "image/png": "[encoded data removed]",
      "text/plain": [
       "<Figure size 1200x800 with 4 Axes>"
      ]
     },
     "metadata": {},
     "output_type": "display_data"
    }
   ],
   "source": [
    "fig, axs = plt.subplots(2, 2, figsize=(12, 8))\n",
    "for i, f in enumerate(features):\n",
    "    ax = axs[i//2, i%2]\n",
    "    ax.hist(df_normalized[f], bins=20, color='lightgreen', edgecolor='black')\n",
    "    ax.set_title(f'{f}: 정규화된 데이터')\n",
    "    ax.set_xlabel(f)\n",
    "    ax.set_ylabel('빈도')\n",
    "\n",
    "plt.tight_layout()\n",
    "\n",
    "plt.show()"
   ]
  },
  {
   "cell_type": "markdown",
   "id": "08bcd227",
   "metadata": {},
   "source": [
    "## 4. 표준화 (Standardization)\n",
    "- 데이터를 평균 0, 표준편차 1로 조정하는 방법 (정규분포화)\n",
    "### 4-1. Standard Scaling\n",
    "- 데이터가 고르게 분포되지 않았을 때 표준화"
   ]
  },
  {
   "cell_type": "code",
   "execution_count": 148,
   "id": "7b948896",
   "metadata": {},
   "outputs": [],
   "source": [
    "from sklearn.preprocessing import StandardScaler"
   ]
  },
  {
   "cell_type": "code",
   "execution_count": 149,
   "id": "39cd27cb",
   "metadata": {},
   "outputs": [],
   "source": [
    "scaler_std = StandardScaler()"
   ]
  },
  {
   "cell_type": "code",
   "execution_count": 153,
   "id": "2a99efd5",
   "metadata": {},
   "outputs": [],
   "source": [
    "df_standard = df.copy()"
   ]
  },
  {
   "cell_type": "code",
   "execution_count": 155,
   "id": "e983e3d0",
   "metadata": {},
   "outputs": [
    {
     "data": {
      "text/html": [
       "<div>\n",
       "<style scoped>\n",
       "    .dataframe tbody tr th:only-of-type {\n",
       "        vertical-align: middle;\n",
       "    }\n",
       "\n",
       "    .dataframe tbody tr th {\n",
       "        vertical-align: top;\n",
       "    }\n",
       "\n",
       "    .dataframe thead th {\n",
       "        text-align: right;\n",
       "    }\n",
       "</style>\n",
       "<table border=\"1\" class=\"dataframe\">\n",
       "  <thead>\n",
       "    <tr style=\"text-align: right;\">\n",
       "      <th></th>\n",
       "      <th>오존농도</th>\n",
       "      <th>태양복사량</th>\n",
       "      <th>풍속</th>\n",
       "      <th>온도</th>\n",
       "      <th>월</th>\n",
       "      <th>일</th>\n",
       "    </tr>\n",
       "  </thead>\n",
       "  <tbody>\n",
       "    <tr>\n",
       "      <th>1</th>\n",
       "      <td>-0.039487</td>\n",
       "      <td>0.046406</td>\n",
       "      <td>-0.728332</td>\n",
       "      <td>-1.153490</td>\n",
       "      <td>5</td>\n",
       "      <td>1</td>\n",
       "    </tr>\n",
       "    <tr>\n",
       "      <th>2</th>\n",
       "      <td>-0.214316</td>\n",
       "      <td>-0.774834</td>\n",
       "      <td>-0.557464</td>\n",
       "      <td>-0.623508</td>\n",
       "      <td>5</td>\n",
       "      <td>2</td>\n",
       "    </tr>\n",
       "    <tr>\n",
       "      <th>3</th>\n",
       "      <td>-1.053493</td>\n",
       "      <td>-0.421245</td>\n",
       "      <td>0.752529</td>\n",
       "      <td>-0.411515</td>\n",
       "      <td>5</td>\n",
       "      <td>3</td>\n",
       "    </tr>\n",
       "    <tr>\n",
       "      <th>4</th>\n",
       "      <td>-0.843698</td>\n",
       "      <td>1.449357</td>\n",
       "      <td>0.439270</td>\n",
       "      <td>-1.683472</td>\n",
       "      <td>5</td>\n",
       "      <td>4</td>\n",
       "    </tr>\n",
       "    <tr>\n",
       "      <th>5</th>\n",
       "      <td>0.000000</td>\n",
       "      <td>0.000000</td>\n",
       "      <td>1.236657</td>\n",
       "      <td>-2.319450</td>\n",
       "      <td>5</td>\n",
       "      <td>5</td>\n",
       "    </tr>\n",
       "  </tbody>\n",
       "</table>\n",
       "</div>"
      ],
      "text/plain": [
       "       오존농도     태양복사량        풍속        온도  월  일\n",
       "1 -0.039487  0.046406 -0.728332 -1.153490  5  1\n",
       "2 -0.214316 -0.774834 -0.557464 -0.623508  5  2\n",
       "3 -1.053493 -0.421245  0.752529 -0.411515  5  3\n",
       "4 -0.843698  1.449357  0.439270 -1.683472  5  4\n",
       "5  0.000000  0.000000  1.236657 -2.319450  5  5"
      ]
     },
     "execution_count": 155,
     "metadata": {},
     "output_type": "execute_result"
    }
   ],
   "source": [
    "df_standard[features] = scaler_std.fit_transform(df[features])\n",
    "df_standard.head()"
   ]
  },
  {
   "cell_type": "code",
   "execution_count": 157,
   "id": "332f58dd",
   "metadata": {},
   "outputs": [
    {
     "data": {
      "image/png": "[encoded data removed]",
      "text/plain": [
       "<Figure size 1200x800 with 4 Axes>"
      ]
     },
     "metadata": {},
     "output_type": "display_data"
    }
   ],
   "source": [
    "fig, axs = plt.subplots(2, 2, figsize=(12, 8))\n",
    "for i, f in enumerate(features):\n",
    "    ax = axs[i//2, i%2]\n",
    "    ax.hist(df_standard[f], bins=20, color='lightcoral', edgecolor='black')\n",
    "    ax.set_title(f'{f}: 표준화된 데이터')\n",
    "    ax.set_xlabel(f)\n",
    "    ax.set_ylabel('빈도')\n",
    "\n",
    "plt.tight_layout()\n",
    "\n",
    "plt.show()"
   ]
  },
  {
   "cell_type": "markdown",
   "id": "5d84986e",
   "metadata": {},
   "source": [
    "## 5. 데이터 인코딩 (Encoding)\n",
    "- 범주형 데이터를 수치형 데이터로 변환하여 머신러닝 알고리즘에 사용할 수 있도록 함"
   ]
  },
  {
   "cell_type": "code",
   "execution_count": 158,
   "id": "271c05bc",
   "metadata": {},
   "outputs": [],
   "source": [
    "import pandas as pd\n",
    "from sklearn.preprocessing import LabelEncoder"
   ]
  },
  {
   "cell_type": "code",
   "execution_count": 159,
   "id": "e94336a5",
   "metadata": {},
   "outputs": [],
   "source": [
    "person_data = {\n",
    "    '이름': ['김철수', '이영희', '박민수', '최지혜', '정현우'],\n",
    "    '성별': ['남', '여', '남', '여', '남']\n",
    "}"
   ]
  },
  {
   "cell_type": "code",
   "execution_count": 164,
   "id": "57335588",
   "metadata": {},
   "outputs": [
    {
     "data": {
      "text/html": [
       "<div>\n",
       "<style scoped>\n",
       "    .dataframe tbody tr th:only-of-type {\n",
       "        vertical-align: middle;\n",
       "    }\n",
       "\n",
       "    .dataframe tbody tr th {\n",
       "        vertical-align: top;\n",
       "    }\n",
       "\n",
       "    .dataframe thead th {\n",
       "        text-align: right;\n",
       "    }\n",
       "</style>\n",
       "<table border=\"1\" class=\"dataframe\">\n",
       "  <thead>\n",
       "    <tr style=\"text-align: right;\">\n",
       "      <th></th>\n",
       "      <th>이름</th>\n",
       "      <th>성별</th>\n",
       "    </tr>\n",
       "  </thead>\n",
       "  <tbody>\n",
       "    <tr>\n",
       "      <th>0</th>\n",
       "      <td>김철수</td>\n",
       "      <td>남</td>\n",
       "    </tr>\n",
       "    <tr>\n",
       "      <th>1</th>\n",
       "      <td>이영희</td>\n",
       "      <td>여</td>\n",
       "    </tr>\n",
       "    <tr>\n",
       "      <th>2</th>\n",
       "      <td>박민수</td>\n",
       "      <td>남</td>\n",
       "    </tr>\n",
       "    <tr>\n",
       "      <th>3</th>\n",
       "      <td>최지혜</td>\n",
       "      <td>여</td>\n",
       "    </tr>\n",
       "    <tr>\n",
       "      <th>4</th>\n",
       "      <td>정현우</td>\n",
       "      <td>남</td>\n",
       "    </tr>\n",
       "  </tbody>\n",
       "</table>\n",
       "</div>"
      ],
      "text/plain": [
       "    이름 성별\n",
       "0  김철수  남\n",
       "1  이영희  여\n",
       "2  박민수  남\n",
       "3  최지혜  여\n",
       "4  정현우  남"
      ]
     },
     "execution_count": 164,
     "metadata": {},
     "output_type": "execute_result"
    }
   ],
   "source": [
    "person_df = pd.DataFrame(person_data)\n",
    "person_df"
   ]
  },
  {
   "cell_type": "code",
   "execution_count": null,
   "id": "c875e0e6",
   "metadata": {},
   "outputs": [
    {
     "data": {
      "text/html": [
       "<div>\n",
       "<style scoped>\n",
       "    .dataframe tbody tr th:only-of-type {\n",
       "        vertical-align: middle;\n",
       "    }\n",
       "\n",
       "    .dataframe tbody tr th {\n",
       "        vertical-align: top;\n",
       "    }\n",
       "\n",
       "    .dataframe thead th {\n",
       "        text-align: right;\n",
       "    }\n",
       "</style>\n",
       "<table border=\"1\" class=\"dataframe\">\n",
       "  <thead>\n",
       "    <tr style=\"text-align: right;\">\n",
       "      <th></th>\n",
       "      <th>이름</th>\n",
       "      <th>성별</th>\n",
       "      <th>성별_인코딩</th>\n",
       "    </tr>\n",
       "  </thead>\n",
       "  <tbody>\n",
       "    <tr>\n",
       "      <th>0</th>\n",
       "      <td>김철수</td>\n",
       "      <td>남</td>\n",
       "      <td>0</td>\n",
       "    </tr>\n",
       "    <tr>\n",
       "      <th>1</th>\n",
       "      <td>이영희</td>\n",
       "      <td>여</td>\n",
       "      <td>1</td>\n",
       "    </tr>\n",
       "    <tr>\n",
       "      <th>2</th>\n",
       "      <td>박민수</td>\n",
       "      <td>남</td>\n",
       "      <td>0</td>\n",
       "    </tr>\n",
       "    <tr>\n",
       "      <th>3</th>\n",
       "      <td>최지혜</td>\n",
       "      <td>여</td>\n",
       "      <td>1</td>\n",
       "    </tr>\n",
       "    <tr>\n",
       "      <th>4</th>\n",
       "      <td>정현우</td>\n",
       "      <td>남</td>\n",
       "      <td>0</td>\n",
       "    </tr>\n",
       "  </tbody>\n",
       "</table>\n",
       "</div>"
      ],
      "text/plain": [
       "    이름 성별  성별_인코딩\n",
       "0  김철수  남       0\n",
       "1  이영희  여       1\n",
       "2  박민수  남       0\n",
       "3  최지혜  여       1\n",
       "4  정현우  남       0"
      ]
     },
     "execution_count": 165,
     "metadata": {},
     "output_type": "execute_result"
    }
   ],
   "source": [
    "encoder = LabelEncoder()  # 인코딩 결과 값을 지정할 수 없다\n",
    "person_df['성별_인코딩'] = encoder.fit_transform(person_df['성별'])\n",
    "person_df"
   ]
  },
  {
   "cell_type": "markdown",
   "id": "80dc65e0",
   "metadata": {},
   "source": [
    "### 5-1. Label Encoding\n",
    "- 수동 인코딩, 성별을 1(남), 0(여)로 변환"
   ]
  },
  {
   "cell_type": "code",
   "execution_count": 166,
   "id": "d84d8471",
   "metadata": {},
   "outputs": [
    {
     "data": {
      "text/html": [
       "<div>\n",
       "<style scoped>\n",
       "    .dataframe tbody tr th:only-of-type {\n",
       "        vertical-align: middle;\n",
       "    }\n",
       "\n",
       "    .dataframe tbody tr th {\n",
       "        vertical-align: top;\n",
       "    }\n",
       "\n",
       "    .dataframe thead th {\n",
       "        text-align: right;\n",
       "    }\n",
       "</style>\n",
       "<table border=\"1\" class=\"dataframe\">\n",
       "  <thead>\n",
       "    <tr style=\"text-align: right;\">\n",
       "      <th></th>\n",
       "      <th>이름</th>\n",
       "      <th>성별</th>\n",
       "    </tr>\n",
       "  </thead>\n",
       "  <tbody>\n",
       "    <tr>\n",
       "      <th>0</th>\n",
       "      <td>김철수</td>\n",
       "      <td>남</td>\n",
       "    </tr>\n",
       "    <tr>\n",
       "      <th>1</th>\n",
       "      <td>이영희</td>\n",
       "      <td>여</td>\n",
       "    </tr>\n",
       "    <tr>\n",
       "      <th>2</th>\n",
       "      <td>박민수</td>\n",
       "      <td>남</td>\n",
       "    </tr>\n",
       "    <tr>\n",
       "      <th>3</th>\n",
       "      <td>최지혜</td>\n",
       "      <td>여</td>\n",
       "    </tr>\n",
       "    <tr>\n",
       "      <th>4</th>\n",
       "      <td>정현우</td>\n",
       "      <td>남</td>\n",
       "    </tr>\n",
       "  </tbody>\n",
       "</table>\n",
       "</div>"
      ],
      "text/plain": [
       "    이름 성별\n",
       "0  김철수  남\n",
       "1  이영희  여\n",
       "2  박민수  남\n",
       "3  최지혜  여\n",
       "4  정현우  남"
      ]
     },
     "execution_count": 166,
     "metadata": {},
     "output_type": "execute_result"
    }
   ],
   "source": [
    "person_df2 = pd.DataFrame(person_data)\n",
    "person_df2"
   ]
  },
  {
   "cell_type": "code",
   "execution_count": null,
   "id": "b4bcf6f7",
   "metadata": {},
   "outputs": [
    {
     "data": {
      "text/html": [
       "<div>\n",
       "<style scoped>\n",
       "    .dataframe tbody tr th:only-of-type {\n",
       "        vertical-align: middle;\n",
       "    }\n",
       "\n",
       "    .dataframe tbody tr th {\n",
       "        vertical-align: top;\n",
       "    }\n",
       "\n",
       "    .dataframe thead th {\n",
       "        text-align: right;\n",
       "    }\n",
       "</style>\n",
       "<table border=\"1\" class=\"dataframe\">\n",
       "  <thead>\n",
       "    <tr style=\"text-align: right;\">\n",
       "      <th></th>\n",
       "      <th>이름</th>\n",
       "      <th>성별</th>\n",
       "      <th>성별_인코딩</th>\n",
       "    </tr>\n",
       "  </thead>\n",
       "  <tbody>\n",
       "    <tr>\n",
       "      <th>0</th>\n",
       "      <td>김철수</td>\n",
       "      <td>남</td>\n",
       "      <td>1</td>\n",
       "    </tr>\n",
       "    <tr>\n",
       "      <th>1</th>\n",
       "      <td>이영희</td>\n",
       "      <td>여</td>\n",
       "      <td>0</td>\n",
       "    </tr>\n",
       "    <tr>\n",
       "      <th>2</th>\n",
       "      <td>박민수</td>\n",
       "      <td>남</td>\n",
       "      <td>1</td>\n",
       "    </tr>\n",
       "    <tr>\n",
       "      <th>3</th>\n",
       "      <td>최지혜</td>\n",
       "      <td>여</td>\n",
       "      <td>0</td>\n",
       "    </tr>\n",
       "    <tr>\n",
       "      <th>4</th>\n",
       "      <td>정현우</td>\n",
       "      <td>남</td>\n",
       "      <td>1</td>\n",
       "    </tr>\n",
       "  </tbody>\n",
       "</table>\n",
       "</div>"
      ],
      "text/plain": [
       "    이름 성별  성별_인코딩\n",
       "0  김철수  남       1\n",
       "1  이영희  여       0\n",
       "2  박민수  남       1\n",
       "3  최지혜  여       0\n",
       "4  정현우  남       1"
      ]
     },
     "execution_count": 167,
     "metadata": {},
     "output_type": "execute_result"
    }
   ],
   "source": [
    "# lambda는 apply와 세트로 사용된다\n",
    "person_df2['성별_인코딩'] = person_df2['성별'].apply(lambda x:1 if x == '남' else 0)\n",
    "person_df2"
   ]
  },
  {
   "cell_type": "code",
   "execution_count": 172,
   "id": "a5fdae68",
   "metadata": {},
   "outputs": [
    {
     "data": {
      "text/plain": [
       "0    2\n",
       "1    4\n",
       "2    6\n",
       "3    8\n",
       "dtype: int64"
      ]
     },
     "execution_count": 172,
     "metadata": {},
     "output_type": "execute_result"
    }
   ],
   "source": [
    "a = pd.Series([1, 2, 3, 4])\n",
    "\n",
    "a_map = a.map(lambda x: x*2)\n",
    "a_map"
   ]
  },
  {
   "cell_type": "markdown",
   "id": "55a9be98",
   "metadata": {},
   "source": [
    "### 5-2. One-Hot Encoding\n",
    "- 성별을 남/여로 나누어 각각의 열로 변환\n",
    "- One-Hot Encoding은 범주형 데이터를 이진 변수로 변환하여, 각 범주를 독립적인 열로 만듦"
   ]
  },
  {
   "cell_type": "code",
   "execution_count": 174,
   "id": "a5afc5ee",
   "metadata": {},
   "outputs": [
    {
     "data": {
      "text/html": [
       "<div>\n",
       "<style scoped>\n",
       "    .dataframe tbody tr th:only-of-type {\n",
       "        vertical-align: middle;\n",
       "    }\n",
       "\n",
       "    .dataframe tbody tr th {\n",
       "        vertical-align: top;\n",
       "    }\n",
       "\n",
       "    .dataframe thead th {\n",
       "        text-align: right;\n",
       "    }\n",
       "</style>\n",
       "<table border=\"1\" class=\"dataframe\">\n",
       "  <thead>\n",
       "    <tr style=\"text-align: right;\">\n",
       "      <th></th>\n",
       "      <th>이름</th>\n",
       "      <th>성별</th>\n",
       "    </tr>\n",
       "  </thead>\n",
       "  <tbody>\n",
       "    <tr>\n",
       "      <th>0</th>\n",
       "      <td>김철수</td>\n",
       "      <td>남</td>\n",
       "    </tr>\n",
       "    <tr>\n",
       "      <th>1</th>\n",
       "      <td>이영희</td>\n",
       "      <td>여</td>\n",
       "    </tr>\n",
       "    <tr>\n",
       "      <th>2</th>\n",
       "      <td>박민수</td>\n",
       "      <td>남</td>\n",
       "    </tr>\n",
       "    <tr>\n",
       "      <th>3</th>\n",
       "      <td>최지혜</td>\n",
       "      <td>여</td>\n",
       "    </tr>\n",
       "    <tr>\n",
       "      <th>4</th>\n",
       "      <td>정현우</td>\n",
       "      <td>남</td>\n",
       "    </tr>\n",
       "  </tbody>\n",
       "</table>\n",
       "</div>"
      ],
      "text/plain": [
       "    이름 성별\n",
       "0  김철수  남\n",
       "1  이영희  여\n",
       "2  박민수  남\n",
       "3  최지혜  여\n",
       "4  정현우  남"
      ]
     },
     "execution_count": 174,
     "metadata": {},
     "output_type": "execute_result"
    }
   ],
   "source": [
    "person_df3 = pd.DataFrame(person_data)\n",
    "person_df3"
   ]
  },
  {
   "cell_type": "code",
   "execution_count": 178,
   "id": "82c05dd8",
   "metadata": {},
   "outputs": [
    {
     "data": {
      "text/html": [
       "<div>\n",
       "<style scoped>\n",
       "    .dataframe tbody tr th:only-of-type {\n",
       "        vertical-align: middle;\n",
       "    }\n",
       "\n",
       "    .dataframe tbody tr th {\n",
       "        vertical-align: top;\n",
       "    }\n",
       "\n",
       "    .dataframe thead th {\n",
       "        text-align: right;\n",
       "    }\n",
       "</style>\n",
       "<table border=\"1\" class=\"dataframe\">\n",
       "  <thead>\n",
       "    <tr style=\"text-align: right;\">\n",
       "      <th></th>\n",
       "      <th>이름</th>\n",
       "      <th>성별_남</th>\n",
       "      <th>성별_여</th>\n",
       "    </tr>\n",
       "  </thead>\n",
       "  <tbody>\n",
       "    <tr>\n",
       "      <th>0</th>\n",
       "      <td>김철수</td>\n",
       "      <td>True</td>\n",
       "      <td>False</td>\n",
       "    </tr>\n",
       "    <tr>\n",
       "      <th>1</th>\n",
       "      <td>이영희</td>\n",
       "      <td>False</td>\n",
       "      <td>True</td>\n",
       "    </tr>\n",
       "    <tr>\n",
       "      <th>2</th>\n",
       "      <td>박민수</td>\n",
       "      <td>True</td>\n",
       "      <td>False</td>\n",
       "    </tr>\n",
       "    <tr>\n",
       "      <th>3</th>\n",
       "      <td>최지혜</td>\n",
       "      <td>False</td>\n",
       "      <td>True</td>\n",
       "    </tr>\n",
       "    <tr>\n",
       "      <th>4</th>\n",
       "      <td>정현우</td>\n",
       "      <td>True</td>\n",
       "      <td>False</td>\n",
       "    </tr>\n",
       "  </tbody>\n",
       "</table>\n",
       "</div>"
      ],
      "text/plain": [
       "    이름   성별_남   성별_여\n",
       "0  김철수   True  False\n",
       "1  이영희  False   True\n",
       "2  박민수   True  False\n",
       "3  최지혜  False   True\n",
       "4  정현우   True  False"
      ]
     },
     "execution_count": 178,
     "metadata": {},
     "output_type": "execute_result"
    }
   ],
   "source": [
    "df_onehot = pd.get_dummies(person_df3, columns=['성별'])\n",
    "df_onehot"
   ]
  },
  {
   "cell_type": "markdown",
   "id": "4f9c31f3",
   "metadata": {},
   "source": [
    "## 6. 통계적 검정\n",
    "- 데이터를 바탕으로 하여 특정 가설이 `참`인지 `거짓`인지를 판단하는 과정\n",
    "- 일반적으로 두 집단 간의 차이를 비교하거나, 변수 간의 관계를 분석할 때 사용  \n",
    "\n",
    "|용어|설명|\n",
    "|--|--|\n",
    "|모집단|전체 데이터를 의미하며, 분석 대상이 되는 큰 그룹.|\n",
    "|표본|모집단에서 선택한 일부 데이터를 의미함.|\n",
    "|귀무가설(H0)|차이가 없거나 관계가 없다고 가정하는 기본 가설.|\n",
    "|대립가설(H1)|차이가 있거나 관계가 있다는 가정.|\n",
    "|유의수준(α)|보통 0.05로 설정하며, 결과가 우연일 가능성을 의미함.|\n",
    "|p-value|귀무가설이 맞다는 전제하에 데이터가 관측될 확률.|\n"
   ]
  },
  {
   "cell_type": "markdown",
   "id": "07a97357",
   "metadata": {},
   "source": [
    "## 7. T-TEST\n",
    "- 두 그룹 간의 평균 차이를 비교하는 통계 방법\n",
    "- p-value가 0.05보다 작으면 두 그룹 간의 차이가 유의미하다고 판단"
   ]
  },
  {
   "cell_type": "code",
   "execution_count": 179,
   "id": "02ea481a",
   "metadata": {},
   "outputs": [],
   "source": [
    "import numpy as np\n",
    "from scipy.stats import ttest_ind, f_oneway, chi2_contingency"
   ]
  },
  {
   "cell_type": "code",
   "execution_count": null,
   "id": "ceec05e9",
   "metadata": {},
   "outputs": [
    {
     "data": {
      "text/plain": [
       "[89.96028115858846,\n",
       " 87.59688583887356,\n",
       " 75.11267707590774,\n",
       " 80.48047633377338,\n",
       " 70.88836228821731,\n",
       " 68.00258065658265,\n",
       " 63.51124268329367,\n",
       " 80.85550413826364,\n",
       " 91.1121179061263,\n",
       " 89.63613012230022]"
      ]
     },
     "execution_count": 180,
     "metadata": {},
     "output_type": "execute_result"
    }
   ],
   "source": [
    "np.random.normal(80, 10, 10).tolist()  # 평균 80, 표준편차 10의 데이터 10개 랜덤으로 생성"
   ]
  },
  {
   "cell_type": "code",
   "execution_count": 183,
   "id": "91a14d00",
   "metadata": {},
   "outputs": [],
   "source": [
    "data_ttest = pd.DataFrame({\n",
    "    '성별': ['남']*10 + ['여']*10,\n",
    "    '점수': np.random.normal(75, 10, 10).tolist() + np.random.normal(80, 10, 10).tolist()\n",
    "})"
   ]
  },
  {
   "cell_type": "code",
   "execution_count": 192,
   "id": "cbf3fa02",
   "metadata": {},
   "outputs": [
    {
     "data": {
      "text/html": [
       "<div>\n",
       "<style scoped>\n",
       "    .dataframe tbody tr th:only-of-type {\n",
       "        vertical-align: middle;\n",
       "    }\n",
       "\n",
       "    .dataframe tbody tr th {\n",
       "        vertical-align: top;\n",
       "    }\n",
       "\n",
       "    .dataframe thead th {\n",
       "        text-align: right;\n",
       "    }\n",
       "</style>\n",
       "<table border=\"1\" class=\"dataframe\">\n",
       "  <thead>\n",
       "    <tr style=\"text-align: right;\">\n",
       "      <th></th>\n",
       "      <th>성별</th>\n",
       "      <th>점수</th>\n",
       "    </tr>\n",
       "  </thead>\n",
       "  <tbody>\n",
       "    <tr>\n",
       "      <th>0</th>\n",
       "      <td>남</td>\n",
       "      <td>66.245906</td>\n",
       "    </tr>\n",
       "    <tr>\n",
       "      <th>1</th>\n",
       "      <td>남</td>\n",
       "      <td>92.345856</td>\n",
       "    </tr>\n",
       "    <tr>\n",
       "      <th>2</th>\n",
       "      <td>남</td>\n",
       "      <td>78.859018</td>\n",
       "    </tr>\n",
       "    <tr>\n",
       "      <th>3</th>\n",
       "      <td>남</td>\n",
       "      <td>76.236486</td>\n",
       "    </tr>\n",
       "    <tr>\n",
       "      <th>4</th>\n",
       "      <td>남</td>\n",
       "      <td>76.162520</td>\n",
       "    </tr>\n",
       "  </tbody>\n",
       "</table>\n",
       "</div>"
      ],
      "text/plain": [
       "  성별         점수\n",
       "0  남  66.245906\n",
       "1  남  92.345856\n",
       "2  남  78.859018\n",
       "3  남  76.236486\n",
       "4  남  76.162520"
      ]
     },
     "execution_count": 192,
     "metadata": {},
     "output_type": "execute_result"
    }
   ],
   "source": [
    "data_ttest.head()"
   ]
  },
  {
   "cell_type": "code",
   "execution_count": 191,
   "id": "725bafa5",
   "metadata": {},
   "outputs": [
    {
     "data": {
      "text/plain": [
       "0    66.245906\n",
       "1    92.345856\n",
       "2    78.859018\n",
       "3    76.236486\n",
       "4    76.162520\n",
       "5    73.950308\n",
       "6    71.448235\n",
       "7    75.751211\n",
       "8    62.861794\n",
       "9    77.797878\n",
       "Name: 점수, dtype: float64"
      ]
     },
     "execution_count": 191,
     "metadata": {},
     "output_type": "execute_result"
    }
   ],
   "source": [
    "man = data_ttest[data_ttest['성별'] == '남']['점수']\n",
    "man"
   ]
  },
  {
   "cell_type": "code",
   "execution_count": 193,
   "id": "727efdcd",
   "metadata": {},
   "outputs": [
    {
     "data": {
      "text/plain": [
       "10     81.275718\n",
       "11    100.260018\n",
       "12     91.826214\n",
       "13     78.431724\n",
       "14     80.883937\n",
       "15     75.433000\n",
       "16    100.516800\n",
       "17     70.443158\n",
       "18     70.934757\n",
       "19     72.218282\n",
       "Name: 점수, dtype: float64"
      ]
     },
     "execution_count": 193,
     "metadata": {},
     "output_type": "execute_result"
    }
   ],
   "source": [
    "woman = data_ttest[data_ttest['성별'] == '여']['점수']\n",
    "woman"
   ]
  },
  {
   "cell_type": "code",
   "execution_count": null,
   "id": "06bdea3f",
   "metadata": {},
   "outputs": [
    {
     "name": "stdout",
     "output_type": "stream",
     "text": [
      "p-value: 0.12655350722050626\n"
     ]
    }
   ],
   "source": [
    "t_stat, p_val = ttest_ind(man, woman)\n",
    "print(f'p-value: {p_val}')\n",
    "\n",
    "# p-value가 0.05 이하로 나타나면 두 그룹의 평균에 유의미한 차이가 있다고 판단\n",
    "# 귀무가설: 두 집단 사이에 유의미한 차이가 없다\n",
    "# 두 집단에 유의미한 차이가 있다: 귀무가설을 기각\n",
    "# 현재는 p-value의 값이 0.05보다 크기 때문에 귀무가설이 맞다 (두 집단 사이에 유의미한 차이가 없다)"
   ]
  },
  {
   "cell_type": "code",
   "execution_count": 198,
   "id": "af261bbd",
   "metadata": {},
   "outputs": [
    {
     "data": {
      "text/html": [
       "<div>\n",
       "<style scoped>\n",
       "    .dataframe tbody tr th:only-of-type {\n",
       "        vertical-align: middle;\n",
       "    }\n",
       "\n",
       "    .dataframe tbody tr th {\n",
       "        vertical-align: top;\n",
       "    }\n",
       "\n",
       "    .dataframe thead th {\n",
       "        text-align: right;\n",
       "    }\n",
       "</style>\n",
       "<table border=\"1\" class=\"dataframe\">\n",
       "  <thead>\n",
       "    <tr style=\"text-align: right;\">\n",
       "      <th></th>\n",
       "      <th>그룹</th>\n",
       "      <th>점수</th>\n",
       "    </tr>\n",
       "  </thead>\n",
       "  <tbody>\n",
       "    <tr>\n",
       "      <th>0</th>\n",
       "      <td>A</td>\n",
       "      <td>71.417760</td>\n",
       "    </tr>\n",
       "    <tr>\n",
       "      <th>1</th>\n",
       "      <td>A</td>\n",
       "      <td>66.307685</td>\n",
       "    </tr>\n",
       "    <tr>\n",
       "      <th>2</th>\n",
       "      <td>A</td>\n",
       "      <td>70.671187</td>\n",
       "    </tr>\n",
       "    <tr>\n",
       "      <th>3</th>\n",
       "      <td>A</td>\n",
       "      <td>53.643535</td>\n",
       "    </tr>\n",
       "    <tr>\n",
       "      <th>4</th>\n",
       "      <td>A</td>\n",
       "      <td>53.503210</td>\n",
       "    </tr>\n",
       "  </tbody>\n",
       "</table>\n",
       "</div>"
      ],
      "text/plain": [
       "  그룹         점수\n",
       "0  A  71.417760\n",
       "1  A  66.307685\n",
       "2  A  70.671187\n",
       "3  A  53.643535\n",
       "4  A  53.503210"
      ]
     },
     "execution_count": 198,
     "metadata": {},
     "output_type": "execute_result"
    }
   ],
   "source": [
    "# ANOVA: 세 그룹 간 평균을 비교\n",
    "data_anova = pd.DataFrame({\n",
    "    '그룹': ['A']*10 + ['B']*10 + ['C']*10,\n",
    "    '점수': np.random.normal(70, 10, 10).tolist() + np.random.normal(75, 10, 10).tolist() + np.random.normal(80, 10, 10).tolist()\n",
    "})\n",
    "data_anova.head()"
   ]
  },
  {
   "cell_type": "code",
   "execution_count": 199,
   "id": "af5bd712",
   "metadata": {},
   "outputs": [],
   "source": [
    "A = data_anova[data_anova['그룹'] == 'A']['점수']\n",
    "B = data_anova[data_anova['그룹'] == 'B']['점수']\n",
    "C = data_anova[data_anova['그룹'] == 'C']['점수']"
   ]
  },
  {
   "cell_type": "code",
   "execution_count": null,
   "id": "8916bc6e",
   "metadata": {},
   "outputs": [
    {
     "name": "stdout",
     "output_type": "stream",
     "text": [
      "p-value: 0.0006490754466825418\n"
     ]
    }
   ],
   "source": [
    "f_stat, p_val = f_oneway(A, B, C)\n",
    "print(f'p-value: {p_val}')\n",
    "\n",
    "# p-value가 0.05보다 작으므로 귀무가설이 기각되었다. 세 집단 사이의 점수 평균은 유의미한 차이가 있다.\n",
    "# f-stat의 크기가 크면 집단 간 차이가 크다."
   ]
  },
  {
   "cell_type": "code",
   "execution_count": 211,
   "id": "a2cb8986",
   "metadata": {},
   "outputs": [
    {
     "data": {
      "text/html": [
       "<div>\n",
       "<style scoped>\n",
       "    .dataframe tbody tr th:only-of-type {\n",
       "        vertical-align: middle;\n",
       "    }\n",
       "\n",
       "    .dataframe tbody tr th {\n",
       "        vertical-align: top;\n",
       "    }\n",
       "\n",
       "    .dataframe thead th {\n",
       "        text-align: right;\n",
       "    }\n",
       "</style>\n",
       "<table border=\"1\" class=\"dataframe\">\n",
       "  <thead>\n",
       "    <tr style=\"text-align: right;\">\n",
       "      <th></th>\n",
       "      <th>지역</th>\n",
       "      <th>만족도</th>\n",
       "    </tr>\n",
       "  </thead>\n",
       "  <tbody>\n",
       "    <tr>\n",
       "      <th>0</th>\n",
       "      <td>서울</td>\n",
       "      <td>만족</td>\n",
       "    </tr>\n",
       "    <tr>\n",
       "      <th>1</th>\n",
       "      <td>서울</td>\n",
       "      <td>만족</td>\n",
       "    </tr>\n",
       "    <tr>\n",
       "      <th>2</th>\n",
       "      <td>서울</td>\n",
       "      <td>만족</td>\n",
       "    </tr>\n",
       "    <tr>\n",
       "      <th>3</th>\n",
       "      <td>서울</td>\n",
       "      <td>만족</td>\n",
       "    </tr>\n",
       "    <tr>\n",
       "      <th>4</th>\n",
       "      <td>서울</td>\n",
       "      <td>만족</td>\n",
       "    </tr>\n",
       "  </tbody>\n",
       "</table>\n",
       "</div>"
      ],
      "text/plain": [
       "   지역 만족도\n",
       "0  서울  만족\n",
       "1  서울  만족\n",
       "2  서울  만족\n",
       "3  서울  만족\n",
       "4  서울  만족"
      ]
     },
     "execution_count": 211,
     "metadata": {},
     "output_type": "execute_result"
    }
   ],
   "source": [
    "# 카이제곱검정, 범주형 변수 간의 독립성을 검정\n",
    "# 고객이 만족도 조사를 했는데, 그 조사를 한 지역이 서울과 부산으로 두 가지 입니다.\n",
    "data_chi2 = pd.DataFrame({\n",
    "    '지역': ['서울']*50 + ['부산']*50,\n",
    "    '만족도': ['만족']*30 + ['불만족']*20 + ['만족']*25 + ['불만족']*25\n",
    "})\n",
    "data_chi2.head()"
   ]
  },
  {
   "cell_type": "code",
   "execution_count": 212,
   "id": "d200cba4",
   "metadata": {},
   "outputs": [
    {
     "data": {
      "text/html": [
       "<div>\n",
       "<style scoped>\n",
       "    .dataframe tbody tr th:only-of-type {\n",
       "        vertical-align: middle;\n",
       "    }\n",
       "\n",
       "    .dataframe tbody tr th {\n",
       "        vertical-align: top;\n",
       "    }\n",
       "\n",
       "    .dataframe thead th {\n",
       "        text-align: right;\n",
       "    }\n",
       "</style>\n",
       "<table border=\"1\" class=\"dataframe\">\n",
       "  <thead>\n",
       "    <tr style=\"text-align: right;\">\n",
       "      <th>만족도</th>\n",
       "      <th>만족</th>\n",
       "      <th>불만족</th>\n",
       "    </tr>\n",
       "    <tr>\n",
       "      <th>지역</th>\n",
       "      <th></th>\n",
       "      <th></th>\n",
       "    </tr>\n",
       "  </thead>\n",
       "  <tbody>\n",
       "    <tr>\n",
       "      <th>부산</th>\n",
       "      <td>25</td>\n",
       "      <td>25</td>\n",
       "    </tr>\n",
       "    <tr>\n",
       "      <th>서울</th>\n",
       "      <td>30</td>\n",
       "      <td>20</td>\n",
       "    </tr>\n",
       "  </tbody>\n",
       "</table>\n",
       "</div>"
      ],
      "text/plain": [
       "만족도  만족  불만족\n",
       "지역          \n",
       "부산   25   25\n",
       "서울   30   20"
      ]
     },
     "execution_count": 212,
     "metadata": {},
     "output_type": "execute_result"
    }
   ],
   "source": [
    "cross_table = pd.crosstab(data_chi2['지역'], data_chi2['만족도'])\n",
    "cross_table"
   ]
  },
  {
   "cell_type": "code",
   "execution_count": null,
   "id": "aac06fcb",
   "metadata": {},
   "outputs": [
    {
     "name": "stdout",
     "output_type": "stream",
     "text": [
      "chi2: 0.6464646464646464, p-value: 0.4213795037428697\n"
     ]
    }
   ],
   "source": [
    "chi2, p_val_chi2, _, _ = chi2_contingency(cross_table)\n",
    "print(f'chi2: {chi2}, p-value: {p_val_chi2}')\n",
    "\n",
    "# 값이 작을수록 독립성이 있어서 서로 관계가 없다고 판단\n",
    "# p-value가 0.05보다 크므로 두 변수 간의 관계가 통계적으로 유의미하지 않다\n",
    "# 두 변수는 독립적이다"
   ]
  },
  {
   "cell_type": "markdown",
   "id": "8b4a5e42",
   "metadata": {},
   "source": [
    "### Q. 전처리"
   ]
  },
  {
   "cell_type": "code",
   "execution_count": 230,
   "id": "0c2bf8ef",
   "metadata": {},
   "outputs": [
    {
     "data": {
      "text/html": [
       "<div>\n",
       "<style scoped>\n",
       "    .dataframe tbody tr th:only-of-type {\n",
       "        vertical-align: middle;\n",
       "    }\n",
       "\n",
       "    .dataframe tbody tr th {\n",
       "        vertical-align: top;\n",
       "    }\n",
       "\n",
       "    .dataframe thead th {\n",
       "        text-align: right;\n",
       "    }\n",
       "</style>\n",
       "<table border=\"1\" class=\"dataframe\">\n",
       "  <thead>\n",
       "    <tr style=\"text-align: right;\">\n",
       "      <th></th>\n",
       "      <th>Sepal.Length</th>\n",
       "      <th>Sepal.Width</th>\n",
       "      <th>Petal.Length</th>\n",
       "      <th>Petal.Width</th>\n",
       "      <th>Species</th>\n",
       "    </tr>\n",
       "  </thead>\n",
       "  <tbody>\n",
       "    <tr>\n",
       "      <th>1</th>\n",
       "      <td>5.1</td>\n",
       "      <td>3.5</td>\n",
       "      <td>1.4</td>\n",
       "      <td>0.2</td>\n",
       "      <td>setosa</td>\n",
       "    </tr>\n",
       "    <tr>\n",
       "      <th>2</th>\n",
       "      <td>4.9</td>\n",
       "      <td>3.0</td>\n",
       "      <td>1.4</td>\n",
       "      <td>0.2</td>\n",
       "      <td>setosa</td>\n",
       "    </tr>\n",
       "    <tr>\n",
       "      <th>3</th>\n",
       "      <td>4.7</td>\n",
       "      <td>3.2</td>\n",
       "      <td>1.3</td>\n",
       "      <td>0.2</td>\n",
       "      <td>setosa</td>\n",
       "    </tr>\n",
       "    <tr>\n",
       "      <th>4</th>\n",
       "      <td>4.6</td>\n",
       "      <td>3.1</td>\n",
       "      <td>1.5</td>\n",
       "      <td>0.2</td>\n",
       "      <td>setosa</td>\n",
       "    </tr>\n",
       "    <tr>\n",
       "      <th>5</th>\n",
       "      <td>5.0</td>\n",
       "      <td>3.6</td>\n",
       "      <td>1.4</td>\n",
       "      <td>0.2</td>\n",
       "      <td>setosa</td>\n",
       "    </tr>\n",
       "  </tbody>\n",
       "</table>\n",
       "</div>"
      ],
      "text/plain": [
       "   Sepal.Length  Sepal.Width  Petal.Length  Petal.Width Species\n",
       "1           5.1          3.5           1.4          0.2  setosa\n",
       "2           4.9          3.0           1.4          0.2  setosa\n",
       "3           4.7          3.2           1.3          0.2  setosa\n",
       "4           4.6          3.1           1.5          0.2  setosa\n",
       "5           5.0          3.6           1.4          0.2  setosa"
      ]
     },
     "execution_count": 230,
     "metadata": {},
     "output_type": "execute_result"
    }
   ],
   "source": [
    "iris = data('iris')\n",
    "iris.head()\n",
    "# 꽃받침 길이, 꽃받침 너비, 꽃잎 길이, 꽃잎 너비, 꽃 종류"
   ]
  },
  {
   "cell_type": "code",
   "execution_count": 216,
   "id": "05dd323a",
   "metadata": {},
   "outputs": [
    {
     "data": {
      "text/plain": [
       "array(['setosa', 'versicolor', 'virginica'], dtype=object)"
      ]
     },
     "execution_count": 216,
     "metadata": {},
     "output_type": "execute_result"
    }
   ],
   "source": [
    "iris['Species'].unique()"
   ]
  },
  {
   "cell_type": "markdown",
   "id": "2a86744e",
   "metadata": {},
   "source": [
    "1. 이상치 처리"
   ]
  },
  {
   "cell_type": "code",
   "execution_count": 217,
   "id": "800e217a",
   "metadata": {},
   "outputs": [
    {
     "data": {
      "text/plain": [
       "Sepal.Length    0\n",
       "Sepal.Width     0\n",
       "Petal.Length    0\n",
       "Petal.Width     0\n",
       "Species         0\n",
       "dtype: int64"
      ]
     },
     "execution_count": 217,
     "metadata": {},
     "output_type": "execute_result"
    }
   ],
   "source": [
    "iris.isnull().sum()"
   ]
  },
  {
   "cell_type": "code",
   "execution_count": 222,
   "id": "57cf9dd1",
   "metadata": {},
   "outputs": [],
   "source": [
    "feature = ['Sepal.Length', 'Sepal.Width', 'Petal.Length', 'Petal.Width']"
   ]
  },
  {
   "cell_type": "code",
   "execution_count": 307,
   "id": "01c8c5ee",
   "metadata": {},
   "outputs": [
    {
     "data": {
      "image/png": "[encoded data removed]",
      "text/plain": [
       "<Figure size 1000x800 with 12 Axes>"
      ]
     },
     "metadata": {},
     "output_type": "display_data"
    }
   ],
   "source": [
    "fig, axs = plt.subplots(4, 3, figsize=(10, 8))\n",
    "for i, f in enumerate(feature):\n",
    "    for j, s in enumerate(iris['Species'].unique()):\n",
    "        ax = axs[i, j]\n",
    "        ax.boxplot(iris[iris['Species'] == s][f])\n",
    "        ax.set_title(f'{s} - {f}')\n",
    "    \n",
    "plt.tight_layout()\n",
    "plt.show()"
   ]
  },
  {
   "cell_type": "markdown",
   "id": "4a7a2d56",
   "metadata": {},
   "source": [
    "1. 연속적인 변수들의 값 정규화하기"
   ]
  },
  {
   "cell_type": "code",
   "execution_count": 234,
   "id": "910e4e51",
   "metadata": {},
   "outputs": [
    {
     "data": {
      "text/html": [
       "<div>\n",
       "<style scoped>\n",
       "    .dataframe tbody tr th:only-of-type {\n",
       "        vertical-align: middle;\n",
       "    }\n",
       "\n",
       "    .dataframe tbody tr th {\n",
       "        vertical-align: top;\n",
       "    }\n",
       "\n",
       "    .dataframe thead th {\n",
       "        text-align: right;\n",
       "    }\n",
       "</style>\n",
       "<table border=\"1\" class=\"dataframe\">\n",
       "  <thead>\n",
       "    <tr style=\"text-align: right;\">\n",
       "      <th></th>\n",
       "      <th>Sepal.Length</th>\n",
       "      <th>Sepal.Width</th>\n",
       "      <th>Petal.Length</th>\n",
       "      <th>Petal.Width</th>\n",
       "      <th>Species</th>\n",
       "    </tr>\n",
       "  </thead>\n",
       "  <tbody>\n",
       "    <tr>\n",
       "      <th>1</th>\n",
       "      <td>0.222222</td>\n",
       "      <td>0.625000</td>\n",
       "      <td>0.067797</td>\n",
       "      <td>0.041667</td>\n",
       "      <td>setosa</td>\n",
       "    </tr>\n",
       "    <tr>\n",
       "      <th>2</th>\n",
       "      <td>0.166667</td>\n",
       "      <td>0.416667</td>\n",
       "      <td>0.067797</td>\n",
       "      <td>0.041667</td>\n",
       "      <td>setosa</td>\n",
       "    </tr>\n",
       "    <tr>\n",
       "      <th>3</th>\n",
       "      <td>0.111111</td>\n",
       "      <td>0.500000</td>\n",
       "      <td>0.050847</td>\n",
       "      <td>0.041667</td>\n",
       "      <td>setosa</td>\n",
       "    </tr>\n",
       "    <tr>\n",
       "      <th>4</th>\n",
       "      <td>0.083333</td>\n",
       "      <td>0.458333</td>\n",
       "      <td>0.084746</td>\n",
       "      <td>0.041667</td>\n",
       "      <td>setosa</td>\n",
       "    </tr>\n",
       "    <tr>\n",
       "      <th>5</th>\n",
       "      <td>0.194444</td>\n",
       "      <td>0.666667</td>\n",
       "      <td>0.067797</td>\n",
       "      <td>0.041667</td>\n",
       "      <td>setosa</td>\n",
       "    </tr>\n",
       "  </tbody>\n",
       "</table>\n",
       "</div>"
      ],
      "text/plain": [
       "   Sepal.Length  Sepal.Width  Petal.Length  Petal.Width Species\n",
       "1      0.222222     0.625000      0.067797     0.041667  setosa\n",
       "2      0.166667     0.416667      0.067797     0.041667  setosa\n",
       "3      0.111111     0.500000      0.050847     0.041667  setosa\n",
       "4      0.083333     0.458333      0.084746     0.041667  setosa\n",
       "5      0.194444     0.666667      0.067797     0.041667  setosa"
      ]
     },
     "execution_count": 234,
     "metadata": {},
     "output_type": "execute_result"
    }
   ],
   "source": [
    "mm = MinMaxScaler()\n",
    "\n",
    "iris_copy = iris.copy()\n",
    "iris_copy[feature] = mm.fit_transform(iris_copy[feature])\n",
    "iris_copy.head()"
   ]
  },
  {
   "cell_type": "markdown",
   "id": "3074f688",
   "metadata": {},
   "source": [
    "2. 꽃 종류 별로 인코딩 해보기"
   ]
  },
  {
   "cell_type": "code",
   "execution_count": 235,
   "id": "a4c22529",
   "metadata": {},
   "outputs": [
    {
     "data": {
      "text/html": [
       "<div>\n",
       "<style scoped>\n",
       "    .dataframe tbody tr th:only-of-type {\n",
       "        vertical-align: middle;\n",
       "    }\n",
       "\n",
       "    .dataframe tbody tr th {\n",
       "        vertical-align: top;\n",
       "    }\n",
       "\n",
       "    .dataframe thead th {\n",
       "        text-align: right;\n",
       "    }\n",
       "</style>\n",
       "<table border=\"1\" class=\"dataframe\">\n",
       "  <thead>\n",
       "    <tr style=\"text-align: right;\">\n",
       "      <th></th>\n",
       "      <th>Sepal.Length</th>\n",
       "      <th>Sepal.Width</th>\n",
       "      <th>Petal.Length</th>\n",
       "      <th>Petal.Width</th>\n",
       "      <th>Species_setosa</th>\n",
       "      <th>Species_versicolor</th>\n",
       "      <th>Species_virginica</th>\n",
       "    </tr>\n",
       "  </thead>\n",
       "  <tbody>\n",
       "    <tr>\n",
       "      <th>1</th>\n",
       "      <td>0.222222</td>\n",
       "      <td>0.625000</td>\n",
       "      <td>0.067797</td>\n",
       "      <td>0.041667</td>\n",
       "      <td>True</td>\n",
       "      <td>False</td>\n",
       "      <td>False</td>\n",
       "    </tr>\n",
       "    <tr>\n",
       "      <th>2</th>\n",
       "      <td>0.166667</td>\n",
       "      <td>0.416667</td>\n",
       "      <td>0.067797</td>\n",
       "      <td>0.041667</td>\n",
       "      <td>True</td>\n",
       "      <td>False</td>\n",
       "      <td>False</td>\n",
       "    </tr>\n",
       "    <tr>\n",
       "      <th>3</th>\n",
       "      <td>0.111111</td>\n",
       "      <td>0.500000</td>\n",
       "      <td>0.050847</td>\n",
       "      <td>0.041667</td>\n",
       "      <td>True</td>\n",
       "      <td>False</td>\n",
       "      <td>False</td>\n",
       "    </tr>\n",
       "    <tr>\n",
       "      <th>4</th>\n",
       "      <td>0.083333</td>\n",
       "      <td>0.458333</td>\n",
       "      <td>0.084746</td>\n",
       "      <td>0.041667</td>\n",
       "      <td>True</td>\n",
       "      <td>False</td>\n",
       "      <td>False</td>\n",
       "    </tr>\n",
       "    <tr>\n",
       "      <th>5</th>\n",
       "      <td>0.194444</td>\n",
       "      <td>0.666667</td>\n",
       "      <td>0.067797</td>\n",
       "      <td>0.041667</td>\n",
       "      <td>True</td>\n",
       "      <td>False</td>\n",
       "      <td>False</td>\n",
       "    </tr>\n",
       "  </tbody>\n",
       "</table>\n",
       "</div>"
      ],
      "text/plain": [
       "   Sepal.Length  Sepal.Width  Petal.Length  Petal.Width  Species_setosa  \\\n",
       "1      0.222222     0.625000      0.067797     0.041667            True   \n",
       "2      0.166667     0.416667      0.067797     0.041667            True   \n",
       "3      0.111111     0.500000      0.050847     0.041667            True   \n",
       "4      0.083333     0.458333      0.084746     0.041667            True   \n",
       "5      0.194444     0.666667      0.067797     0.041667            True   \n",
       "\n",
       "   Species_versicolor  Species_virginica  \n",
       "1               False              False  \n",
       "2               False              False  \n",
       "3               False              False  \n",
       "4               False              False  \n",
       "5               False              False  "
      ]
     },
     "execution_count": 235,
     "metadata": {},
     "output_type": "execute_result"
    }
   ],
   "source": [
    "oh_iris = pd.get_dummies(iris_copy, columns=['Species'])\n",
    "oh_iris.head()"
   ]
  },
  {
   "cell_type": "code",
   "execution_count": 244,
   "id": "a48cb5f7",
   "metadata": {},
   "outputs": [
    {
     "data": {
      "text/html": [
       "<div>\n",
       "<style scoped>\n",
       "    .dataframe tbody tr th:only-of-type {\n",
       "        vertical-align: middle;\n",
       "    }\n",
       "\n",
       "    .dataframe tbody tr th {\n",
       "        vertical-align: top;\n",
       "    }\n",
       "\n",
       "    .dataframe thead th {\n",
       "        text-align: right;\n",
       "    }\n",
       "</style>\n",
       "<table border=\"1\" class=\"dataframe\">\n",
       "  <thead>\n",
       "    <tr style=\"text-align: right;\">\n",
       "      <th></th>\n",
       "      <th>Sepal.Length</th>\n",
       "      <th>Sepal.Width</th>\n",
       "      <th>Petal.Length</th>\n",
       "      <th>Petal.Width</th>\n",
       "      <th>Species_setosa</th>\n",
       "      <th>Species_versicolor</th>\n",
       "      <th>Species_virginica</th>\n",
       "    </tr>\n",
       "  </thead>\n",
       "  <tbody>\n",
       "    <tr>\n",
       "      <th>1</th>\n",
       "      <td>5.1</td>\n",
       "      <td>3.5</td>\n",
       "      <td>1.4</td>\n",
       "      <td>0.2</td>\n",
       "      <td>True</td>\n",
       "      <td>False</td>\n",
       "      <td>False</td>\n",
       "    </tr>\n",
       "    <tr>\n",
       "      <th>2</th>\n",
       "      <td>4.9</td>\n",
       "      <td>3.0</td>\n",
       "      <td>1.4</td>\n",
       "      <td>0.2</td>\n",
       "      <td>True</td>\n",
       "      <td>False</td>\n",
       "      <td>False</td>\n",
       "    </tr>\n",
       "    <tr>\n",
       "      <th>3</th>\n",
       "      <td>4.7</td>\n",
       "      <td>3.2</td>\n",
       "      <td>1.3</td>\n",
       "      <td>0.2</td>\n",
       "      <td>True</td>\n",
       "      <td>False</td>\n",
       "      <td>False</td>\n",
       "    </tr>\n",
       "    <tr>\n",
       "      <th>4</th>\n",
       "      <td>4.6</td>\n",
       "      <td>3.1</td>\n",
       "      <td>1.5</td>\n",
       "      <td>0.2</td>\n",
       "      <td>True</td>\n",
       "      <td>False</td>\n",
       "      <td>False</td>\n",
       "    </tr>\n",
       "    <tr>\n",
       "      <th>5</th>\n",
       "      <td>5.0</td>\n",
       "      <td>3.6</td>\n",
       "      <td>1.4</td>\n",
       "      <td>0.2</td>\n",
       "      <td>True</td>\n",
       "      <td>False</td>\n",
       "      <td>False</td>\n",
       "    </tr>\n",
       "  </tbody>\n",
       "</table>\n",
       "</div>"
      ],
      "text/plain": [
       "   Sepal.Length  Sepal.Width  Petal.Length  Petal.Width  Species_setosa  \\\n",
       "1           5.1          3.5           1.4          0.2            True   \n",
       "2           4.9          3.0           1.4          0.2            True   \n",
       "3           4.7          3.2           1.3          0.2            True   \n",
       "4           4.6          3.1           1.5          0.2            True   \n",
       "5           5.0          3.6           1.4          0.2            True   \n",
       "\n",
       "   Species_versicolor  Species_virginica  \n",
       "1               False              False  \n",
       "2               False              False  \n",
       "3               False              False  \n",
       "4               False              False  \n",
       "5               False              False  "
      ]
     },
     "execution_count": 244,
     "metadata": {},
     "output_type": "execute_result"
    }
   ],
   "source": [
    "ohiris = pd.get_dummies(iris, columns=['Species'])\n",
    "ohiris.head()"
   ]
  },
  {
   "cell_type": "markdown",
   "id": "a4198192",
   "metadata": {},
   "source": [
    "3. Setosa와 Versicolor의 꽃잎 길이 비교해보기"
   ]
  },
  {
   "cell_type": "code",
   "execution_count": null,
   "id": "cd8ad1a4",
   "metadata": {},
   "outputs": [
    {
     "name": "stdout",
     "output_type": "stream",
     "text": [
      "setosa와 versicolor 두 종의 꽃잎 길이 평균은 유의미한 차이가 있는지? p-value: 5.404910513441677e-62\n"
     ]
    }
   ],
   "source": [
    "setosa_pl = oh_iris[oh_iris['Species_setosa'] == True]['Petal.Length']\n",
    "versicolor_pl = oh_iris[oh_iris['Species_versicolor'] == True]['Petal.Length']\n",
    "\n",
    "it_stat, ip_val = ttest_ind(setosa_pl, versicolor_pl)\n",
    "print(f'setosa와 versicolor 두 종의 꽃잎 길이 평균은 유의미한 차이가 있는지? p-value: {ip_val}')\n",
    "\n",
    "# p-value가 0.05보다 작기 때문에 두 종류의 꽃잎 길이 별로 유의미한 차이가 있다"
   ]
  },
  {
   "cell_type": "markdown",
   "id": "ce764cb5",
   "metadata": {},
   "source": [
    "4. Versicolor와 Virginica의 꽃받침 길이 비교해보기"
   ]
  },
  {
   "cell_type": "code",
   "execution_count": null,
   "id": "70d86dd5",
   "metadata": {},
   "outputs": [
    {
     "name": "stdout",
     "output_type": "stream",
     "text": [
      "versicolor의 꽃받침 길이와 virginica의 꽃받침 길이를 비교한 ttest에서 p-value: 1.7248563024546642e-07\n"
     ]
    }
   ],
   "source": [
    "versicolor_sl = oh_iris[oh_iris['Species_versicolor'] == True]['Sepal.Length']\n",
    "virginica_sl = oh_iris[oh_iris['Species_virginica'] == True]['Sepal.Length']\n",
    "\n",
    "it_stat2, ip_val2 = ttest_ind(versicolor_sl, virginica_sl)\n",
    "print(f'versicolor의 꽃받침 길이와 virginica의 꽃받침 길이를 비교한 ttest에서 p-value: {ip_val2}')\n",
    "\n",
    "# p-value가 0.05보다 작기 때문에 두 종류의 꽃의 꽃받침 길이 별로 유의미한 차이가 있다"
   ]
  },
  {
   "cell_type": "markdown",
   "id": "204ed382",
   "metadata": {},
   "source": [
    "5. 세 꽃 종류 별로 꽃잎 길이 비교해보기"
   ]
  },
  {
   "cell_type": "code",
   "execution_count": null,
   "id": "a7c5f61b",
   "metadata": {},
   "outputs": [
    {
     "name": "stdout",
     "output_type": "stream",
     "text": [
      "세 꽃의 꽃잎 길이를 비교한 t-test에서 p-value: 2.856776610961877e-91\n"
     ]
    }
   ],
   "source": [
    "s_pl = oh_iris[oh_iris['Species_setosa'] == True]['Petal.Length']\n",
    "ve_pl = oh_iris[oh_iris['Species_versicolor'] == True]['Petal.Length']\n",
    "vi_pl = oh_iris[oh_iris['Species_virginica'] == True]['Petal.Length']\n",
    "\n",
    "if_stat, ap_val = f_oneway(s_pl, ve_pl, vi_pl)\n",
    "print(f'세 꽃의 꽃잎 길이를 비교한 t-test에서 p-value: {ap_val}')\n",
    "\n",
    "# 0.05보다 매우 작은 값으로 나왔기 때문에 꽃 종류의 꽃잎 길이 별로 유의미한 차이가 있다"
   ]
  },
  {
   "cell_type": "markdown",
   "id": "0cf4bc56",
   "metadata": {},
   "source": [
    "6. 컬럼 값 한국어로 바꿔보기"
   ]
  },
  {
   "cell_type": "code",
   "execution_count": 295,
   "id": "43aa90f6",
   "metadata": {},
   "outputs": [
    {
     "data": {
      "text/html": [
       "<div>\n",
       "<style scoped>\n",
       "    .dataframe tbody tr th:only-of-type {\n",
       "        vertical-align: middle;\n",
       "    }\n",
       "\n",
       "    .dataframe tbody tr th {\n",
       "        vertical-align: top;\n",
       "    }\n",
       "\n",
       "    .dataframe thead th {\n",
       "        text-align: right;\n",
       "    }\n",
       "</style>\n",
       "<table border=\"1\" class=\"dataframe\">\n",
       "  <thead>\n",
       "    <tr style=\"text-align: right;\">\n",
       "      <th></th>\n",
       "      <th>Sepal.Length</th>\n",
       "      <th>Sepal.Width</th>\n",
       "      <th>Petal.Length</th>\n",
       "      <th>Petal.Width</th>\n",
       "      <th>Species</th>\n",
       "    </tr>\n",
       "  </thead>\n",
       "  <tbody>\n",
       "    <tr>\n",
       "      <th>1</th>\n",
       "      <td>5.1</td>\n",
       "      <td>3.5</td>\n",
       "      <td>1.4</td>\n",
       "      <td>0.2</td>\n",
       "      <td>setosa</td>\n",
       "    </tr>\n",
       "    <tr>\n",
       "      <th>2</th>\n",
       "      <td>4.9</td>\n",
       "      <td>3.0</td>\n",
       "      <td>1.4</td>\n",
       "      <td>0.2</td>\n",
       "      <td>setosa</td>\n",
       "    </tr>\n",
       "    <tr>\n",
       "      <th>3</th>\n",
       "      <td>4.7</td>\n",
       "      <td>3.2</td>\n",
       "      <td>1.3</td>\n",
       "      <td>0.2</td>\n",
       "      <td>setosa</td>\n",
       "    </tr>\n",
       "    <tr>\n",
       "      <th>4</th>\n",
       "      <td>4.6</td>\n",
       "      <td>3.1</td>\n",
       "      <td>1.5</td>\n",
       "      <td>0.2</td>\n",
       "      <td>setosa</td>\n",
       "    </tr>\n",
       "    <tr>\n",
       "      <th>5</th>\n",
       "      <td>5.0</td>\n",
       "      <td>3.6</td>\n",
       "      <td>1.4</td>\n",
       "      <td>0.2</td>\n",
       "      <td>setosa</td>\n",
       "    </tr>\n",
       "  </tbody>\n",
       "</table>\n",
       "</div>"
      ],
      "text/plain": [
       "   Sepal.Length  Sepal.Width  Petal.Length  Petal.Width Species\n",
       "1           5.1          3.5           1.4          0.2  setosa\n",
       "2           4.9          3.0           1.4          0.2  setosa\n",
       "3           4.7          3.2           1.3          0.2  setosa\n",
       "4           4.6          3.1           1.5          0.2  setosa\n",
       "5           5.0          3.6           1.4          0.2  setosa"
      ]
     },
     "execution_count": 295,
     "metadata": {},
     "output_type": "execute_result"
    }
   ],
   "source": [
    "coiris = iris.copy()\n",
    "coiris.head()"
   ]
  },
  {
   "cell_type": "code",
   "execution_count": 301,
   "id": "754848ff",
   "metadata": {},
   "outputs": [
    {
     "data": {
      "text/html": [
       "<div>\n",
       "<style scoped>\n",
       "    .dataframe tbody tr th:only-of-type {\n",
       "        vertical-align: middle;\n",
       "    }\n",
       "\n",
       "    .dataframe tbody tr th {\n",
       "        vertical-align: top;\n",
       "    }\n",
       "\n",
       "    .dataframe thead th {\n",
       "        text-align: right;\n",
       "    }\n",
       "</style>\n",
       "<table border=\"1\" class=\"dataframe\">\n",
       "  <thead>\n",
       "    <tr style=\"text-align: right;\">\n",
       "      <th></th>\n",
       "      <th>Sepal.Length</th>\n",
       "      <th>Sepal.Width</th>\n",
       "      <th>Petal.Length</th>\n",
       "      <th>Petal.Width</th>\n",
       "      <th>Species</th>\n",
       "      <th>Korean_Species</th>\n",
       "    </tr>\n",
       "  </thead>\n",
       "  <tbody>\n",
       "    <tr>\n",
       "      <th>1</th>\n",
       "      <td>5.1</td>\n",
       "      <td>3.5</td>\n",
       "      <td>1.4</td>\n",
       "      <td>0.2</td>\n",
       "      <td>setosa</td>\n",
       "      <td>세토사</td>\n",
       "    </tr>\n",
       "    <tr>\n",
       "      <th>2</th>\n",
       "      <td>4.9</td>\n",
       "      <td>3.0</td>\n",
       "      <td>1.4</td>\n",
       "      <td>0.2</td>\n",
       "      <td>setosa</td>\n",
       "      <td>세토사</td>\n",
       "    </tr>\n",
       "    <tr>\n",
       "      <th>3</th>\n",
       "      <td>4.7</td>\n",
       "      <td>3.2</td>\n",
       "      <td>1.3</td>\n",
       "      <td>0.2</td>\n",
       "      <td>setosa</td>\n",
       "      <td>세토사</td>\n",
       "    </tr>\n",
       "    <tr>\n",
       "      <th>4</th>\n",
       "      <td>4.6</td>\n",
       "      <td>3.1</td>\n",
       "      <td>1.5</td>\n",
       "      <td>0.2</td>\n",
       "      <td>setosa</td>\n",
       "      <td>세토사</td>\n",
       "    </tr>\n",
       "    <tr>\n",
       "      <th>5</th>\n",
       "      <td>5.0</td>\n",
       "      <td>3.6</td>\n",
       "      <td>1.4</td>\n",
       "      <td>0.2</td>\n",
       "      <td>setosa</td>\n",
       "      <td>세토사</td>\n",
       "    </tr>\n",
       "  </tbody>\n",
       "</table>\n",
       "</div>"
      ],
      "text/plain": [
       "   Sepal.Length  Sepal.Width  Petal.Length  Petal.Width Species Korean_Species\n",
       "1           5.1          3.5           1.4          0.2  setosa            세토사\n",
       "2           4.9          3.0           1.4          0.2  setosa            세토사\n",
       "3           4.7          3.2           1.3          0.2  setosa            세토사\n",
       "4           4.6          3.1           1.5          0.2  setosa            세토사\n",
       "5           5.0          3.6           1.4          0.2  setosa            세토사"
      ]
     },
     "execution_count": 301,
     "metadata": {},
     "output_type": "execute_result"
    }
   ],
   "source": [
    "coiris['Korean_Species'] = coiris['Species'].apply(lambda x: '세토사' if x=='setosa' else('버지컬러' if x=='versicolor' else('버지니카' if x=='virginica' else 'What?')))\n",
    "coiris.head()"
   ]
  },
  {
   "cell_type": "markdown",
   "id": "d202244e",
   "metadata": {},
   "source": [
    "7. 데이터 그래프로 그려보기"
   ]
  },
  {
   "cell_type": "code",
   "execution_count": 304,
   "id": "32f259a3",
   "metadata": {},
   "outputs": [
    {
     "data": {
      "image/png": "[encoded data removed]",
      "text/plain": [
       "<Figure size 800x600 with 1 Axes>"
      ]
     },
     "metadata": {},
     "output_type": "display_data"
    }
   ],
   "source": [
    "plt.figure(figsize=(8, 6))\n",
    "colors = {'setosa': 'red', 'versicolor': 'green', 'virginica': 'blue'}\n",
    "\n",
    "for s in iris['Species'].unique():\n",
    "    subset = iris[iris['Species'] == s]\n",
    "\n",
    "    plt.scatter(subset['Sepal.Length'], subset['Petal.Length'], color=colors[s], label=s, alpha=.5)\n",
    "\n",
    "plt.title('꽃받침 길이와 꽃잎 길이 별 데이터')\n",
    "plt.xlabel('꽃받침 길이')\n",
    "plt.ylabel('꽃잎 길이')\n",
    "plt.legend()\n",
    "plt.grid(True)\n",
    "plt.show()"
   ]
  },
  {
   "cell_type": "markdown",
   "id": "39599438",
   "metadata": {},
   "source": [
    "\n",
    "## 🌼마무리 문제\n",
    "\n",
    "아래 문제들을 풀어보세요!\n",
    "\n",
    "Q1. 가상의 헬스앱에서 친구들이 공유한 운동 기록 데이터를 분석합니다. 일부 운동기록에서 누락된 중요한 정보가 있습니다. 이 때 데이터를 정리하기 위해 결측치를 찾아서 처리해보세요\n",
    "* fitness.csv"
   ]
  },
  {
   "cell_type": "code",
   "execution_count": 272,
   "id": "f0c2f910",
   "metadata": {},
   "outputs": [
    {
     "data": {
      "text/html": [
       "<div>\n",
       "<style scoped>\n",
       "    .dataframe tbody tr th:only-of-type {\n",
       "        vertical-align: middle;\n",
       "    }\n",
       "\n",
       "    .dataframe tbody tr th {\n",
       "        vertical-align: top;\n",
       "    }\n",
       "\n",
       "    .dataframe thead th {\n",
       "        text-align: right;\n",
       "    }\n",
       "</style>\n",
       "<table border=\"1\" class=\"dataframe\">\n",
       "  <thead>\n",
       "    <tr style=\"text-align: right;\">\n",
       "      <th></th>\n",
       "      <th>운동 날짜</th>\n",
       "      <th>운동 시간(분)</th>\n",
       "      <th>소모 칼로리</th>\n",
       "      <th>걸음 수</th>\n",
       "      <th>심박수</th>\n",
       "      <th>성별</th>\n",
       "    </tr>\n",
       "  </thead>\n",
       "  <tbody>\n",
       "    <tr>\n",
       "      <th>0</th>\n",
       "      <td>2024-10-01</td>\n",
       "      <td>45</td>\n",
       "      <td>300.0</td>\n",
       "      <td>5000.0</td>\n",
       "      <td>120</td>\n",
       "      <td>남성</td>\n",
       "    </tr>\n",
       "    <tr>\n",
       "      <th>1</th>\n",
       "      <td>2024-10-02</td>\n",
       "      <td>30</td>\n",
       "      <td>200.0</td>\n",
       "      <td>3600.0</td>\n",
       "      <td>110</td>\n",
       "      <td>여성</td>\n",
       "    </tr>\n",
       "    <tr>\n",
       "      <th>2</th>\n",
       "      <td>2024-10-03</td>\n",
       "      <td>60</td>\n",
       "      <td>450.0</td>\n",
       "      <td>4000.0</td>\n",
       "      <td>100</td>\n",
       "      <td>여성</td>\n",
       "    </tr>\n",
       "    <tr>\n",
       "      <th>3</th>\n",
       "      <td>2024-10-04</td>\n",
       "      <td>60</td>\n",
       "      <td>NaN</td>\n",
       "      <td>10000.0</td>\n",
       "      <td>130</td>\n",
       "      <td>여성</td>\n",
       "    </tr>\n",
       "    <tr>\n",
       "      <th>4</th>\n",
       "      <td>2024-10-05</td>\n",
       "      <td>50</td>\n",
       "      <td>400.0</td>\n",
       "      <td>NaN</td>\n",
       "      <td>120</td>\n",
       "      <td>남성</td>\n",
       "    </tr>\n",
       "  </tbody>\n",
       "</table>\n",
       "</div>"
      ],
      "text/plain": [
       "        운동 날짜  운동 시간(분)  소모 칼로리     걸음 수  심박수  성별\n",
       "0  2024-10-01        45   300.0   5000.0  120  남성\n",
       "1  2024-10-02        30   200.0   3600.0  110  여성\n",
       "2  2024-10-03        60   450.0   4000.0  100  여성\n",
       "3  2024-10-04        60     NaN  10000.0  130  여성\n",
       "4  2024-10-05        50   400.0      NaN  120  남성"
      ]
     },
     "execution_count": 272,
     "metadata": {},
     "output_type": "execute_result"
    }
   ],
   "source": [
    "health = pd.read_csv('./data/fitness.csv')\n",
    "health.head()"
   ]
  },
  {
   "cell_type": "code",
   "execution_count": 273,
   "id": "92d44fa0",
   "metadata": {},
   "outputs": [
    {
     "data": {
      "text/plain": [
       "운동 날짜       0\n",
       "운동 시간(분)    0\n",
       "소모 칼로리      1\n",
       "걸음 수        1\n",
       "심박수         0\n",
       "성별          0\n",
       "dtype: int64"
      ]
     },
     "execution_count": 273,
     "metadata": {},
     "output_type": "execute_result"
    }
   ],
   "source": [
    "health.isnull().sum()"
   ]
  },
  {
   "cell_type": "code",
   "execution_count": 274,
   "id": "b793cc19",
   "metadata": {},
   "outputs": [
    {
     "data": {
      "text/html": [
       "<div>\n",
       "<style scoped>\n",
       "    .dataframe tbody tr th:only-of-type {\n",
       "        vertical-align: middle;\n",
       "    }\n",
       "\n",
       "    .dataframe tbody tr th {\n",
       "        vertical-align: top;\n",
       "    }\n",
       "\n",
       "    .dataframe thead th {\n",
       "        text-align: right;\n",
       "    }\n",
       "</style>\n",
       "<table border=\"1\" class=\"dataframe\">\n",
       "  <thead>\n",
       "    <tr style=\"text-align: right;\">\n",
       "      <th></th>\n",
       "      <th>운동 날짜</th>\n",
       "      <th>운동 시간(분)</th>\n",
       "      <th>소모 칼로리</th>\n",
       "      <th>걸음 수</th>\n",
       "      <th>심박수</th>\n",
       "      <th>성별</th>\n",
       "    </tr>\n",
       "  </thead>\n",
       "  <tbody>\n",
       "    <tr>\n",
       "      <th>0</th>\n",
       "      <td>2024-10-01</td>\n",
       "      <td>45</td>\n",
       "      <td>300.000000</td>\n",
       "      <td>5000.000000</td>\n",
       "      <td>120</td>\n",
       "      <td>남성</td>\n",
       "    </tr>\n",
       "    <tr>\n",
       "      <th>1</th>\n",
       "      <td>2024-10-02</td>\n",
       "      <td>30</td>\n",
       "      <td>200.000000</td>\n",
       "      <td>3600.000000</td>\n",
       "      <td>110</td>\n",
       "      <td>여성</td>\n",
       "    </tr>\n",
       "    <tr>\n",
       "      <th>2</th>\n",
       "      <td>2024-10-03</td>\n",
       "      <td>60</td>\n",
       "      <td>450.000000</td>\n",
       "      <td>4000.000000</td>\n",
       "      <td>100</td>\n",
       "      <td>여성</td>\n",
       "    </tr>\n",
       "    <tr>\n",
       "      <th>3</th>\n",
       "      <td>2024-10-04</td>\n",
       "      <td>60</td>\n",
       "      <td>357.142857</td>\n",
       "      <td>10000.000000</td>\n",
       "      <td>130</td>\n",
       "      <td>여성</td>\n",
       "    </tr>\n",
       "    <tr>\n",
       "      <th>4</th>\n",
       "      <td>2024-10-05</td>\n",
       "      <td>50</td>\n",
       "      <td>400.000000</td>\n",
       "      <td>5128.571429</td>\n",
       "      <td>120</td>\n",
       "      <td>남성</td>\n",
       "    </tr>\n",
       "  </tbody>\n",
       "</table>\n",
       "</div>"
      ],
      "text/plain": [
       "        운동 날짜  운동 시간(분)      소모 칼로리          걸음 수  심박수  성별\n",
       "0  2024-10-01        45  300.000000   5000.000000  120  남성\n",
       "1  2024-10-02        30  200.000000   3600.000000  110  여성\n",
       "2  2024-10-03        60  450.000000   4000.000000  100  여성\n",
       "3  2024-10-04        60  357.142857  10000.000000  130  여성\n",
       "4  2024-10-05        50  400.000000   5128.571429  120  남성"
      ]
     },
     "execution_count": 274,
     "metadata": {},
     "output_type": "execute_result"
    }
   ],
   "source": [
    "health[['소모 칼로리', '걸음 수']] = health[['소모 칼로리', '걸음 수']].fillna(health[['소모 칼로리', '걸음 수']].mean())\n",
    "health.head()"
   ]
  },
  {
   "cell_type": "code",
   "execution_count": 275,
   "id": "66f5eb74",
   "metadata": {},
   "outputs": [
    {
     "data": {
      "text/plain": [
       "운동 날짜       0\n",
       "운동 시간(분)    0\n",
       "소모 칼로리      0\n",
       "걸음 수        0\n",
       "심박수         0\n",
       "성별          0\n",
       "dtype: int64"
      ]
     },
     "execution_count": 275,
     "metadata": {},
     "output_type": "execute_result"
    }
   ],
   "source": [
    "health.isnull().sum()"
   ]
  },
  {
   "cell_type": "markdown",
   "id": "c91ef0da",
   "metadata": {},
   "source": [
    "Q2. 걸음 수와 소모 칼로리 컬럼의 값을 Min-Max Scaling하여 정규화하세요"
   ]
  },
  {
   "cell_type": "code",
   "execution_count": 276,
   "id": "25198357",
   "metadata": {},
   "outputs": [
    {
     "data": {
      "text/html": [
       "<div>\n",
       "<style scoped>\n",
       "    .dataframe tbody tr th:only-of-type {\n",
       "        vertical-align: middle;\n",
       "    }\n",
       "\n",
       "    .dataframe tbody tr th {\n",
       "        vertical-align: top;\n",
       "    }\n",
       "\n",
       "    .dataframe thead th {\n",
       "        text-align: right;\n",
       "    }\n",
       "</style>\n",
       "<table border=\"1\" class=\"dataframe\">\n",
       "  <thead>\n",
       "    <tr style=\"text-align: right;\">\n",
       "      <th></th>\n",
       "      <th>운동 날짜</th>\n",
       "      <th>운동 시간(분)</th>\n",
       "      <th>소모 칼로리</th>\n",
       "      <th>걸음 수</th>\n",
       "      <th>심박수</th>\n",
       "      <th>성별</th>\n",
       "    </tr>\n",
       "  </thead>\n",
       "  <tbody>\n",
       "    <tr>\n",
       "      <th>0</th>\n",
       "      <td>2024-10-01</td>\n",
       "      <td>45</td>\n",
       "      <td>0.333333</td>\n",
       "      <td>0.285714</td>\n",
       "      <td>120</td>\n",
       "      <td>남성</td>\n",
       "    </tr>\n",
       "    <tr>\n",
       "      <th>1</th>\n",
       "      <td>2024-10-02</td>\n",
       "      <td>30</td>\n",
       "      <td>0.000000</td>\n",
       "      <td>0.085714</td>\n",
       "      <td>110</td>\n",
       "      <td>여성</td>\n",
       "    </tr>\n",
       "    <tr>\n",
       "      <th>2</th>\n",
       "      <td>2024-10-03</td>\n",
       "      <td>60</td>\n",
       "      <td>0.833333</td>\n",
       "      <td>0.142857</td>\n",
       "      <td>100</td>\n",
       "      <td>여성</td>\n",
       "    </tr>\n",
       "    <tr>\n",
       "      <th>3</th>\n",
       "      <td>2024-10-04</td>\n",
       "      <td>60</td>\n",
       "      <td>0.523810</td>\n",
       "      <td>1.000000</td>\n",
       "      <td>130</td>\n",
       "      <td>여성</td>\n",
       "    </tr>\n",
       "    <tr>\n",
       "      <th>4</th>\n",
       "      <td>2024-10-05</td>\n",
       "      <td>50</td>\n",
       "      <td>0.666667</td>\n",
       "      <td>0.304082</td>\n",
       "      <td>120</td>\n",
       "      <td>남성</td>\n",
       "    </tr>\n",
       "    <tr>\n",
       "      <th>5</th>\n",
       "      <td>2024-10-06</td>\n",
       "      <td>30</td>\n",
       "      <td>0.333333</td>\n",
       "      <td>0.428571</td>\n",
       "      <td>100</td>\n",
       "      <td>여성</td>\n",
       "    </tr>\n",
       "    <tr>\n",
       "      <th>6</th>\n",
       "      <td>2024-10-07</td>\n",
       "      <td>40</td>\n",
       "      <td>0.500000</td>\n",
       "      <td>0.000000</td>\n",
       "      <td>190</td>\n",
       "      <td>남성</td>\n",
       "    </tr>\n",
       "    <tr>\n",
       "      <th>7</th>\n",
       "      <td>2024-10-08</td>\n",
       "      <td>55</td>\n",
       "      <td>1.000000</td>\n",
       "      <td>0.185714</td>\n",
       "      <td>120</td>\n",
       "      <td>남성</td>\n",
       "    </tr>\n",
       "  </tbody>\n",
       "</table>\n",
       "</div>"
      ],
      "text/plain": [
       "        운동 날짜  운동 시간(분)    소모 칼로리      걸음 수  심박수  성별\n",
       "0  2024-10-01        45  0.333333  0.285714  120  남성\n",
       "1  2024-10-02        30  0.000000  0.085714  110  여성\n",
       "2  2024-10-03        60  0.833333  0.142857  100  여성\n",
       "3  2024-10-04        60  0.523810  1.000000  130  여성\n",
       "4  2024-10-05        50  0.666667  0.304082  120  남성\n",
       "5  2024-10-06        30  0.333333  0.428571  100  여성\n",
       "6  2024-10-07        40  0.500000  0.000000  190  남성\n",
       "7  2024-10-08        55  1.000000  0.185714  120  남성"
      ]
     },
     "execution_count": 276,
     "metadata": {},
     "output_type": "execute_result"
    }
   ],
   "source": [
    "health_f = ['걸음 수', '소모 칼로리']\n",
    "\n",
    "health[health_f] = mm.fit_transform(health[health_f])\n",
    "health"
   ]
  },
  {
   "cell_type": "markdown",
   "id": "60162040",
   "metadata": {},
   "source": [
    "Q3. 걸음 수나 소모 칼로리가 너무 높은 값을 기록한 데이터를 확인해보세요. 박스플롯을 그려보고 이상치를 탐색하여 처리해보세요"
   ]
  },
  {
   "cell_type": "code",
   "execution_count": 277,
   "id": "d62d897e",
   "metadata": {},
   "outputs": [
    {
     "data": {
      "image/png": "[encoded data removed]",
      "text/plain": [
       "<Figure size 800x400 with 2 Axes>"
      ]
     },
     "metadata": {},
     "output_type": "display_data"
    }
   ],
   "source": [
    "fig, axs = plt.subplots(1, 2, figsize=(8, 4))\n",
    "for i, h in enumerate(health_f):\n",
    "    ax = axs[i%2]\n",
    "    ax.boxplot(health[h])\n",
    "    ax.set_title(f'{h}')\n",
    "\n",
    "plt.tight_layout()\n",
    "plt.show()"
   ]
  },
  {
   "cell_type": "code",
   "execution_count": 278,
   "id": "b178ce1a",
   "metadata": {},
   "outputs": [
    {
     "name": "stdout",
     "output_type": "stream",
     "text": [
      "q3: 0.33520408163265303, upper: 0.6451530612244897\n"
     ]
    }
   ],
   "source": [
    "q1 = health['걸음 수'].quantile(0.25)\n",
    "q3 = health['걸음 수'].quantile(0.75)\n",
    "IQR = q3 - q1\n",
    "\n",
    "lower = q1 - 1.5 * IQR\n",
    "upper = q3 + 1.5 * IQR\n",
    "\n",
    "print(f'q3: {q3}, upper: {upper}')"
   ]
  },
  {
   "cell_type": "code",
   "execution_count": 279,
   "id": "4cd83932",
   "metadata": {},
   "outputs": [
    {
     "data": {
      "text/html": [
       "<div>\n",
       "<style scoped>\n",
       "    .dataframe tbody tr th:only-of-type {\n",
       "        vertical-align: middle;\n",
       "    }\n",
       "\n",
       "    .dataframe tbody tr th {\n",
       "        vertical-align: top;\n",
       "    }\n",
       "\n",
       "    .dataframe thead th {\n",
       "        text-align: right;\n",
       "    }\n",
       "</style>\n",
       "<table border=\"1\" class=\"dataframe\">\n",
       "  <thead>\n",
       "    <tr style=\"text-align: right;\">\n",
       "      <th></th>\n",
       "      <th>운동 날짜</th>\n",
       "      <th>운동 시간(분)</th>\n",
       "      <th>소모 칼로리</th>\n",
       "      <th>걸음 수</th>\n",
       "      <th>심박수</th>\n",
       "      <th>성별</th>\n",
       "    </tr>\n",
       "  </thead>\n",
       "  <tbody>\n",
       "    <tr>\n",
       "      <th>0</th>\n",
       "      <td>2024-10-01</td>\n",
       "      <td>45</td>\n",
       "      <td>0.333333</td>\n",
       "      <td>0.285714</td>\n",
       "      <td>120</td>\n",
       "      <td>남성</td>\n",
       "    </tr>\n",
       "    <tr>\n",
       "      <th>1</th>\n",
       "      <td>2024-10-02</td>\n",
       "      <td>30</td>\n",
       "      <td>0.000000</td>\n",
       "      <td>0.085714</td>\n",
       "      <td>110</td>\n",
       "      <td>여성</td>\n",
       "    </tr>\n",
       "    <tr>\n",
       "      <th>2</th>\n",
       "      <td>2024-10-03</td>\n",
       "      <td>60</td>\n",
       "      <td>0.833333</td>\n",
       "      <td>0.142857</td>\n",
       "      <td>100</td>\n",
       "      <td>여성</td>\n",
       "    </tr>\n",
       "    <tr>\n",
       "      <th>4</th>\n",
       "      <td>2024-10-05</td>\n",
       "      <td>50</td>\n",
       "      <td>0.666667</td>\n",
       "      <td>0.304082</td>\n",
       "      <td>120</td>\n",
       "      <td>남성</td>\n",
       "    </tr>\n",
       "    <tr>\n",
       "      <th>5</th>\n",
       "      <td>2024-10-06</td>\n",
       "      <td>30</td>\n",
       "      <td>0.333333</td>\n",
       "      <td>0.428571</td>\n",
       "      <td>100</td>\n",
       "      <td>여성</td>\n",
       "    </tr>\n",
       "    <tr>\n",
       "      <th>6</th>\n",
       "      <td>2024-10-07</td>\n",
       "      <td>40</td>\n",
       "      <td>0.500000</td>\n",
       "      <td>0.000000</td>\n",
       "      <td>190</td>\n",
       "      <td>남성</td>\n",
       "    </tr>\n",
       "    <tr>\n",
       "      <th>7</th>\n",
       "      <td>2024-10-08</td>\n",
       "      <td>55</td>\n",
       "      <td>1.000000</td>\n",
       "      <td>0.185714</td>\n",
       "      <td>120</td>\n",
       "      <td>남성</td>\n",
       "    </tr>\n",
       "  </tbody>\n",
       "</table>\n",
       "</div>"
      ],
      "text/plain": [
       "        운동 날짜  운동 시간(분)    소모 칼로리      걸음 수  심박수  성별\n",
       "0  2024-10-01        45  0.333333  0.285714  120  남성\n",
       "1  2024-10-02        30  0.000000  0.085714  110  여성\n",
       "2  2024-10-03        60  0.833333  0.142857  100  여성\n",
       "4  2024-10-05        50  0.666667  0.304082  120  남성\n",
       "5  2024-10-06        30  0.333333  0.428571  100  여성\n",
       "6  2024-10-07        40  0.500000  0.000000  190  남성\n",
       "7  2024-10-08        55  1.000000  0.185714  120  남성"
      ]
     },
     "execution_count": 279,
     "metadata": {},
     "output_type": "execute_result"
    }
   ],
   "source": [
    "health_normal = health[health['걸음 수'] <= 0.65]\n",
    "health_normal"
   ]
  },
  {
   "cell_type": "code",
   "execution_count": 280,
   "id": "727b60e2",
   "metadata": {},
   "outputs": [
    {
     "data": {
      "text/html": [
       "<div>\n",
       "<style scoped>\n",
       "    .dataframe tbody tr th:only-of-type {\n",
       "        vertical-align: middle;\n",
       "    }\n",
       "\n",
       "    .dataframe tbody tr th {\n",
       "        vertical-align: top;\n",
       "    }\n",
       "\n",
       "    .dataframe thead th {\n",
       "        text-align: right;\n",
       "    }\n",
       "</style>\n",
       "<table border=\"1\" class=\"dataframe\">\n",
       "  <thead>\n",
       "    <tr style=\"text-align: right;\">\n",
       "      <th></th>\n",
       "      <th>운동 날짜</th>\n",
       "      <th>운동 시간(분)</th>\n",
       "      <th>소모 칼로리</th>\n",
       "      <th>걸음 수</th>\n",
       "      <th>심박수</th>\n",
       "      <th>성별</th>\n",
       "    </tr>\n",
       "  </thead>\n",
       "  <tbody>\n",
       "    <tr>\n",
       "      <th>3</th>\n",
       "      <td>2024-10-04</td>\n",
       "      <td>60</td>\n",
       "      <td>0.52381</td>\n",
       "      <td>1.0</td>\n",
       "      <td>130</td>\n",
       "      <td>여성</td>\n",
       "    </tr>\n",
       "  </tbody>\n",
       "</table>\n",
       "</div>"
      ],
      "text/plain": [
       "        운동 날짜  운동 시간(분)   소모 칼로리  걸음 수  심박수  성별\n",
       "3  2024-10-04        60  0.52381   1.0  130  여성"
      ]
     },
     "execution_count": 280,
     "metadata": {},
     "output_type": "execute_result"
    }
   ],
   "source": [
    "health_outlier = health[health['걸음 수'] > 0.65]\n",
    "health_outlier"
   ]
  },
  {
   "cell_type": "code",
   "execution_count": 285,
   "id": "5944753a",
   "metadata": {},
   "outputs": [
    {
     "data": {
      "image/png": "[encoded data removed]",
      "text/plain": [
       "<Figure size 600x400 with 1 Axes>"
      ]
     },
     "metadata": {},
     "output_type": "display_data"
    }
   ],
   "source": [
    "plt.figure(figsize=(6, 4))\n",
    "plt.scatter(health_normal.index, health_normal['걸음 수'], label='normal', color='green')\n",
    "plt.scatter(health_outlier.index, health_outlier['걸음 수'], label='outlier', color='red')\n",
    "plt.title('걸음 수 이상치 탐색')\n",
    "plt.legend()\n",
    "plt.show()"
   ]
  },
  {
   "cell_type": "markdown",
   "id": "b7a0a0b9",
   "metadata": {},
   "source": [
    "Q4. 데이터를 분석하기 전에 운동 시간과 소모 칼로리를 표준화해보세요"
   ]
  },
  {
   "cell_type": "code",
   "execution_count": 291,
   "id": "cda21b31",
   "metadata": {},
   "outputs": [
    {
     "name": "stderr",
     "output_type": "stream",
     "text": [
      "C:\\Users\\RMARKET\\AppData\\Local\\Temp\\ipykernel_15816\\2861746959.py:4: SettingWithCopyWarning: \n",
      "A value is trying to be set on a copy of a slice from a DataFrame.\n",
      "Try using .loc[row_indexer,col_indexer] = value instead\n",
      "\n",
      "See the caveats in the documentation: https://pandas.pydata.org/pandas-docs/stable/user_guide/indexing.html#returning-a-view-versus-a-copy\n",
      "  health_normal[standard] = std.fit_transform(health_normal[standard])\n"
     ]
    },
    {
     "data": {
      "text/html": [
       "<div>\n",
       "<style scoped>\n",
       "    .dataframe tbody tr th:only-of-type {\n",
       "        vertical-align: middle;\n",
       "    }\n",
       "\n",
       "    .dataframe tbody tr th {\n",
       "        vertical-align: top;\n",
       "    }\n",
       "\n",
       "    .dataframe thead th {\n",
       "        text-align: right;\n",
       "    }\n",
       "</style>\n",
       "<table border=\"1\" class=\"dataframe\">\n",
       "  <thead>\n",
       "    <tr style=\"text-align: right;\">\n",
       "      <th></th>\n",
       "      <th>운동 날짜</th>\n",
       "      <th>운동 시간(분)</th>\n",
       "      <th>소모 칼로리</th>\n",
       "      <th>걸음 수</th>\n",
       "      <th>심박수</th>\n",
       "      <th>성별</th>\n",
       "    </tr>\n",
       "  </thead>\n",
       "  <tbody>\n",
       "    <tr>\n",
       "      <th>0</th>\n",
       "      <td>2024-10-01</td>\n",
       "      <td>0.065938</td>\n",
       "      <td>-0.606478</td>\n",
       "      <td>0.285714</td>\n",
       "      <td>120</td>\n",
       "      <td>남성</td>\n",
       "    </tr>\n",
       "    <tr>\n",
       "      <th>1</th>\n",
       "      <td>2024-10-02</td>\n",
       "      <td>-1.318761</td>\n",
       "      <td>-1.667816</td>\n",
       "      <td>0.085714</td>\n",
       "      <td>110</td>\n",
       "      <td>여성</td>\n",
       "    </tr>\n",
       "    <tr>\n",
       "      <th>2</th>\n",
       "      <td>2024-10-03</td>\n",
       "      <td>1.450637</td>\n",
       "      <td>0.985527</td>\n",
       "      <td>0.142857</td>\n",
       "      <td>100</td>\n",
       "      <td>여성</td>\n",
       "    </tr>\n",
       "    <tr>\n",
       "      <th>4</th>\n",
       "      <td>2024-10-05</td>\n",
       "      <td>0.527504</td>\n",
       "      <td>0.454859</td>\n",
       "      <td>0.304082</td>\n",
       "      <td>120</td>\n",
       "      <td>남성</td>\n",
       "    </tr>\n",
       "    <tr>\n",
       "      <th>5</th>\n",
       "      <td>2024-10-06</td>\n",
       "      <td>-1.318761</td>\n",
       "      <td>-0.606478</td>\n",
       "      <td>0.428571</td>\n",
       "      <td>100</td>\n",
       "      <td>여성</td>\n",
       "    </tr>\n",
       "    <tr>\n",
       "      <th>6</th>\n",
       "      <td>2024-10-07</td>\n",
       "      <td>-0.395628</td>\n",
       "      <td>-0.075810</td>\n",
       "      <td>0.000000</td>\n",
       "      <td>190</td>\n",
       "      <td>남성</td>\n",
       "    </tr>\n",
       "    <tr>\n",
       "      <th>7</th>\n",
       "      <td>2024-10-08</td>\n",
       "      <td>0.989071</td>\n",
       "      <td>1.516196</td>\n",
       "      <td>0.185714</td>\n",
       "      <td>120</td>\n",
       "      <td>남성</td>\n",
       "    </tr>\n",
       "  </tbody>\n",
       "</table>\n",
       "</div>"
      ],
      "text/plain": [
       "        운동 날짜  운동 시간(분)    소모 칼로리      걸음 수  심박수  성별\n",
       "0  2024-10-01  0.065938 -0.606478  0.285714  120  남성\n",
       "1  2024-10-02 -1.318761 -1.667816  0.085714  110  여성\n",
       "2  2024-10-03  1.450637  0.985527  0.142857  100  여성\n",
       "4  2024-10-05  0.527504  0.454859  0.304082  120  남성\n",
       "5  2024-10-06 -1.318761 -0.606478  0.428571  100  여성\n",
       "6  2024-10-07 -0.395628 -0.075810  0.000000  190  남성\n",
       "7  2024-10-08  0.989071  1.516196  0.185714  120  남성"
      ]
     },
     "execution_count": 291,
     "metadata": {},
     "output_type": "execute_result"
    }
   ],
   "source": [
    "standard = ['운동 시간(분)', '소모 칼로리']\n",
    "\n",
    "std = StandardScaler()\n",
    "health_normal[standard] = std.fit_transform(health_normal[standard])\n",
    "health_normal"
   ]
  },
  {
   "cell_type": "markdown",
   "id": "649821b2",
   "metadata": {},
   "source": [
    "Q5. 결측치와 이상치를 처리하고, 걸음 수와 소모 칼로리에 대해 정규화 및 표준화를 수행한 후. 성별을 인코딩하여 범주형 데이터를 처리해보세요"
   ]
  },
  {
   "cell_type": "code",
   "execution_count": 292,
   "id": "731d2d29",
   "metadata": {},
   "outputs": [
    {
     "name": "stderr",
     "output_type": "stream",
     "text": [
      "C:\\Users\\RMARKET\\AppData\\Local\\Temp\\ipykernel_15816\\1976138352.py:3: SettingWithCopyWarning: \n",
      "A value is trying to be set on a copy of a slice from a DataFrame.\n",
      "Try using .loc[row_indexer,col_indexer] = value instead\n",
      "\n",
      "See the caveats in the documentation: https://pandas.pydata.org/pandas-docs/stable/user_guide/indexing.html#returning-a-view-versus-a-copy\n",
      "  health_normal['성별'] = lb.fit_transform(health_normal['성별'])\n"
     ]
    },
    {
     "data": {
      "text/html": [
       "<div>\n",
       "<style scoped>\n",
       "    .dataframe tbody tr th:only-of-type {\n",
       "        vertical-align: middle;\n",
       "    }\n",
       "\n",
       "    .dataframe tbody tr th {\n",
       "        vertical-align: top;\n",
       "    }\n",
       "\n",
       "    .dataframe thead th {\n",
       "        text-align: right;\n",
       "    }\n",
       "</style>\n",
       "<table border=\"1\" class=\"dataframe\">\n",
       "  <thead>\n",
       "    <tr style=\"text-align: right;\">\n",
       "      <th></th>\n",
       "      <th>운동 날짜</th>\n",
       "      <th>운동 시간(분)</th>\n",
       "      <th>소모 칼로리</th>\n",
       "      <th>걸음 수</th>\n",
       "      <th>심박수</th>\n",
       "      <th>성별</th>\n",
       "    </tr>\n",
       "  </thead>\n",
       "  <tbody>\n",
       "    <tr>\n",
       "      <th>0</th>\n",
       "      <td>2024-10-01</td>\n",
       "      <td>0.065938</td>\n",
       "      <td>-0.606478</td>\n",
       "      <td>0.285714</td>\n",
       "      <td>120</td>\n",
       "      <td>0</td>\n",
       "    </tr>\n",
       "    <tr>\n",
       "      <th>1</th>\n",
       "      <td>2024-10-02</td>\n",
       "      <td>-1.318761</td>\n",
       "      <td>-1.667816</td>\n",
       "      <td>0.085714</td>\n",
       "      <td>110</td>\n",
       "      <td>1</td>\n",
       "    </tr>\n",
       "    <tr>\n",
       "      <th>2</th>\n",
       "      <td>2024-10-03</td>\n",
       "      <td>1.450637</td>\n",
       "      <td>0.985527</td>\n",
       "      <td>0.142857</td>\n",
       "      <td>100</td>\n",
       "      <td>1</td>\n",
       "    </tr>\n",
       "    <tr>\n",
       "      <th>4</th>\n",
       "      <td>2024-10-05</td>\n",
       "      <td>0.527504</td>\n",
       "      <td>0.454859</td>\n",
       "      <td>0.304082</td>\n",
       "      <td>120</td>\n",
       "      <td>0</td>\n",
       "    </tr>\n",
       "    <tr>\n",
       "      <th>5</th>\n",
       "      <td>2024-10-06</td>\n",
       "      <td>-1.318761</td>\n",
       "      <td>-0.606478</td>\n",
       "      <td>0.428571</td>\n",
       "      <td>100</td>\n",
       "      <td>1</td>\n",
       "    </tr>\n",
       "    <tr>\n",
       "      <th>6</th>\n",
       "      <td>2024-10-07</td>\n",
       "      <td>-0.395628</td>\n",
       "      <td>-0.075810</td>\n",
       "      <td>0.000000</td>\n",
       "      <td>190</td>\n",
       "      <td>0</td>\n",
       "    </tr>\n",
       "    <tr>\n",
       "      <th>7</th>\n",
       "      <td>2024-10-08</td>\n",
       "      <td>0.989071</td>\n",
       "      <td>1.516196</td>\n",
       "      <td>0.185714</td>\n",
       "      <td>120</td>\n",
       "      <td>0</td>\n",
       "    </tr>\n",
       "  </tbody>\n",
       "</table>\n",
       "</div>"
      ],
      "text/plain": [
       "        운동 날짜  운동 시간(분)    소모 칼로리      걸음 수  심박수  성별\n",
       "0  2024-10-01  0.065938 -0.606478  0.285714  120   0\n",
       "1  2024-10-02 -1.318761 -1.667816  0.085714  110   1\n",
       "2  2024-10-03  1.450637  0.985527  0.142857  100   1\n",
       "4  2024-10-05  0.527504  0.454859  0.304082  120   0\n",
       "5  2024-10-06 -1.318761 -0.606478  0.428571  100   1\n",
       "6  2024-10-07 -0.395628 -0.075810  0.000000  190   0\n",
       "7  2024-10-08  0.989071  1.516196  0.185714  120   0"
      ]
     },
     "execution_count": 292,
     "metadata": {},
     "output_type": "execute_result"
    }
   ],
   "source": [
    "lb = LabelEncoder()\n",
    "\n",
    "health_normal['성별'] = lb.fit_transform(health_normal['성별'])\n",
    "health_normal"
   ]
  }
 ],
 "metadata": {
  "kernelspec": {
   "display_name": "test_env",
   "language": "python",
   "name": "python3"
  },
  "language_info": {
   "codemirror_mode": {
    "name": "ipython",
    "version": 3
   },
   "file_extension": ".py",
   "mimetype": "text/x-python",
   "name": "python",
   "nbconvert_exporter": "python",
   "pygments_lexer": "ipython3",
   "version": "3.9.20"
  }
 },
 "nbformat": 4,
 "nbformat_minor": 5
}
