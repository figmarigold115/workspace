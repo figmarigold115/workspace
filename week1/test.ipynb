{
 "cells": [
  {
   "cell_type": "code",
   "execution_count": 3,
   "metadata": {},
   "outputs": [
    {
     "name": "stdout",
     "output_type": "stream",
     "text": [
      "hello world!\n"
     ]
    }
   ],
   "source": [
    "print('hello world!')"
   ]
  },
  {
   "cell_type": "code",
   "execution_count": 4,
   "metadata": {},
   "outputs": [
    {
     "name": "stdout",
     "output_type": "stream",
     "text": [
      "당신의 이름은 선입니다.\n"
     ]
    }
   ],
   "source": [
    "name = input('이름을 입력해주세요: ')\n",
    "print('당신의 이름은 ', name, '입니다.', sep='')"
   ]
  },
  {
   "cell_type": "code",
   "execution_count": 5,
   "metadata": {},
   "outputs": [
    {
     "name": "stdout",
     "output_type": "stream",
     "text": [
      "마을로 이동합니다.\n",
      "게임을 종료합니다.\n"
     ]
    }
   ],
   "source": [
    "game = True\n",
    "health = 100\n",
    "gold = 1000\n",
    "\n",
    "while game:  \n",
    "    num = float(input('어느 방향으로 가시겠습니까?  1. 마을  2. 숲  3. 게임 종료'))\n",
    "\n",
    "    if num == 1:\n",
    "        print('마을로 이동합니다.')\n",
    "\n",
    "        town = float(input('어떤 건물로 들어가시겠습니까?  1. 상점  2. 집'))\n",
    "        if town == 1:\n",
    "            print('상점에 입장했습니다.')\n",
    "\n",
    "            answer = input('체력 포션 +30 - 100G 을 구매하시겠습니까? (y/n)')\n",
    "            if answer == 'y':\n",
    "                health += 30\n",
    "                print(name, '의 체력이 30 올랐습니다.\\n', '현재 체력: ', health, sep='')\n",
    "                continue\n",
    "            elif answer == 'n':\n",
    "                print('상점 밖으로 이동합니다.')\n",
    "\n",
    "        elif town == 2:\n",
    "            print('게임을 종료합니다.')\n",
    "            game = False\n",
    "\n",
    "    elif num == 2:\n",
    "        print('숲으로 이동합니다.')\n",
    "    elif num == 3:\n",
    "        print('게임을 종료합니다.')\n",
    "        game = False\n",
    "    else:\n",
    "        print('잘못 입력하셨습니다.')"
   ]
  },
  {
   "cell_type": "code",
   "execution_count": 1,
   "metadata": {},
   "outputs": [],
   "source": [
    "import turtle as t\n",
    "import random\n",
    " \n",
    "t.speed(0)\n",
    "t.pensize(5)\n",
    " \n",
    "colors = ['red', 'blue', 'green', 'purple', 'yellow', 'orange', 'black']\n",
    " \n",
    " \n",
    "def up():\n",
    "    t.setheading(90)\n",
    "    t.forward(100)\n",
    " \n",
    "def down():\n",
    "    t.setheading(270)\n",
    "    t.forward(100)\n",
    " \n",
    " \n",
    "def left():\n",
    "    t.setheading(180)\n",
    "    t.forward(100)\n",
    " \n",
    "def right():\n",
    "    t.setheading(0)\n",
    "    t.forward(100)\n",
    " \n",
    "def clickleft(x, y):\n",
    "    t.color(random.choice(colors))\n",
    " \n",
    " \n",
    "def clickright(x,y):\n",
    "    t.stamp()\n",
    " \n",
    " \n",
    "t.listen()\n",
    " \n",
    "t.onscreenclick(clickleft, 1)\n",
    "t.onscreenclick(clickright, 3)\n",
    " \n",
    "t.onkey(up, 'Up')\n",
    "t.onkey(down, 'Down')\n",
    "t.onkey(left, 'Left')\n",
    "t.onkey(right, 'Right')\n",
    " \n",
    " \n",
    "t.mainloop()"
   ]
  },
  {
   "cell_type": "code",
   "execution_count": 4,
   "metadata": {},
   "outputs": [
    {
     "name": "stdout",
     "output_type": "stream",
     "text": [
      "■■■□■■■■■■■■■□■■■■■■□■■■\n",
      "■■■□■■■■■■■■■□■■■■■■□■■■\n",
      "■■■□■■■■■■■■■□■■■■■■□■■■\n",
      "■■■□□□□□□□□□□□■■■■■■□■■■\n",
      "■■■□■■■■■■■■■□■■■■■■□■■■\n",
      "■■■□■■■■■■■■■□■■■■■■□■■■\n",
      "■■■□■■■■■■■■■□■■■■■■□■■■\n",
      "\n"
     ]
    }
   ],
   "source": [
    "print(\n",
    "    '■■■□■■■■■■■■■□■■■■■■□■■■\\n'\n",
    "    '■■■□■■■■■■■■■□■■■■■■□■■■\\n'\n",
    "    '■■■□■■■■■■■■■□■■■■■■□■■■\\n'\n",
    "    '■■■□□□□□□□□□□□■■■■■■□■■■\\n'\n",
    "    '■■■□■■■■■■■■■□■■■■■■□■■■\\n'\n",
    "    '■■■□■■■■■■■■■□■■■■■■□■■■\\n'\n",
    "    '■■■□■■■■■■■■■□■■■■■■□■■■\\n'\n",
    ")"
   ]
  },
  {
   "cell_type": "code",
   "execution_count": 2,
   "metadata": {},
   "outputs": [
    {
     "data": {
      "text/plain": [
       "range(0, 5)"
      ]
     },
     "execution_count": 2,
     "metadata": {},
     "output_type": "execute_result"
    }
   ],
   "source": [
    "range(5)"
   ]
  },
  {
   "cell_type": "code",
   "execution_count": 1,
   "metadata": {},
   "outputs": [
    {
     "name": "stdout",
     "output_type": "stream",
     "text": [
      "0\n",
      "1\n",
      "2\n",
      "3\n",
      "4\n"
     ]
    }
   ],
   "source": [
    "for i in range(5):\n",
    "    print(i)"
   ]
  },
  {
   "cell_type": "code",
   "execution_count": null,
   "metadata": {},
   "outputs": [],
   "source": []
  }
 ],
 "metadata": {
  "kernelspec": {
   "display_name": "test_env",
   "language": "python",
   "name": "python3"
  },
  "language_info": {
   "codemirror_mode": {
    "name": "ipython",
    "version": 3
   },
   "file_extension": ".py",
   "mimetype": "text/x-python",
   "name": "python",
   "nbconvert_exporter": "python",
   "pygments_lexer": "ipython3",
   "version": "3.9.20"
  }
 },
 "nbformat": 4,
 "nbformat_minor": 2
}
