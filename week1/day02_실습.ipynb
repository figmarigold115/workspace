{
 "cells": [
  {
   "cell_type": "markdown",
   "id": "05997d87",
   "metadata": {},
   "source": [
    "\n",
    "# 🌼 기초 프로그래밍 및 데이터 구조 - 2차시(24.10.24)\n",
    "\n",
    "---\n"
   ]
  },
  {
   "cell_type": "markdown",
   "id": "444e694c",
   "metadata": {},
   "source": [
    "## 1. 파이썬 자료형\n",
    "\n",
    "파이썬에서 자주 사용되는 자료형:\n",
    "\n",
    "- `정수형(Integer)`  \n",
    "정수를 나타내는 자료형 (int)  \n",
    "\n",
    "- `실수형(Float)`  \n",
    "실수를 나타내는 자료형 (float)  \n",
    "\n",
    "- `문자열(String)`  \n",
    "문자를 나타내는 자료형 (str)  \n",
    "\n",
    "- `불형(Boolean)`  \n",
    "참(True)과 거짓(False)을 나타내는 자료형 (bool)\n"
   ]
  },
  {
   "cell_type": "markdown",
   "id": "399d2376",
   "metadata": {},
   "source": [
    "## 2. 정수형과 실수형\n",
    "\n",
    "정수형(`int`)과 실수형(`float`)은 숫자를 표현하는 자료형.\n",
    "- 정수형은 소수점이 없는 숫자를, 실수형은 소수점이 있는 숫자를 나타냄"
   ]
  },
  {
   "cell_type": "code",
   "execution_count": 1,
   "id": "c6c8f24c",
   "metadata": {},
   "outputs": [],
   "source": [
    "a=10\n",
    "b=3.141592\n",
    "c=100.0\n",
    "d=-3\n",
    "e=-8.5"
   ]
  },
  {
   "cell_type": "code",
   "execution_count": 3,
   "id": "6c895ef3",
   "metadata": {},
   "outputs": [
    {
     "name": "stdout",
     "output_type": "stream",
     "text": [
      "a : 10, 자료형 : <class 'int'>\n"
     ]
    }
   ],
   "source": [
    "print(f'a : {a}, 자료형 : {type(a)}')"
   ]
  },
  {
   "cell_type": "code",
   "execution_count": 4,
   "id": "71a532d6",
   "metadata": {},
   "outputs": [
    {
     "name": "stdout",
     "output_type": "stream",
     "text": [
      "b : 3.141592, 자료형 : <class 'float'>\n"
     ]
    }
   ],
   "source": [
    "print(f'b : {b}, 자료형 : {type(b)}')"
   ]
  },
  {
   "cell_type": "code",
   "execution_count": 5,
   "id": "d17bab8a",
   "metadata": {},
   "outputs": [
    {
     "name": "stdout",
     "output_type": "stream",
     "text": [
      "c : 100.0, 자료형 : <class 'float'>\n"
     ]
    }
   ],
   "source": [
    "print(f'c : {c}, 자료형 : {type(c)}')"
   ]
  },
  {
   "cell_type": "code",
   "execution_count": 6,
   "id": "2ce82254",
   "metadata": {},
   "outputs": [
    {
     "name": "stdout",
     "output_type": "stream",
     "text": [
      "d : -3, 자료형 : <class 'int'>\n"
     ]
    }
   ],
   "source": [
    "print(f'd : {d}, 자료형 : {type(d)}')"
   ]
  },
  {
   "cell_type": "code",
   "execution_count": 7,
   "id": "f8cb5143",
   "metadata": {},
   "outputs": [
    {
     "name": "stdout",
     "output_type": "stream",
     "text": [
      "e: -8.5, 자료형 : <class 'float'>\n"
     ]
    }
   ],
   "source": [
    "print(f'e: {e}, 자료형 : {type(e)}')"
   ]
  },
  {
   "cell_type": "markdown",
   "id": "521eeff8",
   "metadata": {},
   "source": [
    "### 정수와 실수 간 형변환"
   ]
  },
  {
   "cell_type": "code",
   "execution_count": 8,
   "id": "0e77bfd6",
   "metadata": {},
   "outputs": [
    {
     "data": {
      "text/plain": [
       "10"
      ]
     },
     "execution_count": 8,
     "metadata": {},
     "output_type": "execute_result"
    }
   ],
   "source": [
    "a"
   ]
  },
  {
   "cell_type": "code",
   "execution_count": 9,
   "id": "f81d6ea1",
   "metadata": {},
   "outputs": [
    {
     "name": "stdout",
     "output_type": "stream",
     "text": [
      "10.0\n"
     ]
    }
   ],
   "source": [
    "# 정수형 a를 실수형으로 형 변환\n",
    "f = float(a)\n",
    "print(f)"
   ]
  },
  {
   "cell_type": "code",
   "execution_count": 11,
   "id": "409cabe9",
   "metadata": {},
   "outputs": [
    {
     "name": "stdout",
     "output_type": "stream",
     "text": [
      "변환된 b의 값: 3, 자료형 : <class 'int'>\n"
     ]
    }
   ],
   "source": [
    "# 실수형 b를 정수형으로 형 변환\n",
    "i = int(b)\n",
    "print(f'변환된 b의 값: {i}, 자료형 : {type(i)}')"
   ]
  },
  {
   "cell_type": "markdown",
   "id": "303650c5",
   "metadata": {},
   "source": [
    "### 기본 산술 연산"
   ]
  },
  {
   "cell_type": "code",
   "execution_count": 12,
   "id": "d26c9e79",
   "metadata": {},
   "outputs": [],
   "source": [
    "A=2\n",
    "B=-5\n",
    "C=9\n",
    "D=45\n",
    "E=10"
   ]
  },
  {
   "cell_type": "markdown",
   "id": "22b1494d",
   "metadata": {},
   "source": [
    "### 덧셈"
   ]
  },
  {
   "cell_type": "code",
   "execution_count": 27,
   "id": "adf2b12b",
   "metadata": {},
   "outputs": [
    {
     "name": "stdout",
     "output_type": "stream",
     "text": [
      "2 더하기 9는 11입니다.\n"
     ]
    }
   ],
   "source": [
    "print(f'{A} 더하기 {C}는 {A+C}입니다.') # 2+9"
   ]
  },
  {
   "cell_type": "markdown",
   "id": "e0e6af90",
   "metadata": {},
   "source": [
    "### 뺄셈"
   ]
  },
  {
   "cell_type": "code",
   "execution_count": 26,
   "id": "b2f6f2c1",
   "metadata": {},
   "outputs": [
    {
     "name": "stdout",
     "output_type": "stream",
     "text": [
      "9 빼기 2는 7입니다.\n"
     ]
    }
   ],
   "source": [
    "print(f'{C} 빼기 {A}는 {C-A}입니다.') # 9-2"
   ]
  },
  {
   "cell_type": "markdown",
   "id": "f8ddf49d",
   "metadata": {},
   "source": [
    "### 곱셈"
   ]
  },
  {
   "cell_type": "code",
   "execution_count": 25,
   "id": "bdec146f",
   "metadata": {},
   "outputs": [
    {
     "name": "stdout",
     "output_type": "stream",
     "text": [
      "9 곱하기 10은 90입니다.\n"
     ]
    }
   ],
   "source": [
    "print(f'{C} 곱하기 {E}은 {C*E}입니다.') # 9*10"
   ]
  },
  {
   "cell_type": "markdown",
   "id": "b3f2761d",
   "metadata": {},
   "source": [
    "### 나눗셈"
   ]
  },
  {
   "cell_type": "code",
   "execution_count": 24,
   "id": "28ce7fbc",
   "metadata": {},
   "outputs": [
    {
     "name": "stdout",
     "output_type": "stream",
     "text": [
      "45 나누기 9는 5.0입니다.\n"
     ]
    }
   ],
   "source": [
    "print(f'{D} 나누기 {C}는 {D/C}입니다.') # 45/9"
   ]
  },
  {
   "cell_type": "markdown",
   "id": "d6ed5047",
   "metadata": {},
   "source": [
    "### 나머지"
   ]
  },
  {
   "cell_type": "code",
   "execution_count": 19,
   "id": "dd450e6d",
   "metadata": {},
   "outputs": [],
   "source": [
    "F=10\n",
    "G=3"
   ]
  },
  {
   "cell_type": "code",
   "execution_count": 28,
   "id": "37038d95",
   "metadata": {},
   "outputs": [
    {
     "name": "stdout",
     "output_type": "stream",
     "text": [
      "10를 3로 나누었을 때 나머지는 1입니다.\n"
     ]
    }
   ],
   "source": [
    "print(f'{F}를 {G}로 나누었을 때 나머지는 {F%G}입니다.') # 10%3"
   ]
  },
  {
   "cell_type": "markdown",
   "id": "78ff25f9",
   "metadata": {},
   "source": [
    "### 몫"
   ]
  },
  {
   "cell_type": "code",
   "execution_count": 29,
   "id": "71923b18",
   "metadata": {},
   "outputs": [
    {
     "name": "stdout",
     "output_type": "stream",
     "text": [
      "10를 3로 나누었을 때 몫은 3입니다.\n"
     ]
    }
   ],
   "source": [
    "print(f'{F}를 {G}로 나누었을 때 몫은 {F//G}입니다.') # 10//3"
   ]
  },
  {
   "cell_type": "markdown",
   "id": "9b370101",
   "metadata": {},
   "source": [
    "### 거듭제곱"
   ]
  },
  {
   "cell_type": "code",
   "execution_count": 32,
   "id": "21ecd4ad",
   "metadata": {},
   "outputs": [
    {
     "name": "stdout",
     "output_type": "stream",
     "text": [
      "3의 거듭제곱은 27입니다.\n"
     ]
    }
   ],
   "source": [
    "print(f'{G}의 거듭제곱은 {G**3}입니다.') # 3^3"
   ]
  },
  {
   "cell_type": "markdown",
   "id": "8756d0db",
   "metadata": {},
   "source": [
    "\n",
    "## 3. 문자열(String)\n",
    "\n",
    "문자열(`str`)은 문자의 집합  \n",
    "문자열은 작은따옴표(' ') 또는 큰따옴표(\" \")로 묶어 표현할 수 있음"
   ]
  },
  {
   "cell_type": "code",
   "execution_count": 1,
   "id": "94c68fe6",
   "metadata": {},
   "outputs": [],
   "source": [
    "str = 'python'"
   ]
  },
  {
   "cell_type": "code",
   "execution_count": 2,
   "id": "47b0d4f2",
   "metadata": {},
   "outputs": [
    {
     "name": "stdout",
     "output_type": "stream",
     "text": [
      "python\n"
     ]
    }
   ],
   "source": [
    "print(str)"
   ]
  },
  {
   "cell_type": "code",
   "execution_count": 3,
   "id": "85749380",
   "metadata": {},
   "outputs": [],
   "source": [
    "str2 = 'string'"
   ]
  },
  {
   "cell_type": "code",
   "execution_count": 4,
   "id": "9444e199",
   "metadata": {},
   "outputs": [
    {
     "name": "stdout",
     "output_type": "stream",
     "text": [
      "string\n"
     ]
    }
   ],
   "source": [
    "print(str2)"
   ]
  },
  {
   "cell_type": "code",
   "execution_count": 6,
   "id": "766362f4",
   "metadata": {},
   "outputs": [],
   "source": [
    "str2 = \"string,\""
   ]
  },
  {
   "cell_type": "code",
   "execution_count": 7,
   "id": "2c35f605",
   "metadata": {},
   "outputs": [
    {
     "name": "stdout",
     "output_type": "stream",
     "text": [
      "string,\n"
     ]
    }
   ],
   "source": [
    "print(str2)"
   ]
  },
  {
   "cell_type": "code",
   "execution_count": 8,
   "id": "386a4d58",
   "metadata": {},
   "outputs": [
    {
     "ename": "SyntaxError",
     "evalue": "EOL while scanning string literal (1526924999.py, line 1)",
     "output_type": "error",
     "traceback": [
      "\u001b[1;36m  Cell \u001b[1;32mIn[8], line 1\u001b[1;36m\u001b[0m\n\u001b[1;33m    print('\")\u001b[0m\n\u001b[1;37m             ^\u001b[0m\n\u001b[1;31mSyntaxError\u001b[0m\u001b[1;31m:\u001b[0m EOL while scanning string literal\n"
     ]
    }
   ],
   "source": [
    "# 작은 따옴표로 시작해서 큰 따옴표로 끝나면 오류가 발생함\n",
    "print('\")"
   ]
  },
  {
   "cell_type": "code",
   "execution_count": 10,
   "id": "9b69bfba",
   "metadata": {},
   "outputs": [],
   "source": [
    "sent = \"\"\"그녀는 말했다. '나는 배가 고파'\"\"\""
   ]
  },
  {
   "cell_type": "code",
   "execution_count": 11,
   "id": "23bb397c",
   "metadata": {},
   "outputs": [
    {
     "name": "stdout",
     "output_type": "stream",
     "text": [
      "그녀는 말했다. '나는 배가 고파'\n"
     ]
    }
   ],
   "source": [
    "print(sent)"
   ]
  },
  {
   "cell_type": "markdown",
   "id": "1b21d3c8",
   "metadata": {},
   "source": [
    "### 연결"
   ]
  },
  {
   "cell_type": "code",
   "execution_count": 12,
   "id": "05580b90",
   "metadata": {},
   "outputs": [],
   "source": [
    "str1 = 'Hello'\n",
    "str2 = 'World'"
   ]
  },
  {
   "cell_type": "code",
   "execution_count": 13,
   "id": "605aa995",
   "metadata": {},
   "outputs": [
    {
     "data": {
      "text/plain": [
       "'HelloWorld'"
      ]
     },
     "execution_count": 13,
     "metadata": {},
     "output_type": "execute_result"
    }
   ],
   "source": [
    "str1+str2"
   ]
  },
  {
   "cell_type": "code",
   "execution_count": 14,
   "id": "da1d7da0",
   "metadata": {},
   "outputs": [
    {
     "data": {
      "text/plain": [
       "'Hello World'"
      ]
     },
     "execution_count": 14,
     "metadata": {},
     "output_type": "execute_result"
    }
   ],
   "source": [
    "str3 = str1+' '+str2\n",
    "str3"
   ]
  },
  {
   "cell_type": "markdown",
   "id": "e50466d9",
   "metadata": {},
   "source": [
    "### 반복"
   ]
  },
  {
   "cell_type": "code",
   "execution_count": 18,
   "id": "48e58999",
   "metadata": {},
   "outputs": [
    {
     "name": "stdout",
     "output_type": "stream",
     "text": [
      "Hello Hello Hello \n"
     ]
    }
   ],
   "source": [
    "# 띄어쓰기를 넣고 싶다면 더하기로 추가\n",
    "# 단, 괄호로 처리해줘야 한다\n",
    "str4 = (str1 + ' ')*3\n",
    "print(str4)"
   ]
  },
  {
   "cell_type": "markdown",
   "id": "f465dc8a",
   "metadata": {},
   "source": [
    "### 인덱싱"
   ]
  },
  {
   "cell_type": "code",
   "execution_count": 19,
   "id": "fd1aacd1",
   "metadata": {},
   "outputs": [
    {
     "data": {
      "text/plain": [
       "'H'"
      ]
     },
     "execution_count": 19,
     "metadata": {},
     "output_type": "execute_result"
    }
   ],
   "source": [
    "str3[0]"
   ]
  },
  {
   "cell_type": "code",
   "execution_count": 20,
   "id": "e81f2289",
   "metadata": {},
   "outputs": [
    {
     "data": {
      "text/plain": [
       "'e'"
      ]
     },
     "execution_count": 20,
     "metadata": {},
     "output_type": "execute_result"
    }
   ],
   "source": [
    "str3[1]"
   ]
  },
  {
   "cell_type": "code",
   "execution_count": 21,
   "id": "83815287",
   "metadata": {},
   "outputs": [
    {
     "data": {
      "text/plain": [
       "'l'"
      ]
     },
     "execution_count": 21,
     "metadata": {},
     "output_type": "execute_result"
    }
   ],
   "source": [
    "str3[2]"
   ]
  },
  {
   "cell_type": "code",
   "execution_count": 22,
   "id": "08daa04f",
   "metadata": {},
   "outputs": [
    {
     "data": {
      "text/plain": [
       "'d'"
      ]
     },
     "execution_count": 22,
     "metadata": {},
     "output_type": "execute_result"
    }
   ],
   "source": [
    "# 뒤에서부터 세려면 마이너스로\n",
    "str3[-1]"
   ]
  },
  {
   "cell_type": "markdown",
   "id": "3842bdbc",
   "metadata": {},
   "source": [
    "### 슬라이싱"
   ]
  },
  {
   "cell_type": "code",
   "execution_count": 23,
   "id": "b98603ec",
   "metadata": {},
   "outputs": [
    {
     "data": {
      "text/plain": [
       "'Hello World'"
      ]
     },
     "execution_count": 23,
     "metadata": {},
     "output_type": "execute_result"
    }
   ],
   "source": [
    "str3"
   ]
  },
  {
   "cell_type": "code",
   "execution_count": 25,
   "id": "6fd1892f",
   "metadata": {},
   "outputs": [
    {
     "data": {
      "text/plain": [
       "'Hello'"
      ]
     },
     "execution_count": 25,
     "metadata": {},
     "output_type": "execute_result"
    }
   ],
   "source": [
    "# 원하는 자릿수에 +1까지 범위 지정\n",
    "str3[0:5]"
   ]
  },
  {
   "cell_type": "code",
   "execution_count": 30,
   "id": "6ad34013",
   "metadata": {},
   "outputs": [
    {
     "data": {
      "text/plain": [
       "'World'"
      ]
     },
     "execution_count": 30,
     "metadata": {},
     "output_type": "execute_result"
    }
   ],
   "source": [
    "str3[6:11]"
   ]
  },
  {
   "cell_type": "code",
   "execution_count": 33,
   "id": "78d60f8b",
   "metadata": {},
   "outputs": [
    {
     "data": {
      "text/plain": [
       "'World'"
      ]
     },
     "execution_count": 33,
     "metadata": {},
     "output_type": "execute_result"
    }
   ],
   "source": [
    "# 맨 마지막은 생략 가능\n",
    "str3[6:]"
   ]
  },
  {
   "cell_type": "code",
   "execution_count": 35,
   "id": "4a295d46",
   "metadata": {},
   "outputs": [
    {
     "data": {
      "text/plain": [
       "'Hello'"
      ]
     },
     "execution_count": 35,
     "metadata": {},
     "output_type": "execute_result"
    }
   ],
   "source": [
    "# 첫 번째도 생략 가능\n",
    "str3[:5]"
   ]
  },
  {
   "cell_type": "code",
   "execution_count": 36,
   "id": "f12c666f",
   "metadata": {},
   "outputs": [
    {
     "data": {
      "text/plain": [
       "'HloWrd'"
      ]
     },
     "execution_count": 36,
     "metadata": {},
     "output_type": "execute_result"
    }
   ],
   "source": [
    "# 맨 뒤는 step, 몇 칸을 건너서 출력할건지 지정\n",
    "str3[::2]"
   ]
  },
  {
   "cell_type": "code",
   "execution_count": 37,
   "id": "03c4d2d0",
   "metadata": {},
   "outputs": [
    {
     "data": {
      "text/plain": [
       "'HlWl'"
      ]
     },
     "execution_count": 37,
     "metadata": {},
     "output_type": "execute_result"
    }
   ],
   "source": [
    "str3[::3]"
   ]
  },
  {
   "cell_type": "markdown",
   "id": "6c765fad",
   "metadata": {},
   "source": [
    "### 이스케이프 코드\n",
    "<img src='./이스케이프코드.png'>"
   ]
  },
  {
   "cell_type": "code",
   "execution_count": 39,
   "id": "ab519309",
   "metadata": {},
   "outputs": [
    {
     "ename": "SyntaxError",
     "evalue": "EOL while scanning string literal (2609027240.py, line 2)",
     "output_type": "error",
     "traceback": [
      "\u001b[1;36m  Cell \u001b[1;32mIn[39], line 2\u001b[1;36m\u001b[0m\n\u001b[1;33m    print('\\')\u001b[0m\n\u001b[1;37m              ^\u001b[0m\n\u001b[1;31mSyntaxError\u001b[0m\u001b[1;31m:\u001b[0m EOL while scanning string literal\n"
     ]
    }
   ],
   "source": [
    "# 하나만 입력하면 문자열이 끝나지 않았다는 오류 발생\n",
    "# 백슬래시는 파이썬에서 경로를 나타내는 문자이므로 예외 사항\n",
    "print('\\')"
   ]
  },
  {
   "cell_type": "code",
   "execution_count": 40,
   "id": "bf966631",
   "metadata": {},
   "outputs": [
    {
     "name": "stdout",
     "output_type": "stream",
     "text": [
      "\\\n"
     ]
    }
   ],
   "source": [
    "print('\\\\')"
   ]
  },
  {
   "cell_type": "code",
   "execution_count": 43,
   "id": "86cfe556",
   "metadata": {},
   "outputs": [
    {
     "name": "stdout",
     "output_type": "stream",
     "text": [
      "hi, 'hi'\n"
     ]
    }
   ],
   "source": [
    "st ='hi, \\'hi\\''\n",
    "print(st)"
   ]
  },
  {
   "cell_type": "code",
   "execution_count": 44,
   "id": "630bf893",
   "metadata": {},
   "outputs": [
    {
     "name": "stdout",
     "output_type": "stream",
     "text": [
      "줄바꿈\n",
      "줄바꿈\n"
     ]
    }
   ],
   "source": [
    "print('줄바꿈\\n줄바꿈')"
   ]
  },
  {
   "cell_type": "code",
   "execution_count": 45,
   "id": "b8b52b70",
   "metadata": {},
   "outputs": [
    {
     "name": "stdout",
     "output_type": "stream",
     "text": [
      "띄어쓰기 네칸\t사용합니다\n"
     ]
    }
   ],
   "source": [
    "print('띄어쓰기 네칸\\t사용합니다')"
   ]
  },
  {
   "cell_type": "markdown",
   "id": "cce5e6b7",
   "metadata": {},
   "source": [
    "### 길이 구하기"
   ]
  },
  {
   "cell_type": "code",
   "execution_count": 46,
   "id": "f5d09965",
   "metadata": {},
   "outputs": [],
   "source": [
    "len_str ='객체의길이반환'"
   ]
  },
  {
   "cell_type": "code",
   "execution_count": 48,
   "id": "d7cd2068",
   "metadata": {},
   "outputs": [
    {
     "data": {
      "text/plain": [
       "7"
      ]
     },
     "execution_count": 48,
     "metadata": {},
     "output_type": "execute_result"
    }
   ],
   "source": [
    "length = len(len_str)\n",
    "length"
   ]
  },
  {
   "cell_type": "markdown",
   "id": "89e748f7",
   "metadata": {},
   "source": [
    "- 간장 공장 공장장은 강 공장장이고 된장 공장 공장장은 장 공장장이다"
   ]
  },
  {
   "cell_type": "code",
   "execution_count": 49,
   "id": "bc88e06c",
   "metadata": {},
   "outputs": [],
   "source": [
    "len_str2 = '간장 공장 공장장은 강 공장장이고 된장 공장 공장장은 장 공장장이다'"
   ]
  },
  {
   "cell_type": "code",
   "execution_count": 50,
   "id": "1596b57e",
   "metadata": {},
   "outputs": [
    {
     "data": {
      "text/plain": [
       "37"
      ]
     },
     "execution_count": 50,
     "metadata": {},
     "output_type": "execute_result"
    }
   ],
   "source": [
    "len(len_str2)"
   ]
  },
  {
   "cell_type": "code",
   "execution_count": 51,
   "id": "36e3a35d",
   "metadata": {},
   "outputs": [
    {
     "name": "stdout",
     "output_type": "stream",
     "text": [
      "len_str2의 길이는 37입니다.\n"
     ]
    }
   ],
   "source": [
    "print(f'len_str2의 길이는 {len(len_str2)}입니다.')"
   ]
  },
  {
   "cell_type": "markdown",
   "id": "d9feddd1",
   "metadata": {},
   "source": [
    "### 그 외 문자열의 내장함수\n",
    "1. upper(), lower()\n",
    "2. strip()\n",
    "3. replace()\n",
    "4. split()"
   ]
  },
  {
   "cell_type": "code",
   "execution_count": 52,
   "id": "e226e058",
   "metadata": {},
   "outputs": [],
   "source": [
    "a = 'apple'\n",
    "b = 'BANANA'"
   ]
  },
  {
   "cell_type": "code",
   "execution_count": 55,
   "id": "9dc7d2e9",
   "metadata": {},
   "outputs": [
    {
     "data": {
      "text/plain": [
       "'APPLE'"
      ]
     },
     "execution_count": 55,
     "metadata": {},
     "output_type": "execute_result"
    }
   ],
   "source": [
    "# upper(a) 라고 사용할 수 없음\n",
    "a.upper()"
   ]
  },
  {
   "cell_type": "code",
   "execution_count": 56,
   "id": "3bca9f26",
   "metadata": {},
   "outputs": [
    {
     "data": {
      "text/plain": [
       "'banana'"
      ]
     },
     "execution_count": 56,
     "metadata": {},
     "output_type": "execute_result"
    }
   ],
   "source": [
    "b.lower()"
   ]
  },
  {
   "cell_type": "code",
   "execution_count": 60,
   "id": "a1f89a0d",
   "metadata": {},
   "outputs": [
    {
     "data": {
      "text/plain": [
       "'라고니'"
      ]
     },
     "execution_count": 60,
     "metadata": {},
     "output_type": "execute_result"
    }
   ],
   "source": [
    "# 양쪽에 있는 것들만 지운다\n",
    "c = '고라고니고'\n",
    "c.strip('고')"
   ]
  },
  {
   "cell_type": "code",
   "execution_count": 61,
   "id": "c58b3230",
   "metadata": {},
   "outputs": [
    {
     "data": {
      "text/plain": [
       "'러'"
      ]
     },
     "execution_count": 61,
     "metadata": {},
     "output_type": "execute_result"
    }
   ],
   "source": [
    "d = '기러기'\n",
    "d.strip('기')"
   ]
  },
  {
   "cell_type": "code",
   "execution_count": 62,
   "id": "009af729",
   "metadata": {},
   "outputs": [
    {
     "data": {
      "text/plain": [
       "'아파'"
      ]
     },
     "execution_count": 62,
     "metadata": {},
     "output_type": "execute_result"
    }
   ],
   "source": [
    "e = '아파트'\n",
    "e.strip('트')"
   ]
  },
  {
   "cell_type": "code",
   "execution_count": 63,
   "id": "0a7e5c95",
   "metadata": {},
   "outputs": [
    {
     "name": "stdout",
     "output_type": "stream",
     "text": [
      "text\n"
     ]
    }
   ],
   "source": [
    "f = 'text'\n",
    "print(f)"
   ]
  },
  {
   "cell_type": "code",
   "execution_count": 64,
   "id": "659231e3",
   "metadata": {},
   "outputs": [
    {
     "data": {
      "text/plain": [
       "'test'"
      ]
     },
     "execution_count": 64,
     "metadata": {},
     "output_type": "execute_result"
    }
   ],
   "source": [
    "f.replace('x', 's')"
   ]
  },
  {
   "cell_type": "code",
   "execution_count": 67,
   "id": "de530ab4",
   "metadata": {},
   "outputs": [
    {
     "data": {
      "text/plain": [
       "'tet'"
      ]
     },
     "execution_count": 67,
     "metadata": {},
     "output_type": "execute_result"
    }
   ],
   "source": [
    "f.replace('x', '')"
   ]
  },
  {
   "cell_type": "code",
   "execution_count": 69,
   "id": "19cf2c23",
   "metadata": {},
   "outputs": [],
   "source": [
    "n = 'Hello,World'"
   ]
  },
  {
   "cell_type": "code",
   "execution_count": 70,
   "id": "f284c622",
   "metadata": {},
   "outputs": [
    {
     "data": {
      "text/plain": [
       "['Hello', 'World']"
      ]
     },
     "execution_count": 70,
     "metadata": {},
     "output_type": "execute_result"
    }
   ],
   "source": [
    "n.split(',')"
   ]
  },
  {
   "cell_type": "code",
   "execution_count": 71,
   "id": "fa5374ef",
   "metadata": {},
   "outputs": [],
   "source": [
    "m = '띄어쓰기 기준으로 나누기'"
   ]
  },
  {
   "cell_type": "code",
   "execution_count": 72,
   "id": "5a152945",
   "metadata": {},
   "outputs": [
    {
     "data": {
      "text/plain": [
       "['띄어쓰기', '기준으로', '나누기']"
      ]
     },
     "execution_count": 72,
     "metadata": {},
     "output_type": "execute_result"
    }
   ],
   "source": [
    "m.split(' ')"
   ]
  },
  {
   "cell_type": "markdown",
   "id": "808fc60b",
   "metadata": {},
   "source": [
    "### Q1. 주어진 문자열을 모두 대문자로 변환해 출력해보세요\n",
    "- i love python\n",
    "- this is so easy"
   ]
  },
  {
   "cell_type": "code",
   "execution_count": 73,
   "id": "a575d214",
   "metadata": {},
   "outputs": [
    {
     "data": {
      "text/plain": [
       "'I LOVE PYTHON'"
      ]
     },
     "execution_count": 73,
     "metadata": {},
     "output_type": "execute_result"
    }
   ],
   "source": [
    "a11 = 'i love python'\n",
    "a11.upper()"
   ]
  },
  {
   "cell_type": "code",
   "execution_count": 74,
   "id": "2e13095e",
   "metadata": {},
   "outputs": [
    {
     "data": {
      "text/plain": [
       "'THIS IS SO EASY'"
      ]
     },
     "execution_count": 74,
     "metadata": {},
     "output_type": "execute_result"
    }
   ],
   "source": [
    "a12 = 'this is so easy'\n",
    "a12.upper()"
   ]
  },
  {
   "cell_type": "markdown",
   "id": "4a9f73d5",
   "metadata": {},
   "source": [
    "### Q2. 주어진 문자열을 대문자로 변환해 출력해주세요\n",
    "- pneumonoultramicroscopicsilicovolcanoconiosis"
   ]
  },
  {
   "cell_type": "code",
   "execution_count": 75,
   "id": "8511d487",
   "metadata": {},
   "outputs": [
    {
     "data": {
      "text/plain": [
       "'PNEUMONOULTRAMICROSCOPICSILICOVOLCANOCONIOSIS'"
      ]
     },
     "execution_count": 75,
     "metadata": {},
     "output_type": "execute_result"
    }
   ],
   "source": [
    "a2 = 'pneumonoultramicroscopicsilicovolcanoconiosis'\n",
    "a2.upper()"
   ]
  },
  {
   "cell_type": "markdown",
   "id": "fc1a7ee6",
   "metadata": {},
   "source": [
    "### Q3. 양 끝에 공백이 있는 문자열에서 공백을 제거한 뒤 출력해주세요\n",
    "-                공백 지우기             "
   ]
  },
  {
   "cell_type": "code",
   "execution_count": 82,
   "id": "743d2ac8",
   "metadata": {},
   "outputs": [
    {
     "data": {
      "text/plain": [
       "'공백 지우기'"
      ]
     },
     "execution_count": 82,
     "metadata": {},
     "output_type": "execute_result"
    }
   ],
   "source": [
    "a3 = '               공백 지우기             '\n",
    "a3.strip(' ')"
   ]
  },
  {
   "cell_type": "markdown",
   "id": "a8918731",
   "metadata": {},
   "source": [
    "### Q4. 문자열에서 앞 뒤 쉼표를 제거한 후 문자열의 길이를 출력해보세요\n",
    "- ,,,,,the weather is good today,,,,,"
   ]
  },
  {
   "cell_type": "code",
   "execution_count": 77,
   "id": "5f04f7f4",
   "metadata": {},
   "outputs": [
    {
     "data": {
      "text/plain": [
       "25"
      ]
     },
     "execution_count": 77,
     "metadata": {},
     "output_type": "execute_result"
    }
   ],
   "source": [
    "a4 = ',,,,,the weather is good today,,,,,'\n",
    "len(a4.strip(','))"
   ]
  },
  {
   "cell_type": "markdown",
   "id": "5f7000a2",
   "metadata": {},
   "source": [
    "### Q5. 문장에서 apple을 peach로 바꿔보세요\n",
    "- I love apple"
   ]
  },
  {
   "cell_type": "code",
   "execution_count": 78,
   "id": "9debec12",
   "metadata": {},
   "outputs": [
    {
     "data": {
      "text/plain": [
       "'I love peach'"
      ]
     },
     "execution_count": 78,
     "metadata": {},
     "output_type": "execute_result"
    }
   ],
   "source": [
    "a5 = 'I love apple'\n",
    "a5.replace('apple', 'peach')"
   ]
  },
  {
   "cell_type": "markdown",
   "id": "c9e8f9ff",
   "metadata": {},
   "source": [
    "### Q6. 문장에서 공백을 언더바(_)로 바꿔보세요\n",
    "- Fill in the gaps in this sentence"
   ]
  },
  {
   "cell_type": "code",
   "execution_count": 79,
   "id": "15845f32",
   "metadata": {},
   "outputs": [
    {
     "data": {
      "text/plain": [
       "'Fill_in_the_gaps_in_this_sentence'"
      ]
     },
     "execution_count": 79,
     "metadata": {},
     "output_type": "execute_result"
    }
   ],
   "source": [
    "a6 = 'Fill in the gaps in this sentence'\n",
    "a6.replace(' ', '_')"
   ]
  },
  {
   "cell_type": "markdown",
   "id": "478de533",
   "metadata": {},
   "source": [
    "### Q7. 문장을 쉼표 기준으로 분할한 후 결과를 출력하세요\n",
    "- 고양이, 강아지, 햄스터"
   ]
  },
  {
   "cell_type": "code",
   "execution_count": 80,
   "id": "a0797fea",
   "metadata": {},
   "outputs": [
    {
     "data": {
      "text/plain": [
       "['고양이', ' 강아지', ' 햄스터']"
      ]
     },
     "execution_count": 80,
     "metadata": {},
     "output_type": "execute_result"
    }
   ],
   "source": [
    "a7 = '고양이, 강아지, 햄스터'\n",
    "a7.split(',')"
   ]
  },
  {
   "cell_type": "markdown",
   "id": "993a97cf",
   "metadata": {},
   "source": [
    "### Q8. 문장에서 is를 was로 바꾸고 문자열을 소문자로 변환해보세요\n",
    "- Python is fun. Python is interesting."
   ]
  },
  {
   "cell_type": "code",
   "execution_count": 81,
   "id": "7b57d747",
   "metadata": {},
   "outputs": [
    {
     "data": {
      "text/plain": [
       "'python was fun. python was interesting'"
      ]
     },
     "execution_count": 81,
     "metadata": {},
     "output_type": "execute_result"
    }
   ],
   "source": [
    "a8 = 'Python is fun. Python is interesting'\n",
    "(a8.replace('is', 'was')).lower()"
   ]
  },
  {
   "cell_type": "markdown",
   "id": "d1779c11",
   "metadata": {},
   "source": [
    "### 문자열 포매팅\n",
    "- % 연산자 포매팅"
   ]
  },
  {
   "cell_type": "code",
   "execution_count": 88,
   "id": "1877eea2",
   "metadata": {},
   "outputs": [],
   "source": [
    "weather = '흐림'"
   ]
  },
  {
   "cell_type": "code",
   "execution_count": 89,
   "id": "dbd6df99",
   "metadata": {},
   "outputs": [],
   "source": [
    "temp = 20"
   ]
  },
  {
   "cell_type": "code",
   "execution_count": 90,
   "id": "b6a5e16d",
   "metadata": {},
   "outputs": [
    {
     "name": "stdout",
     "output_type": "stream",
     "text": [
      "오늘 날씨는 흐림이고 기온은 20도 입니다.\n"
     ]
    }
   ],
   "source": [
    "# %\n",
    "print('오늘 날씨는 %s이고 기온은 %d도 입니다.' % (weather, temp))"
   ]
  },
  {
   "cell_type": "code",
   "execution_count": 92,
   "id": "e6f7f72c",
   "metadata": {},
   "outputs": [
    {
     "name": "stdout",
     "output_type": "stream",
     "text": [
      "오늘 날씨는 흐림이고 기온은 20도 입니다.\n"
     ]
    }
   ],
   "source": [
    "# format 함수\n",
    "print('오늘 날씨는 {}이고 기온은 {}도 입니다.'.format(weather, temp))"
   ]
  },
  {
   "cell_type": "code",
   "execution_count": 93,
   "id": "35382762",
   "metadata": {},
   "outputs": [
    {
     "name": "stdout",
     "output_type": "stream",
     "text": [
      "오늘 날씨는 흐림이고 기온은 20도 입니다.\n"
     ]
    }
   ],
   "source": [
    "# f-string\n",
    "print(f'오늘 날씨는 {weather}이고 기온은 {temp}도 입니다.')"
   ]
  },
  {
   "cell_type": "code",
   "execution_count": 100,
   "id": "030b4f7c",
   "metadata": {},
   "outputs": [],
   "source": [
    "movie_title = '베테랑2'\n",
    "seats = 4\n",
    "price = 20000 * seats"
   ]
  },
  {
   "cell_type": "code",
   "execution_count": 101,
   "id": "1933aeac",
   "metadata": {},
   "outputs": [
    {
     "name": "stdout",
     "output_type": "stream",
     "text": [
      "영화 베테랑2의 4좌석을 예매하셨습니다. 총 가격은 80000원입니다.\n"
     ]
    }
   ],
   "source": [
    "print('영화 %s의 %d좌석을 예매하셨습니다. 총 가격은 %d원입니다.' % (movie_title, seats, price))"
   ]
  },
  {
   "cell_type": "code",
   "execution_count": 102,
   "id": "5f190bc8",
   "metadata": {},
   "outputs": [
    {
     "name": "stdout",
     "output_type": "stream",
     "text": [
      "영화 베테랑2의 4좌석을 예매하셨습니다. 총 가격은 80000원입니다.\n"
     ]
    }
   ],
   "source": [
    "print('영화 {}의 {}좌석을 예매하셨습니다. 총 가격은 {}원입니다.'.format(movie_title, seats, price))"
   ]
  },
  {
   "cell_type": "code",
   "execution_count": 103,
   "id": "93cdddbf",
   "metadata": {},
   "outputs": [
    {
     "name": "stdout",
     "output_type": "stream",
     "text": [
      "영화 베테랑2의 4좌석을 예매하셨습니다. 총 가격은 80000원입니다.\n"
     ]
    }
   ],
   "source": [
    "print(f'영화 {movie_title}의 {seats}좌석을 예매하셨습니다. 총 가격은 {price}원입니다.')"
   ]
  },
  {
   "cell_type": "markdown",
   "id": "f1d5be33",
   "metadata": {},
   "source": [
    "### Q1. 섭씨 온도를 입력 받아, 해당 온도를 화씨로 변환한 값을 출력하세요. \n",
    "섭씨를 화씨로 변환하는 공식은 F = C * 9/5 + 32입니다. \n",
    "세 가지 문자열 포매팅 방식으로 결과를 출력하세요"
   ]
  },
  {
   "cell_type": "code",
   "execution_count": 1,
   "id": "0da33c02",
   "metadata": {},
   "outputs": [],
   "source": [
    "C = 20\n",
    "F = C * 9/5 + 32"
   ]
  },
  {
   "cell_type": "code",
   "execution_count": 2,
   "id": "cc79c7f8",
   "metadata": {},
   "outputs": [
    {
     "name": "stdout",
     "output_type": "stream",
     "text": [
      "섭씨 20도는 화씨 68.0도 입니다.\n"
     ]
    }
   ],
   "source": [
    "# %\n",
    "print('섭씨 %d도는 화씨 %.1f도 입니다.' % (C, F))"
   ]
  },
  {
   "cell_type": "code",
   "execution_count": 3,
   "id": "11967da9",
   "metadata": {},
   "outputs": [
    {
     "name": "stdout",
     "output_type": "stream",
     "text": [
      "섭씨 20도는 화씨 68.0도 입니다.\n"
     ]
    }
   ],
   "source": [
    "# format\n",
    "# {:f} > 소수점 모든 자릿수까지 출력\n",
    "# {:.2f} > 소수점 두 번째 자리까지 출력\n",
    "print('섭씨 {}도는 화씨 {}도 입니다.'.format(C, F))"
   ]
  },
  {
   "cell_type": "code",
   "execution_count": 5,
   "id": "7c540689",
   "metadata": {},
   "outputs": [
    {
     "name": "stdout",
     "output_type": "stream",
     "text": [
      "섭씨 20도는 화씨 68.0도 입니다\n"
     ]
    }
   ],
   "source": [
    "# f\n",
    "# {F:.1f} > 소수점 두 번째 자리까지 출력\n",
    "print(f'섭씨 {C}도는 화씨 {F}도 입니다')"
   ]
  },
  {
   "cell_type": "markdown",
   "id": "301a7fe1",
   "metadata": {},
   "source": [
    "### Q2. 운전 중인 자동차의 속도와 제한 속도를 입력받아, 과속 여부를 판단하는 문장을 출력하세요."
   ]
  },
  {
   "cell_type": "code",
   "execution_count": 129,
   "id": "8764d7d7",
   "metadata": {},
   "outputs": [],
   "source": [
    "curren = float(input('현재 속도롤 입력하세요: '))\n",
    "limit = float(input('제한 속도를 입력하세요: '))"
   ]
  },
  {
   "cell_type": "code",
   "execution_count": 130,
   "id": "5a1e8071",
   "metadata": {},
   "outputs": [
    {
     "name": "stdout",
     "output_type": "stream",
     "text": [
      "현재 속도는 120km/h로, 제한속도 50km/h를 초과했습니다!\n"
     ]
    }
   ],
   "source": [
    "# %\n",
    "print('현재 속도는 %dkm/h로, 제한속도 %dkm/h를 초과했습니다!' % (curren, limit))"
   ]
  },
  {
   "cell_type": "code",
   "execution_count": 131,
   "id": "53925baf",
   "metadata": {},
   "outputs": [
    {
     "name": "stdout",
     "output_type": "stream",
     "text": [
      "현재 속도는 120.0km/h로, 제한 속도 50.0km/h를 초과했습니다!\n"
     ]
    }
   ],
   "source": [
    "# format\n",
    "print('현재 속도는 {}km/h로, 제한 속도 {}km/h를 초과했습니다!'.format(curren, limit))"
   ]
  },
  {
   "cell_type": "code",
   "execution_count": 132,
   "id": "c2b5eb29",
   "metadata": {},
   "outputs": [
    {
     "name": "stdout",
     "output_type": "stream",
     "text": [
      "현재 속도는 120.0km/h로, 제한 속도 50.0km/h를 초과했습니다!\n"
     ]
    }
   ],
   "source": [
    "# f\n",
    "print(f'현재 속도는 {curren}km/h로, 제한 속도 {limit}km/h를 초과했습니다!')"
   ]
  },
  {
   "cell_type": "markdown",
   "id": "da548f6e",
   "metadata": {},
   "source": [
    "### Q3. 사용자가 주문한 음료와 가격을 입력받아, 주문 내역을 출력하세요. 음료는 10% 할인됩니다\n",
    "10% 할인된 금액을 계산해서 같이 출력하세요."
   ]
  },
  {
   "cell_type": "code",
   "execution_count": 121,
   "id": "1471538a",
   "metadata": {},
   "outputs": [],
   "source": [
    "drink = '커피'\n",
    "num = 1\n",
    "price = 4500 * num\n",
    "dc_price = price * 0.9 * num"
   ]
  },
  {
   "cell_type": "code",
   "execution_count": 122,
   "id": "080381c7",
   "metadata": {},
   "outputs": [
    {
     "name": "stdout",
     "output_type": "stream",
     "text": [
      "커피 1의 원래 가격은 4500원이고, 할인된 가격은 4050원입니다.\n"
     ]
    }
   ],
   "source": [
    "# %\n",
    "print('%s %d의 원래 가격은 %d원이고, 할인된 가격은 %d원입니다.' % (drink, num, price, dc_price))"
   ]
  },
  {
   "cell_type": "code",
   "execution_count": 123,
   "id": "a967b800",
   "metadata": {},
   "outputs": [
    {
     "name": "stdout",
     "output_type": "stream",
     "text": [
      "커피 1잔의 원래 가격은 4500원이고, 할인된 가격은 4050.0원입니다.\n"
     ]
    }
   ],
   "source": [
    "# format\n",
    "print('{} {}잔의 원래 가격은 {}원이고, 할인된 가격은 {}원입니다.'.format(drink, num, price, dc_price))"
   ]
  },
  {
   "cell_type": "code",
   "execution_count": 124,
   "id": "0cec865b",
   "metadata": {},
   "outputs": [
    {
     "name": "stdout",
     "output_type": "stream",
     "text": [
      "커피 1잔의 가격은 4500원이고, 할인된 가격은 4050.0원입니다.\n"
     ]
    }
   ],
   "source": [
    "# f\n",
    "print(f'{drink} {num}잔의 가격은 {price}원이고, 할인된 가격은 {dc_price}원입니다.')"
   ]
  },
  {
   "cell_type": "markdown",
   "id": "ae4b3356",
   "metadata": {},
   "source": [
    "\n",
    "## 4. 불형(Boolean)\n",
    "\n",
    "불형(`bool`)은 논리값인 참(True)과 거짓(False)  \n",
    "주로 조건문에서 사용됨"
   ]
  },
  {
   "cell_type": "code",
   "execution_count": 133,
   "id": "8c8cd015",
   "metadata": {},
   "outputs": [],
   "source": [
    "# 불형 예시\n",
    "student = True\n",
    "teacher = False"
   ]
  },
  {
   "cell_type": "code",
   "execution_count": 134,
   "id": "f38002fa",
   "metadata": {},
   "outputs": [
    {
     "name": "stdout",
     "output_type": "stream",
     "text": [
      "student의 값: True, 자료형: <class 'bool'>\n"
     ]
    }
   ],
   "source": [
    "print(f'student의 값: {student}, 자료형: {type(student)}')"
   ]
  },
  {
   "cell_type": "code",
   "execution_count": 135,
   "id": "839dc236",
   "metadata": {},
   "outputs": [
    {
     "name": "stdout",
     "output_type": "stream",
     "text": [
      "teacher의 값: False, 자료형: <class 'bool'>\n"
     ]
    }
   ],
   "source": [
    "print(f'teacher의 값: {teacher}, 자료형: {type(teacher)}')"
   ]
  },
  {
   "cell_type": "markdown",
   "id": "69810c57",
   "metadata": {},
   "source": [
    "### 비교연산자"
   ]
  },
  {
   "cell_type": "code",
   "execution_count": 136,
   "id": "141d9d29",
   "metadata": {},
   "outputs": [],
   "source": [
    "A = 3\n",
    "B = 5\n",
    "C = 8"
   ]
  },
  {
   "cell_type": "code",
   "execution_count": 137,
   "id": "3ee85abc",
   "metadata": {},
   "outputs": [
    {
     "data": {
      "text/plain": [
       "False"
      ]
     },
     "execution_count": 137,
     "metadata": {},
     "output_type": "execute_result"
    }
   ],
   "source": [
    "A==B"
   ]
  },
  {
   "cell_type": "code",
   "execution_count": 138,
   "id": "81c92cf6",
   "metadata": {},
   "outputs": [
    {
     "data": {
      "text/plain": [
       "True"
      ]
     },
     "execution_count": 138,
     "metadata": {},
     "output_type": "execute_result"
    }
   ],
   "source": [
    "B!=C"
   ]
  },
  {
   "cell_type": "code",
   "execution_count": 139,
   "id": "b2166706",
   "metadata": {},
   "outputs": [
    {
     "data": {
      "text/plain": [
       "False"
      ]
     },
     "execution_count": 139,
     "metadata": {},
     "output_type": "execute_result"
    }
   ],
   "source": [
    "A>B"
   ]
  },
  {
   "cell_type": "code",
   "execution_count": 141,
   "id": "2b4a4690",
   "metadata": {},
   "outputs": [
    {
     "data": {
      "text/plain": [
       "True"
      ]
     },
     "execution_count": 141,
     "metadata": {},
     "output_type": "execute_result"
    }
   ],
   "source": [
    "B<=C"
   ]
  },
  {
   "cell_type": "code",
   "execution_count": 143,
   "id": "93fef8f2",
   "metadata": {},
   "outputs": [
    {
     "name": "stdout",
     "output_type": "stream",
     "text": [
      "False\n"
     ]
    }
   ],
   "source": [
    "a = 5\n",
    "b = 10\n",
    "result = a==b\n",
    "print(result)"
   ]
  },
  {
   "cell_type": "code",
   "execution_count": 146,
   "id": "b4983b87",
   "metadata": {},
   "outputs": [
    {
     "name": "stdout",
     "output_type": "stream",
     "text": [
      "True\n"
     ]
    }
   ],
   "source": [
    "a = int(input('아무 값이나 입력하세요. 단, 숫자로: '))\n",
    "b = 50\n",
    "\n",
    "result = a==b\n",
    "print(result)"
   ]
  },
  {
   "cell_type": "code",
   "execution_count": 147,
   "id": "275cc6e3",
   "metadata": {},
   "outputs": [
    {
     "name": "stdout",
     "output_type": "stream",
     "text": [
      "True\n"
     ]
    }
   ],
   "source": [
    "age = int(input('나이를 입력하세요: '))\n",
    "result = age>= 18\n",
    "print(result)"
   ]
  },
  {
   "cell_type": "code",
   "execution_count": 149,
   "id": "44e8c54e",
   "metadata": {},
   "outputs": [
    {
     "name": "stdout",
     "output_type": "stream",
     "text": [
      "False\n"
     ]
    }
   ],
   "source": [
    "x = int(input('아무 숫자를 입력하세요: '))\n",
    "result = 10 <= x <= 20\n",
    "print(result)"
   ]
  },
  {
   "cell_type": "markdown",
   "id": "d32cd75c",
   "metadata": {},
   "source": [
    "### 논리연산자"
   ]
  },
  {
   "cell_type": "code",
   "execution_count": 150,
   "id": "5a639756",
   "metadata": {},
   "outputs": [
    {
     "name": "stdout",
     "output_type": "stream",
     "text": [
      "AND 연산자: False\n"
     ]
    }
   ],
   "source": [
    "print(f'AND 연산자: {student and teacher}')"
   ]
  },
  {
   "cell_type": "code",
   "execution_count": 151,
   "id": "f3ff6566",
   "metadata": {},
   "outputs": [
    {
     "name": "stdout",
     "output_type": "stream",
     "text": [
      "OR 연산자: True\n"
     ]
    }
   ],
   "source": [
    "print(f'OR 연산자: {student or teacher}')"
   ]
  },
  {
   "cell_type": "code",
   "execution_count": 155,
   "id": "b109dbfa",
   "metadata": {},
   "outputs": [
    {
     "name": "stdout",
     "output_type": "stream",
     "text": [
      "NOT 연산자: True\n"
     ]
    }
   ],
   "source": [
    "print(f'NOT 연산자: {not teacher}')"
   ]
  },
  {
   "cell_type": "code",
   "execution_count": 158,
   "id": "fe3fe757",
   "metadata": {},
   "outputs": [
    {
     "data": {
      "text/plain": [
       "True"
      ]
     },
     "execution_count": 158,
     "metadata": {},
     "output_type": "execute_result"
    }
   ],
   "source": [
    "x = 12\n",
    "y = 15\n",
    "result = x >= 10 and y >= 10\n",
    "result"
   ]
  },
  {
   "cell_type": "code",
   "execution_count": 159,
   "id": "7271003e",
   "metadata": {},
   "outputs": [
    {
     "data": {
      "text/plain": [
       "True"
      ]
     },
     "execution_count": 159,
     "metadata": {},
     "output_type": "execute_result"
    }
   ],
   "source": [
    "a = -5\n",
    "b = 10\n",
    "result = a>0 or b>0\n",
    "result"
   ]
  },
  {
   "cell_type": "code",
   "execution_count": 160,
   "id": "a170a5b0",
   "metadata": {},
   "outputs": [
    {
     "data": {
      "text/plain": [
       "True"
      ]
     },
     "execution_count": 160,
     "metadata": {},
     "output_type": "execute_result"
    }
   ],
   "source": [
    "x = 5\n",
    "result = not (x==0)\n",
    "result"
   ]
  },
  {
   "cell_type": "code",
   "execution_count": 161,
   "id": "8de255b8",
   "metadata": {},
   "outputs": [
    {
     "data": {
      "text/plain": [
       "True"
      ]
     },
     "execution_count": 161,
     "metadata": {},
     "output_type": "execute_result"
    }
   ],
   "source": [
    "text = 'python'\n",
    "result = len(text)>=5\n",
    "result"
   ]
  },
  {
   "cell_type": "markdown",
   "id": "5b7a866a",
   "metadata": {},
   "source": [
    "### Q1. 사용자에게 입력 받은 숫자 'x'의 값이 짝수인지 확인하여 결과를 출력해주는 연산을 만들어보세요"
   ]
  },
  {
   "cell_type": "code",
   "execution_count": 162,
   "id": "69be9d07",
   "metadata": {},
   "outputs": [
    {
     "name": "stdout",
     "output_type": "stream",
     "text": [
      "False\n"
     ]
    }
   ],
   "source": [
    "x = int(input('아무 숫자나 입력하세요.'))\n",
    "result = x%2==0\n",
    "\n",
    "print(result)"
   ]
  },
  {
   "cell_type": "markdown",
   "id": "1d0db3fe",
   "metadata": {},
   "source": [
    "### Q2. 사용자에게 입력 받은 숫자 'x'의 값이 음수인지 확인하여 결과를 출력해주는 연산을 만들어보세요"
   ]
  },
  {
   "cell_type": "code",
   "execution_count": 182,
   "id": "1990d66c",
   "metadata": {},
   "outputs": [
    {
     "name": "stdout",
     "output_type": "stream",
     "text": [
      "True\n"
     ]
    }
   ],
   "source": [
    "x = int(input('아무 숫자나 입력하세요.'))\n",
    "result = x<0\n",
    "\n",
    "print(result)"
   ]
  },
  {
   "cell_type": "markdown",
   "id": "68e0b71f",
   "metadata": {},
   "source": [
    "### Q3. 사용자에게 입력 받은 숫자 'x'의 값이 0 이상 100 이하의 범위에 있는지 결과를 출력해주는 연산을 만들어보세요"
   ]
  },
  {
   "cell_type": "code",
   "execution_count": 166,
   "id": "5b1599db",
   "metadata": {},
   "outputs": [
    {
     "name": "stdout",
     "output_type": "stream",
     "text": [
      "False\n"
     ]
    }
   ],
   "source": [
    "x = int(input('아무 숫자나 입력하세요.'))\n",
    "result = 0 <= x <= 100\n",
    "\n",
    "print(result)"
   ]
  },
  {
   "cell_type": "markdown",
   "id": "5e22ba01",
   "metadata": {},
   "source": [
    "### Q4. 로그인 확인하기, 사용자가 입력한 username과 password가 저장된 username = 'python' password = 123 값과 일치하는지 확인하세요."
   ]
  },
  {
   "cell_type": "code",
   "execution_count": 183,
   "id": "aa2a16ba",
   "metadata": {},
   "outputs": [
    {
     "name": "stdout",
     "output_type": "stream",
     "text": [
      "True\n"
     ]
    }
   ],
   "source": [
    "un = input('아이디를 입력하세요.')\n",
    "pw = int(input('비밀번호를 입력하세요.'))\n",
    "\n",
    "username = 'python'\n",
    "password = 123\n",
    "\n",
    "result = username==un and password==pw\n",
    "print(result)"
   ]
  },
  {
   "cell_type": "markdown",
   "id": "2a6da8a5",
   "metadata": {},
   "source": [
    "\n",
    "## 🌼마무리 문제\n",
    "\n",
    "아래 문제들을 풀어보세요!\n",
    "\n",
    "Q1. 사용자로부터 이름과 나이를 `입력받아`, \"안녕하세요, '이름'님. 당신은 '나이'세 이시군요!\"라고 출력하는 코드를 작성해보세요"
   ]
  },
  {
   "cell_type": "code",
   "execution_count": 174,
   "id": "d2a8a17d",
   "metadata": {},
   "outputs": [
    {
     "name": "stdout",
     "output_type": "stream",
     "text": [
      "안녕하세요, 김현서님! 당신은 24세이시군요!\n"
     ]
    }
   ],
   "source": [
    "name = input('이름을 입력해주세요.')\n",
    "age = int(input('나이를 입력해주세요.'))\n",
    "\n",
    "print(f'안녕하세요, {name}님! 당신은 {age}세이시군요!')"
   ]
  },
  {
   "cell_type": "markdown",
   "id": "3513db67",
   "metadata": {},
   "source": [
    "Q2. 문자열을 입력받아 그 문자열을 `뒤집어서` 출력하는 코드를 작성해보세요"
   ]
  },
  {
   "cell_type": "code",
   "execution_count": 175,
   "id": "009a1aa8",
   "metadata": {},
   "outputs": [
    {
     "name": "stdout",
     "output_type": "stream",
     "text": [
      "aisa htuos\n"
     ]
    }
   ],
   "source": [
    "text = input('문자열을 입력해주세요')\n",
    "print(text[-1::-1])"
   ]
  },
  {
   "cell_type": "markdown",
   "id": "84ffc703",
   "metadata": {},
   "source": [
    "Q3. BMI(체질량지수)를 계산하는 프로그램을 작성하세요.  \n",
    "사용자로부터 키(m)와 체중(kg)을 `입력받아` 계산 후 출력하세요.  \n",
    "`*BMI계산법 : 체중(kg) / (키(m) x 키(m))`"
   ]
  },
  {
   "cell_type": "code",
   "execution_count": 178,
   "id": "6ac7f7e3",
   "metadata": {},
   "outputs": [
    {
     "name": "stdout",
     "output_type": "stream",
     "text": [
      "당신의 BMI는 21.34입니다.\n"
     ]
    }
   ],
   "source": [
    "height = float(input('키를 입력해주세요.'))\n",
    "weight = float(input('체중을 입력해주세요.'))\n",
    "\n",
    "height /= 100\n",
    "BMI = weight / (height * height)\n",
    "\n",
    "print(f'당신의 BMI는 {BMI}입니다.')"
   ]
  }
 ],
 "metadata": {
  "kernelspec": {
   "display_name": "test_env",
   "language": "python",
   "name": "python3"
  },
  "language_info": {
   "codemirror_mode": {
    "name": "ipython",
    "version": 3
   },
   "file_extension": ".py",
   "mimetype": "text/x-python",
   "name": "python",
   "nbconvert_exporter": "python",
   "pygments_lexer": "ipython3",
   "version": "3.9.20"
  }
 },
 "nbformat": 4,
 "nbformat_minor": 5
}
