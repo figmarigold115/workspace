{
 "cells": [
  {
   "cell_type": "markdown",
   "id": "bc626805",
   "metadata": {},
   "source": [
    "\n",
    "# 🌼 기초 프로그래밍 및 데이터 구조 - 4차시(24.10.28)\n",
    "\n",
    "---\n"
   ]
  },
  {
   "cell_type": "markdown",
   "id": "e6156959",
   "metadata": {},
   "source": [
    "## 1. 제어문\n",
    "- 제어문은 프로그램의 흐름을 제어하기 위해 사용\n",
    "- 조건문, 반복문 (`if`, `for`, `while`)\n",
    "\n",
    "#### 들여쓰기:\n",
    "\n",
    "제어문 내의 코드 블록은 반드시 `들여쓰기`를 통해 표현해야 하며, 들여쓰기를 잘못하면 `SyntaxError` 혹은  `IndentationError`가 발생할 수 있으므로 코드 작성 시 자동으로 되는 들여쓰기를 지우거나 수정하지 않고 그대로 사용한다!"
   ]
  },
  {
   "cell_type": "markdown",
   "id": "a8d032dd",
   "metadata": {},
   "source": [
    "## 2. 조건문 (if문)\n",
    "\n",
    "- `if`문은 주어진 조건이 참일 때 특정 코드를 실행"
   ]
  },
  {
   "cell_type": "code",
   "execution_count": 2,
   "id": "e98389e2",
   "metadata": {},
   "outputs": [],
   "source": [
    "x = 10"
   ]
  },
  {
   "cell_type": "code",
   "execution_count": 3,
   "id": "500c918e",
   "metadata": {},
   "outputs": [],
   "source": [
    "if x < 5:\n",
    "    print('x는 5보다 작습니다.')"
   ]
  },
  {
   "cell_type": "code",
   "execution_count": 4,
   "id": "6b200641",
   "metadata": {},
   "outputs": [
    {
     "name": "stdout",
     "output_type": "stream",
     "text": [
      "x는 10입니다.\n"
     ]
    }
   ],
   "source": [
    "if x == 10:\n",
    "    print('x는 10입니다.')"
   ]
  },
  {
   "cell_type": "markdown",
   "id": "4dd8a64b",
   "metadata": {},
   "source": [
    "#### `elif`와 `else` 사용하기\n",
    "\n",
    "`else` 문은 if 문과 함께 사용되며, if 조건식이 `거짓(False)`일 때 실행할 코드를 정의,  \n",
    "else 블록은 조건을 따로 지정하지 않고, `모든 다른 경우에 실행`\n",
    "\n",
    "`elif` 문은 else if의 줄임말로, if 조건이 거짓이고, `추가적인 조건`을 확인하고 싶을 때 사용,  \n",
    "여러 개의 elif 블록을 사용할 수 있으며, 조건이 참인 블록이 실행되면 나머지 조건들은 무시됩니다."
   ]
  },
  {
   "cell_type": "code",
   "execution_count": 5,
   "id": "19371c39",
   "metadata": {},
   "outputs": [],
   "source": [
    "x = 3"
   ]
  },
  {
   "cell_type": "code",
   "execution_count": 8,
   "id": "08bbce7b",
   "metadata": {},
   "outputs": [
    {
     "name": "stdout",
     "output_type": "stream",
     "text": [
      "x는 5 이하입니다.\n"
     ]
    }
   ],
   "source": [
    "if x > 5:\n",
    "    print('x는 5보다 큽니다.')\n",
    "else:\n",
    "    print('x는 5 이하입니다.')"
   ]
  },
  {
   "cell_type": "code",
   "execution_count": 7,
   "id": "da45b401",
   "metadata": {},
   "outputs": [
    {
     "name": "stdout",
     "output_type": "stream",
     "text": [
      "x는 5보다 작습니다.\n"
     ]
    }
   ],
   "source": [
    "if x > 5:\n",
    "    print('x는 5보다 큽니다.')\n",
    "elif x < 5:\n",
    "    print('x는 5보다 작습니다.')\n",
    "else:\n",
    "    print('x는 5입니다.')"
   ]
  },
  {
   "cell_type": "code",
   "execution_count": 10,
   "id": "48f55dc1",
   "metadata": {},
   "outputs": [
    {
     "name": "stdout",
     "output_type": "stream",
     "text": [
      "C 학점입니다.\n"
     ]
    }
   ],
   "source": [
    "score = 75\n",
    "\n",
    "if score >= 90:\n",
    "    print('A 학점입니다.')\n",
    "elif score >= 80:\n",
    "    print('B 학점입니다.')\n",
    "elif score >= 70:\n",
    "    print('C 학점입니다.')\n",
    "elif score >= 60:\n",
    "    print('D 학점입니다.')\n",
    "else:\n",
    "    print('F 학점입니다.')"
   ]
  },
  {
   "cell_type": "code",
   "execution_count": 11,
   "id": "6a78f98f",
   "metadata": {},
   "outputs": [],
   "source": [
    "temp = 25\n",
    "weather = 'sunny'"
   ]
  },
  {
   "cell_type": "code",
   "execution_count": 13,
   "id": "3e43dd4c",
   "metadata": {},
   "outputs": [
    {
     "name": "stdout",
     "output_type": "stream",
     "text": [
      "기온이 따뜻하고 날씨가 맑습니다.\n"
     ]
    }
   ],
   "source": [
    "if temp > 20 and weather == 'rainy':\n",
    "    print('기온이 따뜻하지만 비가 옵니다.')\n",
    "elif temp > 20 and weather == 'sunny':\n",
    "    print('기온이 따뜻하고 날씨가 맑습니다.')\n",
    "elif temp < 20 and weather == 'sunny':\n",
    "    print('기온이 쌀쌀하지만 날씨는 맑습니다.')\n",
    "else:\n",
    "    print('기온이 쌀쌀하고 비가 옵니다.')"
   ]
  },
  {
   "cell_type": "code",
   "execution_count": 14,
   "id": "663fec21",
   "metadata": {},
   "outputs": [
    {
     "name": "stdout",
     "output_type": "stream",
     "text": [
      "양수입니다.\n"
     ]
    }
   ],
   "source": [
    "number = int(input('숫자를 입력하세요: '))\n",
    "if number > 0:\n",
    "    print('양수입니다.')\n",
    "elif number < 0:\n",
    "    print('음수입니다.')\n",
    "else:\n",
    "    print('0입니다.')"
   ]
  },
  {
   "cell_type": "code",
   "execution_count": 16,
   "id": "ebcf2ed9",
   "metadata": {},
   "outputs": [
    {
     "name": "stdout",
     "output_type": "stream",
     "text": [
      "red은 리스트에 있습니다.\n"
     ]
    }
   ],
   "source": [
    "colors = ['red', 'green', 'blue']\n",
    "usercolor = input('좋아하는 색상을 영어로 입력하세요.')\n",
    "\n",
    "if usercolor in colors:\n",
    "    print(f'{usercolor}은 리스트에 있습니다.')\n",
    "else:\n",
    "    print(f'{usercolor}은 리스트에 없습니다.')"
   ]
  },
  {
   "cell_type": "markdown",
   "id": "fb5c4e1e",
   "metadata": {},
   "source": [
    "### 중첩조건문"
   ]
  },
  {
   "cell_type": "code",
   "execution_count": 17,
   "id": "bd42bb2b",
   "metadata": {},
   "outputs": [],
   "source": [
    "x = 20\n",
    "y = 10"
   ]
  },
  {
   "cell_type": "code",
   "execution_count": null,
   "id": "2397a7dd",
   "metadata": {},
   "outputs": [],
   "source": [
    "if x > 10:\n",
    "    # print('x는 10보다 큽니다.')\n",
    "    if y > 10:\n",
    "        print('x와 y가 모두 10보다 큽니다.')\n",
    "    elif y < 10:\n",
    "        print('x는 10보다 크지만 y는 10보다 작습니다.')\n",
    "    else:\n",
    "        print('x는 10보다 크고 y는 10입니다.')\n",
    "else:\n",
    "    print('x는 10 이하입니다.')"
   ]
  },
  {
   "cell_type": "code",
   "execution_count": 20,
   "id": "e30f08c2",
   "metadata": {},
   "outputs": [
    {
     "name": "stdout",
     "output_type": "stream",
     "text": [
      "성인이고, 학생입니다.\n"
     ]
    }
   ],
   "source": [
    "age = 20\n",
    "job = 'student'\n",
    "\n",
    "if age >= 20:\n",
    "    if job == 'student':\n",
    "        print('성인이고, 학생입니다.')\n",
    "    else:\n",
    "        print('성인이고, 학생이 아닙니다.')\n",
    "else:\n",
    "    print('미성년자입니다.')"
   ]
  },
  {
   "cell_type": "markdown",
   "id": "a6a7f688",
   "metadata": {},
   "source": [
    "### Q1. 나이별로 다른 입장료 가격을 계산하는 프로그램을 작성해보세요\n",
    "0~2세 무료, 3~12세 5000원, 13~18세 8000원, 19세 이상 10000원\n",
    "* 조건의 결과는 임의로 설정해도 됩니다! (나이) "
   ]
  },
  {
   "cell_type": "code",
   "execution_count": 22,
   "id": "b7c3ae06",
   "metadata": {},
   "outputs": [
    {
     "name": "stdout",
     "output_type": "stream",
     "text": [
      "무료입니다.\n"
     ]
    }
   ],
   "source": [
    "age = 2\n",
    "\n",
    "if age <= 2:\n",
    "    print('무료입니다.')\n",
    "elif age <= 12:\n",
    "    print('5000원입니다.')\n",
    "elif age <= 18:\n",
    "    print('8000원입니다.')\n",
    "else:\n",
    "    print('10000원입니다.')"
   ]
  },
  {
   "cell_type": "markdown",
   "id": "ed1cfb83",
   "metadata": {},
   "source": [
    "### Q2. 기온에 따른 옷차림을 추천해주는 프로그램을 작성해보세요\n",
    "0도 이하면 패딩을, 10도 이하면 코트를, 20도 이하면 가벼운 겉옷을, 그 외에는 반팔을 추천해줍니다.\n",
    "* 조건의 결과는 임의로 설정해도 됩니다! (기온)"
   ]
  },
  {
   "cell_type": "code",
   "execution_count": 23,
   "id": "0b7d2990",
   "metadata": {},
   "outputs": [
    {
     "name": "stdout",
     "output_type": "stream",
     "text": [
      "가벼운 겉옷을 입으세요.\n"
     ]
    }
   ],
   "source": [
    "temp = 15\n",
    "\n",
    "if temp <= 0:\n",
    "    print('패딩을 입으세요.')\n",
    "elif temp <= 10:\n",
    "    print('코트를 입으세요.')\n",
    "elif temp <= 20:\n",
    "    print('가벼운 겉옷을 입으세요.')\n",
    "else:\n",
    "    print('반팔을 입으세요.')"
   ]
  },
  {
   "cell_type": "markdown",
   "id": "fce4c04a",
   "metadata": {},
   "source": [
    "### Q3. 고객의 나이와 예산에 따라 적합한 여행을 추천해주는 프로그램을 작성해보세요.\n",
    "18세 미만이고 예산이 30만원 이상이면 '가족 여행 패키지', 그 외는 '키즈 테마파크 패키지'   \n",
    "18세 이상 60세 이하에 예산이 50만원 이상이면 '유럽 투어 패키지', 30만원 이상이면 '국내 여행 패키지', 그 외 '서울 근교 여행 패키지'   \n",
    "나이가 60세 초과이고 예산이 30만원 이상이면 '힐링 여행 패키지', 그 외 '자연 산책 패키지'   \n",
    "* 조건의 결과는 임의로 설정해도 됩니다! (나이, 예산)"
   ]
  },
  {
   "cell_type": "code",
   "execution_count": 24,
   "id": "1edf44eb",
   "metadata": {},
   "outputs": [
    {
     "name": "stdout",
     "output_type": "stream",
     "text": [
      "국내 여행 패키지\n"
     ]
    }
   ],
   "source": [
    "age = 20\n",
    "money = 350000\n",
    "\n",
    "if age < 18:\n",
    "    if money >= 300000:\n",
    "        print('가족 여행 패키지')\n",
    "    else:\n",
    "        print('키즈 테마파크 패키지')\n",
    "elif age <= 60:\n",
    "    if money >= 500000:\n",
    "        print('유럽 투어 패키지')\n",
    "    elif money >= 300000:\n",
    "        print('국내 여행 패키지')\n",
    "    else:\n",
    "        print('서울 근교 여행 패키지')\n",
    "else:\n",
    "    if money >= 300000:\n",
    "        print('힐링 여행 패키지')\n",
    "    else:\n",
    "        print('자연 산책 패키지')"
   ]
  },
  {
   "cell_type": "markdown",
   "id": "14ac09a9",
   "metadata": {},
   "source": [
    "## 2. 반복문\n",
    "\n",
    "Python에서 반복문은 for문과 while문으로 이 두 가지 문은 서로 다른 방식으로 반복을 수행하지만, 기본적인 구조는 유사함\n",
    "\n",
    "- `for문`: \n",
    "\n",
    "    주어진 시퀀스(예: 리스트, 튜플, 문자열 등)나 이터러블 객체의 `각 요소를 순회하면서 반복`을 수행\n",
    "\n",
    "- `while문`: \n",
    "\n",
    "    특정 `조건이 참인 동안 반복`을 수행      \n",
    "    조건이 거짓이 되면 반복이 종료  \n",
    "\n",
    "|구분|for문|while문|\n",
    "|--|--|--|\n",
    "|사용|시퀀스나 이터러블 객체의 요소를 순회할 때|특정 조건이 참일 때까지 반복할 때|\n",
    "|종료 조건|시퀀스의 끝|조건이 거짓(False)이 될 때|"
   ]
  },
  {
   "cell_type": "code",
   "execution_count": 30,
   "id": "99d0b4d8",
   "metadata": {},
   "outputs": [],
   "source": [
    "fruits = ['apple', 'banana', 'cherry']"
   ]
  },
  {
   "cell_type": "code",
   "execution_count": 33,
   "id": "878d8268",
   "metadata": {},
   "outputs": [
    {
     "name": "stdout",
     "output_type": "stream",
     "text": [
      "apple\n",
      "banana\n",
      "cherry\n"
     ]
    }
   ],
   "source": [
    "for f in fruits:\n",
    "    print(f)"
   ]
  },
  {
   "cell_type": "code",
   "execution_count": 34,
   "id": "e22c8b35",
   "metadata": {},
   "outputs": [
    {
     "name": "stdout",
     "output_type": "stream",
     "text": [
      "0\n",
      "1\n",
      "2\n",
      "3\n",
      "4\n"
     ]
    }
   ],
   "source": [
    "for i in range(0, 5):\n",
    "    print(i)"
   ]
  },
  {
   "cell_type": "code",
   "execution_count": 35,
   "id": "981c8474",
   "metadata": {},
   "outputs": [
    {
     "name": "stdout",
     "output_type": "stream",
     "text": [
      "1\n",
      "3\n",
      "5\n",
      "7\n",
      "9\n"
     ]
    }
   ],
   "source": [
    "for i in range(1, 10, 2):\n",
    "    print(i)"
   ]
  },
  {
   "cell_type": "code",
   "execution_count": 36,
   "id": "8cf5ba08",
   "metadata": {},
   "outputs": [
    {
     "name": "stdout",
     "output_type": "stream",
     "text": [
      "p\n",
      "y\n",
      "t\n",
      "h\n",
      "o\n",
      "n\n"
     ]
    }
   ],
   "source": [
    "text = 'python'\n",
    "for i in text:\n",
    "    print(i)"
   ]
  },
  {
   "cell_type": "code",
   "execution_count": 37,
   "id": "63295543",
   "metadata": {},
   "outputs": [
    {
     "name": "stdout",
     "output_type": "stream",
     "text": [
      "1\n",
      "2\n",
      "3\n",
      "4\n",
      "5\n",
      "6\n",
      "7\n",
      "8\n",
      "9\n"
     ]
    }
   ],
   "source": [
    "list_ = [1, 2, 3, 4, 5, 6, 7, 8, 9]\n",
    "for i in list_:\n",
    "    print(i)"
   ]
  },
  {
   "cell_type": "code",
   "execution_count": 41,
   "id": "8266239b",
   "metadata": {},
   "outputs": [],
   "source": [
    "numbers = [1, 2, 3, 4, 5]\n",
    "total = 0"
   ]
  },
  {
   "cell_type": "code",
   "execution_count": 42,
   "id": "9c4d81a2",
   "metadata": {},
   "outputs": [
    {
     "name": "stdout",
     "output_type": "stream",
     "text": [
      "15\n"
     ]
    }
   ],
   "source": [
    "for number in numbers:\n",
    "    total += number\n",
    "print(total)"
   ]
  },
  {
   "cell_type": "code",
   "execution_count": 43,
   "id": "c29c948e",
   "metadata": {},
   "outputs": [
    {
     "name": "stdout",
     "output_type": "stream",
     "text": [
      "(0, 'apple')\n",
      "(1, 'banana')\n",
      "(2, 'cherry')\n"
     ]
    }
   ],
   "source": [
    "fruits = ['apple', 'banana', 'cherry']\n",
    "\n",
    "for i in enumerate(fruits):\n",
    "    print(i)"
   ]
  },
  {
   "cell_type": "code",
   "execution_count": 44,
   "id": "8f5a0207",
   "metadata": {},
   "outputs": [
    {
     "name": "stdout",
     "output_type": "stream",
     "text": [
      "0 apple\n",
      "1 banana\n",
      "2 cherry\n"
     ]
    }
   ],
   "source": [
    "for i, j in enumerate(fruits):\n",
    "    print(i, j)"
   ]
  },
  {
   "cell_type": "code",
   "execution_count": 48,
   "id": "9741a129",
   "metadata": {},
   "outputs": [
    {
     "name": "stdout",
     "output_type": "stream",
     "text": [
      "수빈의 점수는 90입니다.\n",
      "예원의 점수는 80입니다.\n",
      "도환의 점수는 70입니다.\n"
     ]
    }
   ],
   "source": [
    "student = {'수빈': 90, '예원': 80, '도환':70}\n",
    "\n",
    "for name, score in student.items():\n",
    "    print(f'{name}의 점수는 {score}입니다.')"
   ]
  },
  {
   "cell_type": "markdown",
   "id": "030f1ef7",
   "metadata": {},
   "source": [
    "### 중첩for문"
   ]
  },
  {
   "cell_type": "code",
   "execution_count": 2,
   "id": "d92d6847",
   "metadata": {},
   "outputs": [
    {
     "name": "stdout",
     "output_type": "stream",
     "text": [
      "\n",
      "\n",
      "2 x 1 = 2\t3 x 1 = 3\t4 x 1 = 4\t5 x 1 = 5\t6 x 1 = 6\t7 x 1 = 7\t8 x 1 = 8\t9 x 1 = 9\t\n",
      "\n",
      "2 x 2 = 4\t3 x 2 = 6\t4 x 2 = 8\t5 x 2 = 10\t6 x 2 = 12\t7 x 2 = 14\t8 x 2 = 16\t9 x 2 = 18\t\n",
      "\n",
      "2 x 3 = 6\t3 x 3 = 9\t4 x 3 = 12\t5 x 3 = 15\t6 x 3 = 18\t7 x 3 = 21\t8 x 3 = 24\t9 x 3 = 27\t\n",
      "\n",
      "2 x 4 = 8\t3 x 4 = 12\t4 x 4 = 16\t5 x 4 = 20\t6 x 4 = 24\t7 x 4 = 28\t8 x 4 = 32\t9 x 4 = 36\t\n",
      "\n",
      "2 x 5 = 10\t3 x 5 = 15\t4 x 5 = 20\t5 x 5 = 25\t6 x 5 = 30\t7 x 5 = 35\t8 x 5 = 40\t9 x 5 = 45\t\n",
      "\n",
      "2 x 6 = 12\t3 x 6 = 18\t4 x 6 = 24\t5 x 6 = 30\t6 x 6 = 36\t7 x 6 = 42\t8 x 6 = 48\t9 x 6 = 54\t\n",
      "\n",
      "2 x 7 = 14\t3 x 7 = 21\t4 x 7 = 28\t5 x 7 = 35\t6 x 7 = 42\t7 x 7 = 49\t8 x 7 = 56\t9 x 7 = 63\t\n",
      "\n",
      "2 x 8 = 16\t3 x 8 = 24\t4 x 8 = 32\t5 x 8 = 40\t6 x 8 = 48\t7 x 8 = 56\t8 x 8 = 64\t9 x 8 = 72\t\n",
      "\n",
      "2 x 9 = 18\t3 x 9 = 27\t4 x 9 = 36\t5 x 9 = 45\t6 x 9 = 54\t7 x 9 = 63\t8 x 9 = 72\t9 x 9 = 81\t"
     ]
    }
   ],
   "source": [
    "for i in range(1, 10):\n",
    "    print('\\n')\n",
    "    for j in range(2, 10):\n",
    "        print(f'{j} x {i} = {i*j}', end='\\t')"
   ]
  },
  {
   "cell_type": "markdown",
   "id": "d9e39583",
   "metadata": {},
   "source": [
    "### Q1. numbers 리스트에서 짝수만 출력하기"
   ]
  },
  {
   "cell_type": "code",
   "execution_count": 56,
   "id": "0750f8c9",
   "metadata": {},
   "outputs": [
    {
     "name": "stdout",
     "output_type": "stream",
     "text": [
      "2\n",
      "4\n",
      "6\n",
      "8\n",
      "10\n"
     ]
    }
   ],
   "source": [
    "numbers = [1, 2, 3, 4, 5, 6, 7, 8, 9, 10]\n",
    "\n",
    "for i in range(1, len(numbers), 2):\n",
    "    print(numbers[i])"
   ]
  },
  {
   "cell_type": "markdown",
   "id": "39684af5",
   "metadata": {},
   "source": [
    "### Q2. 구구단 7단 풀이 출력하기"
   ]
  },
  {
   "cell_type": "code",
   "execution_count": 114,
   "id": "0fb2c4b2",
   "metadata": {},
   "outputs": [
    {
     "name": "stdout",
     "output_type": "stream",
     "text": [
      "7 x 1 = 7\n",
      "7 x 2 = 14\n",
      "7 x 3 = 21\n",
      "7 x 4 = 28\n",
      "7 x 5 = 35\n",
      "7 x 6 = 42\n",
      "7 x 7 = 49\n",
      "7 x 8 = 56\n",
      "7 x 9 = 63\n"
     ]
    }
   ],
   "source": [
    "number = 7\n",
    "\n",
    "for i in range(1, 10):\n",
    "    print(f'{number} x {i} = {number*i}')"
   ]
  },
  {
   "cell_type": "markdown",
   "id": "f083771e",
   "metadata": {},
   "source": [
    "### Q3. 문장에서 단어를 찾고 단어의 개수가 각각 몇개인지 출력해보세요."
   ]
  },
  {
   "cell_type": "code",
   "execution_count": 120,
   "id": "61f2fd23",
   "metadata": {},
   "outputs": [
    {
     "name": "stdout",
     "output_type": "stream",
     "text": [
      "{'cat': 2, 'apple': 2, 'flower': 1, 'bird': 2}\n"
     ]
    }
   ],
   "source": [
    "sentence = \"cat apple flower cat bird apple bird\"\n",
    "sentence_w1 = sentence.split(' ')\n",
    "num3 = {}\n",
    "\n",
    "for s in sentence_w1:\n",
    "    if s in num3.keys():\n",
    "        num3[s] += 1\n",
    "    else:\n",
    "        num3[s] = 1\n",
    "print(num3)"
   ]
  },
  {
   "cell_type": "markdown",
   "id": "ee133818",
   "metadata": {},
   "source": [
    "### Q4. numbers 리스트에서 각각 이웃한 숫자들의 합을 담은 리스트를 반환해보세요"
   ]
  },
  {
   "cell_type": "code",
   "execution_count": 121,
   "id": "f21c22a4",
   "metadata": {},
   "outputs": [
    {
     "name": "stdout",
     "output_type": "stream",
     "text": [
      "[30, 50, 70, 90]\n"
     ]
    }
   ],
   "source": [
    "numbers = [10, 20, 30, 40, 50]\n",
    "a4 = []\n",
    "\n",
    "for i in range(len(numbers)-1):\n",
    "    a4.append(numbers[i] + numbers[i+1])\n",
    "\n",
    "print(a4)"
   ]
  },
  {
   "cell_type": "markdown",
   "id": "1d9afb0b",
   "metadata": {},
   "source": [
    "### Q5. 주어진 문장인 sentence에서 serach_word가 몇번 나오는지 반복문을 통해 출력해보세요"
   ]
  },
  {
   "cell_type": "code",
   "execution_count": 123,
   "id": "2a83c0ac",
   "metadata": {},
   "outputs": [
    {
     "name": "stdout",
     "output_type": "stream",
     "text": [
      "cat의 개수는 3개 입니다.\n"
     ]
    }
   ],
   "source": [
    "sentence = \"The cat sat on the mat. Another cat was watching the first cat from a distance.\"\n",
    "search_word = \"cat\"\n",
    "\n",
    "sentence_w2 = sentence.replace('.', '').split(' ')\n",
    "\n",
    "num5 = 0\n",
    "for s in sentence_w2:\n",
    "    if s == search_word:\n",
    "        num5 += 1\n",
    "\n",
    "print(f'{search_word}의 개수는 {num5}개 입니다.')"
   ]
  },
  {
   "cell_type": "markdown",
   "id": "fa6e93c1",
   "metadata": {},
   "source": [
    "### Q6. 피라미드 높이인 height만큼 for문을 사용하여 별(★)로 피라미드를 만들어보세요"
   ]
  },
  {
   "cell_type": "code",
   "execution_count": 64,
   "id": "1984fbf5",
   "metadata": {},
   "outputs": [
    {
     "name": "stdout",
     "output_type": "stream",
     "text": [
      "★\n",
      "★★\n",
      "★★★\n",
      "★★★★\n",
      "★★★★★\n"
     ]
    }
   ],
   "source": [
    "height = 5\n",
    "\n",
    "for i in range(1, height+1):\n",
    "    print('★'*i)"
   ]
  },
  {
   "cell_type": "markdown",
   "id": "cdcc65a7",
   "metadata": {},
   "source": [
    "### while문\n",
    "- 조건이 참인 동안 실행되기때문에 조건을 걸어줄 수 있는 변수가 필요한 경우가 많다"
   ]
  },
  {
   "cell_type": "code",
   "execution_count": 140,
   "id": "dbe06876",
   "metadata": {},
   "outputs": [
    {
     "name": "stdout",
     "output_type": "stream",
     "text": [
      "1\n",
      "2\n",
      "3\n",
      "4\n",
      "5\n"
     ]
    }
   ],
   "source": [
    "count = 1\n",
    "\n",
    "while count <= 5:\n",
    "    print(count)\n",
    "    count += 1"
   ]
  },
  {
   "cell_type": "code",
   "execution_count": 141,
   "id": "bb6a3220",
   "metadata": {},
   "outputs": [
    {
     "name": "stdout",
     "output_type": "stream",
     "text": [
      "잔액 1000\n",
      "잔액 800\n",
      "잔액 600\n",
      "잔액 400\n",
      "잔액 200\n"
     ]
    }
   ],
   "source": [
    "pay = 1000\n",
    "\n",
    "while pay > 0:\n",
    "    print('잔액', pay)\n",
    "    pay -= 200"
   ]
  },
  {
   "cell_type": "code",
   "execution_count": 143,
   "id": "13d71974",
   "metadata": {},
   "outputs": [
    {
     "name": "stdout",
     "output_type": "stream",
     "text": [
      "apple\n",
      "banana\n",
      "cherry\n"
     ]
    }
   ],
   "source": [
    "fruits = ['apple', 'banana', 'cherry']\n",
    "index = 0\n",
    "\n",
    "while index < len(fruits):\n",
    "    print(fruits[index])\n",
    "    index += 1"
   ]
  },
  {
   "cell_type": "code",
   "execution_count": 145,
   "id": "e3d892d6",
   "metadata": {},
   "outputs": [
    {
     "name": "stdout",
     "output_type": "stream",
     "text": [
      "55\n"
     ]
    }
   ],
   "source": [
    "number = 1\n",
    "total = 0\n",
    "\n",
    "while number <= 10:\n",
    "    total += number\n",
    "    number += 1\n",
    "print(total)"
   ]
  },
  {
   "cell_type": "code",
   "execution_count": 151,
   "id": "8dd50deb",
   "metadata": {},
   "outputs": [
    {
     "name": "stdout",
     "output_type": "stream",
     "text": [
      "숫자가 작습니다. 다시 입력하세요.\n",
      "숫자가 작습니다. 다시 입력하세요.\n",
      "숫자가 작습니다. 다시 입력하세요.\n",
      "숫자가 작습니다. 다시 입력하세요.\n",
      "숫자가 작습니다. 다시 입력하세요.\n",
      "숫자가 큽니다. 다시 입력하세요.\n",
      "정답입니다!\n"
     ]
    }
   ],
   "source": [
    "import random\n",
    "\n",
    "target = random.randint(1, 20)\n",
    "guess = 0\n",
    "\n",
    "while guess != target:\n",
    "    guess = int(input('숫자를 입력하세요.'))\n",
    "    if guess < target:\n",
    "        print('숫자가 작습니다. 다시 입력하세요.')\n",
    "    elif guess > target:\n",
    "        print('숫자가 큽니다. 다시 입력하세요.')\n",
    "    else:\n",
    "        print('정답입니다!')"
   ]
  },
  {
   "cell_type": "markdown",
   "metadata": {},
   "source": [
    "### Q1. 1부터 20까지의 숫자 중 짝수만 출력하는 프로그램을 작성해보세요"
   ]
  },
  {
   "cell_type": "code",
   "execution_count": 153,
   "id": "03c409f8",
   "metadata": {},
   "outputs": [
    {
     "name": "stdout",
     "output_type": "stream",
     "text": [
      "2\n",
      "4\n",
      "6\n",
      "8\n",
      "10\n",
      "12\n",
      "14\n",
      "16\n",
      "18\n",
      "20\n"
     ]
    }
   ],
   "source": [
    "num = 1\n",
    "\n",
    "while num <= 20:\n",
    "    if num % 2 == 0:\n",
    "        print(num)\n",
    "    num += 1"
   ]
  },
  {
   "cell_type": "markdown",
   "id": "976d4301",
   "metadata": {},
   "source": [
    "### Q2. 올바른 비밀번호인 correct를 입력할 때까지 입력을 요구하는 프로그램을 작성해보세요."
   ]
  },
  {
   "cell_type": "code",
   "execution_count": 156,
   "id": "1674fbd2",
   "metadata": {},
   "outputs": [
    {
     "name": "stdout",
     "output_type": "stream",
     "text": [
      "틀렸습니다. 다시 입력하세요.\n",
      "정답입니다.\n"
     ]
    }
   ],
   "source": [
    "correct = \"python123\"\n",
    "user = \"\"\n",
    "ok = True\n",
    "\n",
    "while ok:\n",
    "    user = input('비밀번호를 입력하세요.')\n",
    "    if user == correct:\n",
    "        print('정답입니다.')\n",
    "        ok = False\n",
    "    else:\n",
    "        print('틀렸습니다. 다시 입력하세요.')"
   ]
  },
  {
   "cell_type": "markdown",
   "id": "a93d76bb",
   "metadata": {},
   "source": [
    "### Q3. 사용자가 입력한 두 숫자 사이의 모든 숫자의 합을 구하는 프로그램을 작성해보세요."
   ]
  },
  {
   "cell_type": "code",
   "execution_count": 169,
   "id": "1f5d1c1f",
   "metadata": {},
   "outputs": [
    {
     "name": "stdout",
     "output_type": "stream",
     "text": [
      "6\n"
     ]
    }
   ],
   "source": [
    "start = int(input(\"시작 숫자를 입력하세요: \"))\n",
    "end = int(input(\"끝 숫자를 입력하세요: \"))\n",
    "total = 0\n",
    "calculate = True\n",
    "\n",
    "while calculate:\n",
    "    total += start\n",
    "    if start == end:\n",
    "        calculate = False\n",
    "    start += 1\n",
    "print(total)"
   ]
  },
  {
   "cell_type": "markdown",
   "id": "0c03aa39",
   "metadata": {},
   "source": [
    "### `break`, `continue`, `pass`"
   ]
  },
  {
   "cell_type": "markdown",
   "id": "ae35f4ca",
   "metadata": {},
   "source": [
    "- `break`는 반복문을 종료시키고, `continue`는 다음 반복으로 넘어가며, `pass`는 아무 작업도 하지 않음"
   ]
  },
  {
   "cell_type": "code",
   "execution_count": 170,
   "id": "d575dc0a",
   "metadata": {},
   "outputs": [
    {
     "name": "stdout",
     "output_type": "stream",
     "text": [
      "0\n",
      "1\n",
      "2\n",
      "3\n",
      "4\n"
     ]
    }
   ],
   "source": [
    "for i in range(10):\n",
    "    if i == 5:\n",
    "        break\n",
    "    print(i)"
   ]
  },
  {
   "cell_type": "code",
   "execution_count": 175,
   "id": "db8c44bd",
   "metadata": {},
   "outputs": [
    {
     "name": "stdout",
     "output_type": "stream",
     "text": [
      "단어: banana\n",
      "단어: orange\n",
      "단어: grape\n",
      "apple을 찾았습니다.\n"
     ]
    }
   ],
   "source": [
    "words = ['banana', 'orange', 'grape', 'apple', 'mango']\n",
    "for w in words:\n",
    "    if w == 'apple':\n",
    "        print('apple을 찾았습니다.')\n",
    "        break\n",
    "    print(f'단어: {w}')"
   ]
  },
  {
   "cell_type": "code",
   "execution_count": 176,
   "id": "370b0caa",
   "metadata": {},
   "outputs": [
    {
     "name": "stdout",
     "output_type": "stream",
     "text": [
      "0\n",
      "1\n",
      "3\n",
      "4\n"
     ]
    }
   ],
   "source": [
    "for i in range(5):\n",
    "    if i == 2:\n",
    "        continue\n",
    "    print(i)"
   ]
  },
  {
   "cell_type": "code",
   "execution_count": 179,
   "id": "082f23cb",
   "metadata": {},
   "outputs": [
    {
     "name": "stdout",
     "output_type": "stream",
     "text": [
      "I hve  ct!"
     ]
    }
   ],
   "source": [
    "sentence = 'I have a cat!'\n",
    "\n",
    "for s in sentence:\n",
    "    if s == 'a':\n",
    "        continue\n",
    "    print(s, end='')"
   ]
  },
  {
   "cell_type": "code",
   "execution_count": 180,
   "id": "b3bde3e7",
   "metadata": {},
   "outputs": [],
   "source": [
    "for i in range(5):\n",
    "    pass"
   ]
  },
  {
   "cell_type": "code",
   "execution_count": 185,
   "id": "60dd424c",
   "metadata": {},
   "outputs": [
    {
     "name": "stdout",
     "output_type": "stream",
     "text": [
      "1\n",
      "3\n",
      "5\n"
     ]
    }
   ],
   "source": [
    "numbers = [1, 2, 3, 4, 5]\n",
    "\n",
    "for number in numbers:\n",
    "    if number % 2 == 0:\n",
    "        pass\n",
    "    else:\n",
    "        print(number)"
   ]
  },
  {
   "cell_type": "markdown",
   "id": "a761ef36",
   "metadata": {},
   "source": [
    "### 무한루프 탈출하기"
   ]
  },
  {
   "cell_type": "code",
   "execution_count": 188,
   "id": "3c55b77c",
   "metadata": {},
   "outputs": [
    {
     "name": "stdout",
     "output_type": "stream",
     "text": [
      "입력하신 값은 바보입니다.\n",
      "프로그램을 종료합니다.\n"
     ]
    }
   ],
   "source": [
    "while True:\n",
    "    user_input = input('종료하려면 \"exit\"를 입력하세요.')\n",
    "    if user_input == 'exit':\n",
    "        print('프로그램을 종료합니다.')\n",
    "        break\n",
    "    print(f'입력하신 값은 {user_input}입니다.')"
   ]
  },
  {
   "cell_type": "markdown",
   "id": "765423ab",
   "metadata": {},
   "source": [
    "#### while문을 for문으로 변환하기\n",
    "\n",
    "while 문은 특정 `조건이 참인 동안 반복`되므로, 이를 for 문으로 변환할 때는 `범위와 종료 조건을 명확히 정의`해야함  \n",
    "while 문은 더 유연하지만, 명확한 반복 횟수가 있을 때는 for 문으로 쉽게 변환할 수 있음"
   ]
  },
  {
   "cell_type": "code",
   "execution_count": 189,
   "id": "41fd85c3",
   "metadata": {},
   "outputs": [],
   "source": [
    "count = 0"
   ]
  },
  {
   "cell_type": "code",
   "execution_count": 190,
   "id": "ba4cf72b",
   "metadata": {},
   "outputs": [
    {
     "name": "stdout",
     "output_type": "stream",
     "text": [
      "0\n",
      "1\n",
      "2\n",
      "3\n",
      "4\n"
     ]
    }
   ],
   "source": [
    "while count < 5:\n",
    "    print(count)\n",
    "    count += 1"
   ]
  },
  {
   "cell_type": "code",
   "execution_count": 193,
   "id": "4ab008f2",
   "metadata": {},
   "outputs": [
    {
     "name": "stdout",
     "output_type": "stream",
     "text": [
      "0\n",
      "1\n",
      "2\n",
      "3\n",
      "4\n"
     ]
    }
   ],
   "source": [
    "for i in range(5):\n",
    "    print(i)"
   ]
  },
  {
   "cell_type": "code",
   "execution_count": 195,
   "id": "352fc8dc",
   "metadata": {},
   "outputs": [
    {
     "name": "stdout",
     "output_type": "stream",
     "text": [
      "aplle\n",
      "banana\n",
      "cherry\n"
     ]
    }
   ],
   "source": [
    "fruits = ['aplle', 'banana', 'cherry']\n",
    "\n",
    "for f in fruits:\n",
    "    print(f)"
   ]
  },
  {
   "cell_type": "code",
   "execution_count": 198,
   "id": "866b73b0",
   "metadata": {},
   "outputs": [
    {
     "name": "stdout",
     "output_type": "stream",
     "text": [
      "aplle\n",
      "banana\n",
      "cherry\n"
     ]
    }
   ],
   "source": [
    "cnt = 0\n",
    "\n",
    "while cnt < len(fruits):\n",
    "    print(fruits[cnt])\n",
    "    cnt += 1"
   ]
  },
  {
   "cell_type": "code",
   "execution_count": 199,
   "id": "9f7fcddf",
   "metadata": {},
   "outputs": [
    {
     "name": "stdout",
     "output_type": "stream",
     "text": [
      "55\n"
     ]
    }
   ],
   "source": [
    "num = 1\n",
    "total = 0\n",
    "\n",
    "while num <= 10:\n",
    "    total += num\n",
    "    num += 1\n",
    "print(total)"
   ]
  },
  {
   "cell_type": "code",
   "execution_count": 200,
   "id": "6ebf1797",
   "metadata": {},
   "outputs": [
    {
     "name": "stdout",
     "output_type": "stream",
     "text": [
      "55\n"
     ]
    }
   ],
   "source": [
    "total = 0\n",
    "for i in range(10):\n",
    "    total += i+1\n",
    "print(total)"
   ]
  },
  {
   "cell_type": "code",
   "execution_count": 201,
   "id": "b71c0f74",
   "metadata": {},
   "outputs": [
    {
     "name": "stdout",
     "output_type": "stream",
     "text": [
      "1\n",
      "3\n",
      "5\n",
      "7\n",
      "9\n"
     ]
    }
   ],
   "source": [
    "num = 1\n",
    "\n",
    "while num <= 10:\n",
    "    if num % 2 != 0:\n",
    "        print(num)\n",
    "    num += 1"
   ]
  },
  {
   "cell_type": "code",
   "execution_count": 202,
   "id": "a27ec99f",
   "metadata": {},
   "outputs": [
    {
     "name": "stdout",
     "output_type": "stream",
     "text": [
      "1\n",
      "3\n",
      "5\n",
      "7\n",
      "9\n"
     ]
    }
   ],
   "source": [
    "for i in range(1, 11):\n",
    "    if i % 2 != 0:\n",
    "        print(i)"
   ]
  },
  {
   "cell_type": "markdown",
   "id": "5e88ab64",
   "metadata": {},
   "source": [
    "### Q1. 아래 for문을 while문으로 변환해보세요."
   ]
  },
  {
   "cell_type": "code",
   "execution_count": 203,
   "id": "6d1f331a",
   "metadata": {},
   "outputs": [
    {
     "name": "stdout",
     "output_type": "stream",
     "text": [
      "1 \n",
      "1 2 \n",
      "1 2 3 \n",
      "1 2 3 4 \n",
      "1 2 3 4 5 \n"
     ]
    }
   ],
   "source": [
    "height = 5 \n",
    "\n",
    "for i in range(1, height + 1):\n",
    "    for j in range(1, i + 1):\n",
    "        print(j, end=\" \")\n",
    "    print()"
   ]
  },
  {
   "cell_type": "code",
   "execution_count": 206,
   "id": "62c2255d",
   "metadata": {},
   "outputs": [
    {
     "name": "stdout",
     "output_type": "stream",
     "text": [
      "1 \n",
      "1 2 \n",
      "1 2 3 \n",
      "1 2 3 4 \n",
      "1 2 3 4 5 \n"
     ]
    }
   ],
   "source": [
    "cnt = 1\n",
    "\n",
    "while cnt <= height:\n",
    "    cnt_2 = 1\n",
    "    while cnt_2 <= cnt:\n",
    "        print(cnt_2, end=' ')\n",
    "        cnt_2 += 1\n",
    "    cnt += 1\n",
    "    print()"
   ]
  },
  {
   "cell_type": "markdown",
   "id": "01f23150",
   "metadata": {},
   "source": [
    "### Q2. 아래 for문을 while문으로 바꿔보세요"
   ]
  },
  {
   "cell_type": "code",
   "execution_count": 207,
   "id": "c2c6f273",
   "metadata": {},
   "outputs": [
    {
     "name": "stdout",
     "output_type": "stream",
     "text": [
      "p 문자는 2번 등장합니다.\n"
     ]
    }
   ],
   "source": [
    "text = \"apple\"\n",
    "search_char = \"p\"\n",
    "count = 0\n",
    "\n",
    "for char in text:\n",
    "    if char == search_char:\n",
    "        count += 1\n",
    "\n",
    "print(f\"{search_char} 문자는 {count}번 등장합니다.\")"
   ]
  },
  {
   "cell_type": "code",
   "execution_count": 209,
   "id": "aa29a440",
   "metadata": {},
   "outputs": [
    {
     "name": "stdout",
     "output_type": "stream",
     "text": [
      "p 문자는 2번 등장합니다.\n"
     ]
    }
   ],
   "source": [
    "cnt = 0\n",
    "word = 0\n",
    "\n",
    "while cnt < len(text):\n",
    "    if text[cnt] == search_char:\n",
    "        word += 1\n",
    "    cnt += 1\n",
    "print(f'{search_char} 문자는 {word}번 등장합니다.')"
   ]
  },
  {
   "cell_type": "markdown",
   "id": "3a1b306f",
   "metadata": {},
   "source": [
    "\n",
    "## 🌼마무리 문제\n",
    "\n",
    "아래 문제들을 풀어보세요!\n",
    "\n",
    "Q1. 사용자로부터 숫자를 입력받아, 그 숫자가 양수인지 음수인지 판별하세요."
   ]
  },
  {
   "cell_type": "code",
   "execution_count": 210,
   "id": "70d69702",
   "metadata": {},
   "outputs": [
    {
     "name": "stdout",
     "output_type": "stream",
     "text": [
      "이 숫자는 양수입니다.\n"
     ]
    }
   ],
   "source": [
    "num = int(input('숫자를 입력하세요.'))\n",
    "\n",
    "if num >= 0:\n",
    "    print('이 숫자는 양수입니다.')\n",
    "else:\n",
    "    print('이 숫자는 음수입니다.')"
   ]
  },
  {
   "cell_type": "markdown",
   "id": "a8d04e63",
   "metadata": {},
   "source": [
    "Q2. 1부터 100사이의 숫자를 맞추는 게임을 만들어보세요. 컴퓨터가 랜덤으로 숫자를 선택하고, 사용자가 숫자를 입력하면 더 큰지 작은지 알려주고 사용자가 맞출 때까지 반복하세요."
   ]
  },
  {
   "cell_type": "code",
   "execution_count": 211,
   "id": "528a46b6",
   "metadata": {},
   "outputs": [
    {
     "name": "stdout",
     "output_type": "stream",
     "text": [
      "숫자가 작습니다. 다시 입력하세요.\n",
      "숫자가 작습니다. 다시 입력하세요.\n",
      "숫자가 작습니다. 다시 입력하세요.\n",
      "숫자가 작습니다. 다시 입력하세요.\n",
      "숫자가 작습니다. 다시 입력하세요.\n",
      "숫자가 작습니다. 다시 입력하세요.\n",
      "정답입니다!\n"
     ]
    }
   ],
   "source": [
    "import random\n",
    "\n",
    "ran = random.randint(1, 101)\n",
    "\n",
    "while True:\n",
    "    n = int(input('숫자를 입력하세요!'))\n",
    "    \n",
    "    if n == ran:\n",
    "        print('정답입니다!')\n",
    "        break\n",
    "    elif n < ran:\n",
    "        print('숫자가 작습니다. 다시 입력하세요.')\n",
    "    else:\n",
    "        print('숫자가 큽니다. 다시 입력하세요.')"
   ]
  },
  {
   "cell_type": "markdown",
   "id": "707a4232",
   "metadata": {},
   "source": [
    "Q3. 숫자를 입력받아 그 숫자의 팩토리얼을 계산하는 프로그램을 작성하세요. 계산 과정을 출력하세요."
   ]
  },
  {
   "cell_type": "code",
   "execution_count": 212,
   "id": "09a8d8b1",
   "metadata": {},
   "outputs": [
    {
     "name": "stdout",
     "output_type": "stream",
     "text": [
      "입력한 숫자의 팩토리얼 값은 55입니다.\n"
     ]
    }
   ],
   "source": [
    "n3 = int(input('숫자를 입력하세요!'))\n",
    "fac = 0\n",
    "\n",
    "for i in range(n3):\n",
    "    fac += i+1\n",
    "\n",
    "print(f'입력한 숫자의 팩토리얼 값은 {fac}입니다.')"
   ]
  }
 ],
 "metadata": {
  "kernelspec": {
   "display_name": "test_env",
   "language": "python",
   "name": "python3"
  },
  "language_info": {
   "codemirror_mode": {
    "name": "ipython",
    "version": 3
   },
   "file_extension": ".py",
   "mimetype": "text/x-python",
   "name": "python",
   "nbconvert_exporter": "python",
   "pygments_lexer": "ipython3",
   "version": "3.9.20"
  }
 },
 "nbformat": 4,
 "nbformat_minor": 5
}
