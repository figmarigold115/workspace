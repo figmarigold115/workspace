{
 "cells": [
  {
   "cell_type": "markdown",
   "id": "e3da31fb",
   "metadata": {},
   "source": [
    "\n",
    "# 🌼 기초 프로그래밍 및 데이터 구조 - 5차시(24.10.29)\n",
    "\n",
    "---\n"
   ]
  },
  {
   "cell_type": "markdown",
   "id": "46179086",
   "metadata": {},
   "source": [
    "## 1. 함수"
   ]
  },
  {
   "cell_type": "markdown",
   "id": "6caec74c",
   "metadata": {},
   "source": [
    "- 함수는 반복적으로 사용되는 코드를 하나로 묶어 놓은 코드 블록\n",
    "- 함수를 정의하면 코드의 재사용성을 높일 수 있음"
   ]
  },
  {
   "cell_type": "code",
   "execution_count": 2,
   "id": "16b0f74f",
   "metadata": {},
   "outputs": [],
   "source": [
    "def greet():\n",
    "    print('Hello world!')"
   ]
  },
  {
   "cell_type": "code",
   "execution_count": 3,
   "id": "1475a353",
   "metadata": {},
   "outputs": [
    {
     "name": "stdout",
     "output_type": "stream",
     "text": [
      "Hello world!\n"
     ]
    }
   ],
   "source": [
    "greet()"
   ]
  },
  {
   "cell_type": "code",
   "execution_count": 4,
   "id": "e77bc2b4",
   "metadata": {},
   "outputs": [
    {
     "name": "stdout",
     "output_type": "stream",
     "text": [
      "지금은 9시입니다.\n",
      "지금은 10시입니다.\n",
      "지금은 11시입니다.\n"
     ]
    }
   ],
   "source": [
    "print('지금은 9시입니다.')\n",
    "print('지금은 10시입니다.')\n",
    "print('지금은 11시입니다.')"
   ]
  },
  {
   "cell_type": "code",
   "execution_count": 7,
   "id": "39560125",
   "metadata": {},
   "outputs": [
    {
     "name": "stdout",
     "output_type": "stream",
     "text": [
      "지금은 0시입니다.\n",
      "지금은 1시입니다.\n",
      "지금은 2시입니다.\n",
      "지금은 3시입니다.\n",
      "지금은 4시입니다.\n",
      "지금은 5시입니다.\n",
      "지금은 6시입니다.\n",
      "지금은 7시입니다.\n",
      "지금은 8시입니다.\n",
      "지금은 9시입니다.\n",
      "지금은 10시입니다.\n",
      "지금은 11시입니다.\n",
      "지금은 12시입니다.\n"
     ]
    }
   ],
   "source": [
    "def time(t):\n",
    "    print(f'지금은 {t}시입니다.')\n",
    "\n",
    "for i in range(13):\n",
    "    time(i)"
   ]
  },
  {
   "cell_type": "code",
   "execution_count": 8,
   "id": "219b9d97",
   "metadata": {},
   "outputs": [
    {
     "name": "stdout",
     "output_type": "stream",
     "text": [
      "11\n"
     ]
    }
   ],
   "source": [
    "def add(a, b):\n",
    "    print(a+b)\n",
    "\n",
    "add(3, 8)"
   ]
  },
  {
   "cell_type": "code",
   "execution_count": 9,
   "id": "2371a80c",
   "metadata": {},
   "outputs": [
    {
     "ename": "TypeError",
     "evalue": "add() missing 2 required positional arguments: 'a' and 'b'",
     "output_type": "error",
     "traceback": [
      "\u001b[1;31m---------------------------------------------------------------------------\u001b[0m",
      "\u001b[1;31mTypeError\u001b[0m                                 Traceback (most recent call last)",
      "Cell \u001b[1;32mIn[9], line 1\u001b[0m\n\u001b[1;32m----> 1\u001b[0m \u001b[43madd\u001b[49m\u001b[43m(\u001b[49m\u001b[43m)\u001b[49m\n",
      "\u001b[1;31mTypeError\u001b[0m: add() missing 2 required positional arguments: 'a' and 'b'"
     ]
    }
   ],
   "source": [
    "# 변수를 무조건 넣어줘야 한다\n",
    "add()"
   ]
  },
  {
   "cell_type": "markdown",
   "id": "60882422",
   "metadata": {},
   "source": [
    "## 2. return\n",
    "- `return` 은 함수의 결과를 함수 외부로 반환할 때 사용"
   ]
  },
  {
   "cell_type": "code",
   "execution_count": 10,
   "id": "3903c22b",
   "metadata": {},
   "outputs": [
    {
     "data": {
      "text/plain": [
       "10"
      ]
     },
     "execution_count": 10,
     "metadata": {},
     "output_type": "execute_result"
    }
   ],
   "source": [
    "def add_print(a, b):\n",
    "    return a+b\n",
    "\n",
    "add_print(2, 3) + 5"
   ]
  },
  {
   "cell_type": "code",
   "execution_count": 11,
   "id": "ddb66ead",
   "metadata": {},
   "outputs": [
    {
     "data": {
      "text/plain": [
       "(7, 12)"
      ]
     },
     "execution_count": 11,
     "metadata": {},
     "output_type": "execute_result"
    }
   ],
   "source": [
    "def add_multi(a, b):\n",
    "    add = a + b\n",
    "    multi = a * b\n",
    "    return add, multi\n",
    "\n",
    "add_multi(3, 4)"
   ]
  },
  {
   "cell_type": "code",
   "execution_count": 12,
   "id": "ab8a2162",
   "metadata": {},
   "outputs": [
    {
     "name": "stdout",
     "output_type": "stream",
     "text": [
      "8 15\n"
     ]
    }
   ],
   "source": [
    "result1, result2 = add_multi(3, 5)\n",
    "\n",
    "print(result1, result2)"
   ]
  },
  {
   "cell_type": "code",
   "execution_count": 14,
   "id": "49c7e8e1",
   "metadata": {},
   "outputs": [
    {
     "name": "stdout",
     "output_type": "stream",
     "text": [
      "결제되었습니다. 거스름돈: 2000원\n"
     ]
    }
   ],
   "source": [
    "def payment(price, pay):\n",
    "    if pay < price:\n",
    "        return print(f'금액이 부족합니다. 부족한 금액: {abs(price-pay)}원')\n",
    "    else:\n",
    "        return print(f'결제되었습니다. 거스름돈: {abs(pay-price)}원')\n",
    "    \n",
    "payment(13000, 15000)"
   ]
  },
  {
   "cell_type": "markdown",
   "id": "f230493a",
   "metadata": {},
   "source": [
    "### Q1. 사용자에게 값을 입력 받아 입력 받은 숫자의 구구단을 출력하는 함수를 작성해보세요."
   ]
  },
  {
   "cell_type": "code",
   "execution_count": 25,
   "id": "503acb0e",
   "metadata": {},
   "outputs": [
    {
     "name": "stdout",
     "output_type": "stream",
     "text": [
      "7 x 1 = 7\n",
      "7 x 2 = 14\n",
      "7 x 3 = 21\n",
      "7 x 4 = 28\n",
      "7 x 5 = 35\n",
      "7 x 6 = 42\n",
      "7 x 7 = 49\n",
      "7 x 8 = 56\n",
      "7 x 9 = 63\n"
     ]
    }
   ],
   "source": [
    "def calculate():\n",
    "    number = int(input('숫자를 입력하세요.'))\n",
    "    for i in range(1, 10):\n",
    "        print(f'{number} x {i} = {number*i}')\n",
    "\n",
    "calculate()"
   ]
  },
  {
   "cell_type": "markdown",
   "id": "65d8a673",
   "metadata": {},
   "source": [
    "### Q2. 90점 이상이면 A, 80점 이상이면 B, 70점 이상이면 C, 60점 이상이면 D, 그 아래 점수는 F를 주는 성적 자동 계산기 함수를 작성해보세요.\n",
    "단, 점수는 0점부터 100점까지만 입력 가능합니다"
   ]
  },
  {
   "cell_type": "code",
   "execution_count": 27,
   "id": "ee822b57",
   "metadata": {},
   "outputs": [
    {
     "name": "stdout",
     "output_type": "stream",
     "text": [
      "당신의 학점은 B입니다.\n"
     ]
    }
   ],
   "source": [
    "def professor(s):\n",
    "    if s < 0 or s > 100:\n",
    "        score = '잘못된 점수'\n",
    "    elif s >= 90:\n",
    "        score = 'A'\n",
    "    elif s >= 80:\n",
    "        score = 'B'\n",
    "    elif s >= 70:\n",
    "        score = 'C'\n",
    "    elif s >= 60:\n",
    "        score = 'D'\n",
    "    else:\n",
    "        score = 'F'\n",
    "    return score\n",
    "\n",
    "sc = int(input('점수를 입력하세요.'))\n",
    "print(f'당신의 학점은 {professor(sc)}입니다.')"
   ]
  },
  {
   "cell_type": "markdown",
   "id": "d062a5fd",
   "metadata": {},
   "source": [
    "### Q3. 알파벳 모음 개수를 세어 반환하는 함수를 작성해보세요."
   ]
  },
  {
   "cell_type": "code",
   "execution_count": 26,
   "id": "0a1abc2e",
   "metadata": {},
   "outputs": [
    {
     "name": "stdout",
     "output_type": "stream",
     "text": [
      "당신이 입력한 단어인 nice to meet you에는 모음이 7개 있습니다.\n"
     ]
    }
   ],
   "source": [
    "def alpha(word):\n",
    "    count = 0\n",
    "    for w in word:\n",
    "        if w in ['a', 'e', 'i', 'o', 'u']:\n",
    "            count += 1\n",
    "    return count\n",
    "\n",
    "wo = input('단어를 입력하세요.')\n",
    "print(f'당신이 입력한 단어인 {wo}에는 모음이 {alpha(wo)}개 있습니다.')"
   ]
  },
  {
   "cell_type": "markdown",
   "id": "8cbffe67",
   "metadata": {},
   "source": [
    "### try, except"
   ]
  },
  {
   "cell_type": "markdown",
   "id": "e808b6c2",
   "metadata": {},
   "source": [
    "```python\n",
    "try:\n",
    "    실행할 코드\n",
    "except 예외종류:  # 생략가능\n",
    "    예외가 발생했을 때 실행할 코드\n",
    "```"
   ]
  },
  {
   "cell_type": "code",
   "execution_count": 29,
   "id": "28253eae",
   "metadata": {},
   "outputs": [
    {
     "ename": "ZeroDivisionError",
     "evalue": "division by zero",
     "output_type": "error",
     "traceback": [
      "\u001b[1;31m---------------------------------------------------------------------------\u001b[0m",
      "\u001b[1;31mZeroDivisionError\u001b[0m                         Traceback (most recent call last)",
      "Cell \u001b[1;32mIn[29], line 1\u001b[0m\n\u001b[1;32m----> 1\u001b[0m result \u001b[38;5;241m=\u001b[39m \u001b[38;5;241;43m10\u001b[39;49m\u001b[38;5;241;43m/\u001b[39;49m\u001b[38;5;241;43m0\u001b[39;49m\n",
      "\u001b[1;31mZeroDivisionError\u001b[0m: division by zero"
     ]
    }
   ],
   "source": [
    "result = 10/0"
   ]
  },
  {
   "cell_type": "code",
   "execution_count": 30,
   "id": "fbf0d4fb",
   "metadata": {},
   "outputs": [
    {
     "name": "stdout",
     "output_type": "stream",
     "text": [
      "0으로 나눌 수 없습니다.\n"
     ]
    }
   ],
   "source": [
    "try:\n",
    "    result = 10/0\n",
    "except ZeroDivisionError:\n",
    "    print('0으로 나눌 수 없습니다.')"
   ]
  },
  {
   "cell_type": "code",
   "execution_count": 33,
   "id": "7588053a",
   "metadata": {},
   "outputs": [
    {
     "ename": "TypeError",
     "evalue": "unsupported operand type(s) for /: 'int' and 'str'",
     "output_type": "error",
     "traceback": [
      "\u001b[1;31m---------------------------------------------------------------------------\u001b[0m",
      "\u001b[1;31mTypeError\u001b[0m                                 Traceback (most recent call last)",
      "Cell \u001b[1;32mIn[33], line 1\u001b[0m\n\u001b[1;32m----> 1\u001b[0m \u001b[38;5;241;43m10\u001b[39;49m\u001b[38;5;241;43m/\u001b[39;49m\u001b[38;5;124;43m'\u001b[39;49m\u001b[38;5;124;43mr\u001b[39;49m\u001b[38;5;124;43m'\u001b[39;49m\n",
      "\u001b[1;31mTypeError\u001b[0m: unsupported operand type(s) for /: 'int' and 'str'"
     ]
    }
   ],
   "source": [
    "10/'r'"
   ]
  },
  {
   "cell_type": "code",
   "execution_count": 37,
   "id": "c56dd038",
   "metadata": {},
   "outputs": [
    {
     "data": {
      "text/plain": [
       "3.3333333333333335"
      ]
     },
     "execution_count": 37,
     "metadata": {},
     "output_type": "execute_result"
    }
   ],
   "source": [
    "def safe():\n",
    "    try:\n",
    "        num = int(input('사용자에게 숫자를 입력 받습니다.'))\n",
    "        result = 10 / num\n",
    "        return result\n",
    "    except ZeroDivisionError:\n",
    "        print('0으로 나눌 수 없습니다.')\n",
    "    except TypeError:\n",
    "        print('잘못된 타입입니다.')\n",
    "    except ValueError:\n",
    "        print('숫자가 아닌 값을 입력했습니다.')\n",
    "\n",
    "safe()"
   ]
  },
  {
   "cell_type": "code",
   "execution_count": 40,
   "id": "dda915d7",
   "metadata": {},
   "outputs": [
    {
     "name": "stdout",
     "output_type": "stream",
     "text": [
      "입력한 숫자: 4\n",
      "입력한 숫자: 5\n",
      "숫자가 아닌 값을 입력했습니다.\n",
      "숫자가 아닌 값을 입력했습니다.\n",
      "숫자가 아닌 값을 입력했습니다.\n",
      "숫자가 아닌 값을 입력했습니다.\n",
      "입력한 숫자: 5\n",
      "입력한 숫자: 3\n",
      "프로그램을 종료합니다.\n"
     ]
    }
   ],
   "source": [
    "while True:\n",
    "    try:    \n",
    "        number = int(input('숫자를 입력하세요. 종료하려면 0을 누르세요.'))\n",
    "        if number == 0:\n",
    "            print('프로그램을 종료합니다.')\n",
    "            break\n",
    "        else:\n",
    "            print(f'입력한 숫자: {number}')\n",
    "    except TypeError:\n",
    "        print('잘못된 타입입니다.')\n",
    "    except ValueError:\n",
    "        print('숫자가 아닌 값을 입력했습니다.')"
   ]
  },
  {
   "cell_type": "markdown",
   "id": "e4357517",
   "metadata": {},
   "source": [
    "### Q1. 리스트와 인덱스 매개변수로 받아 해당하는 인덱스의 값을 출력해주는 함수를 만들어보세요.\n",
    "이 때, 범위를 벗어난 인덱스 값을 넣어도 예외로 처리될 수 있도록 처리하세요"
   ]
  },
  {
   "cell_type": "code",
   "execution_count": 43,
   "id": "f69f0635",
   "metadata": {},
   "outputs": [
    {
     "name": "stdout",
     "output_type": "stream",
     "text": [
      "인덱스의 값이 리스트의 길이를 넘어갔습니다.\n"
     ]
    }
   ],
   "source": [
    "def printvalue(l, index):\n",
    "    try:\n",
    "        return print(l[index])\n",
    "    except IndexError:\n",
    "        print('인덱스의 값이 리스트의 길이를 넘어갔습니다.')\n",
    "\n",
    "exlist = [1, 2, 5, 'apple', 'mango']\n",
    "printvalue(exlist, 7)"
   ]
  },
  {
   "cell_type": "markdown",
   "id": "135dbfdd",
   "metadata": {},
   "source": [
    "### Q2. 딕셔너리와 key값을 입력받아 딕셔너리에서 해당하는 key값을 출력해주는 함수를 만들어보세요.\n",
    "이 때, 딕셔너리에 없는 key값을 넣어도 예외로 처리될 수 있도록 처리하세요"
   ]
  },
  {
   "cell_type": "code",
   "execution_count": 16,
   "id": "4481a7d3",
   "metadata": {},
   "outputs": [
    {
     "name": "stdout",
     "output_type": "stream",
     "text": [
      "잘못된 key를 입력했습니다.\n"
     ]
    }
   ],
   "source": [
    "def get_key(dictionary, key):\n",
    "    try:\n",
    "        return print(dictionary[key])\n",
    "    except KeyError:\n",
    "        print('잘못된 key를 입력했습니다.')\n",
    "\n",
    "d = dict(name='hana', age=18, job='student')\n",
    "try:\n",
    "    get_key(d, 'hi')\n",
    "except NameError:\n",
    "    print('잘못된 값을 변수로 입력했습니다.')"
   ]
  },
  {
   "cell_type": "markdown",
   "id": "e8b6731b",
   "metadata": {},
   "source": [
    "## 3. 매개변수\n",
    "\n",
    "- 매개변수는 함수에 입력으로 전달되는 값"
   ]
  },
  {
   "cell_type": "code",
   "execution_count": 17,
   "id": "f26c2810",
   "metadata": {},
   "outputs": [
    {
     "name": "stdout",
     "output_type": "stream",
     "text": [
      "hi, 수빈\n"
     ]
    }
   ],
   "source": [
    "def greet_name(name):\n",
    "    print(f'hi, {name}')\n",
    "\n",
    "greet_name('수빈')"
   ]
  },
  {
   "cell_type": "markdown",
   "id": "fbed9ec1",
   "metadata": {},
   "source": [
    "#### 여러개의 매개변수"
   ]
  },
  {
   "cell_type": "code",
   "execution_count": 19,
   "id": "5a530dd8",
   "metadata": {},
   "outputs": [
    {
     "data": {
      "text/plain": [
       "24"
      ]
     },
     "execution_count": 19,
     "metadata": {},
     "output_type": "execute_result"
    }
   ],
   "source": [
    "def multi(a, b, c):\n",
    "    d = a * b * c\n",
    "    return d\n",
    "\n",
    "multi(1, 2, 4) * 3"
   ]
  },
  {
   "cell_type": "markdown",
   "id": "e3780c45",
   "metadata": {},
   "source": [
    "#### 기본값이 있는 매개변수"
   ]
  },
  {
   "cell_type": "code",
   "execution_count": 21,
   "id": "c82613d7",
   "metadata": {},
   "outputs": [
    {
     "name": "stdout",
     "output_type": "stream",
     "text": [
      "안녕하세요, 사용자님\n"
     ]
    }
   ],
   "source": [
    "def greet(name='사용자'):\n",
    "    print(f'안녕하세요, {name}님')\n",
    "\n",
    "greet()"
   ]
  },
  {
   "cell_type": "markdown",
   "id": "e71f8b37",
   "metadata": {},
   "source": [
    "#### 매개변수를 몇개를 받을지 모른다면?"
   ]
  },
  {
   "cell_type": "code",
   "execution_count": 24,
   "id": "4bd331c4",
   "metadata": {},
   "outputs": [
    {
     "data": {
      "text/plain": [
       "90"
      ]
     },
     "execution_count": 24,
     "metadata": {},
     "output_type": "execute_result"
    }
   ],
   "source": [
    "def add_many(*num):\n",
    "    result = 0\n",
    "    for i in num:\n",
    "        result = result + i\n",
    "    return result\n",
    "\n",
    "add_many(1, 2, 3, 4, 5, 6, 7, 8, 9) * 2"
   ]
  },
  {
   "cell_type": "markdown",
   "id": "f999d567",
   "metadata": {},
   "source": [
    "#### 매개변수의 순서"
   ]
  },
  {
   "cell_type": "code",
   "execution_count": 26,
   "id": "97f49808",
   "metadata": {},
   "outputs": [],
   "source": [
    "def info(name, age, city):\n",
    "    print(f'이름: {name}, 나이: {age}, 사는 곳: {city}')"
   ]
  },
  {
   "cell_type": "code",
   "execution_count": 27,
   "id": "a3c10659",
   "metadata": {},
   "outputs": [
    {
     "name": "stdout",
     "output_type": "stream",
     "text": [
      "이름: 수빈, 나이: 20, 사는 곳: 서울\n"
     ]
    }
   ],
   "source": [
    "# 매개 변수를 잘못된 순서로 넣는다면? 지정해야한다\n",
    "info(age=20, city='서울', name='수빈')"
   ]
  },
  {
   "cell_type": "markdown",
   "id": "3984176e",
   "metadata": {},
   "source": [
    "### Q1. 영화 정보를 출력하는 함수를 만들어보세요.\n",
    "제목, 감독, 연도를 매개변수로 받으며 연도는 기본값이 정보없음으로 출력될 수 있게 작성해보세요."
   ]
  },
  {
   "cell_type": "code",
   "execution_count": 28,
   "id": "2d4e921e",
   "metadata": {},
   "outputs": [
    {
     "name": "stdout",
     "output_type": "stream",
     "text": [
      "영화제목: 기생충, 감독: 봉준호, 연도: 정보없음\n"
     ]
    }
   ],
   "source": [
    "def movie_info(name, director, year='정보없음'):\n",
    "    print(f'영화제목: {name}, 감독: {director}, 연도: {year}')\n",
    "\n",
    "movie_info('기생충', '봉준호')"
   ]
  },
  {
   "cell_type": "markdown",
   "id": "4b0328b8",
   "metadata": {},
   "source": [
    "### Q2. 국어, 수학, 영어 세 과목의 점수를 매개변수로 받아 평균 점수와 총 합계 점수를 출력하는 함수를 작성해보세요."
   ]
  },
  {
   "cell_type": "code",
   "execution_count": 30,
   "id": "88511ac1",
   "metadata": {},
   "outputs": [
    {
     "name": "stdout",
     "output_type": "stream",
     "text": [
      "총 합계 점수는 255점, 평균 점수는 85.0점입니다.\n"
     ]
    }
   ],
   "source": [
    "def threescore(kor, math, eng):\n",
    "    plus = kor+math+eng\n",
    "    mean = plus/3\n",
    "    return plus, mean\n",
    "\n",
    "p, m = threescore(90, 80, 85)\n",
    "print(f'총 합계 점수는 {p}점, 평균 점수는 {m}점입니다.')"
   ]
  },
  {
   "cell_type": "markdown",
   "id": "7e487718",
   "metadata": {},
   "source": [
    "### Q3. 가격과 할인율을 입력하면 할인된 가격을 출력해주는 함수를 작성해보세요.\n",
    "할인율은 최대 100%로 하며 기본 할인율은 10%로 설정해보세요."
   ]
  },
  {
   "cell_type": "code",
   "execution_count": 40,
   "id": "fb242f9a",
   "metadata": {},
   "outputs": [
    {
     "name": "stdout",
     "output_type": "stream",
     "text": [
      "할인된 가격은 8000.0원입니다.\n"
     ]
    }
   ],
   "source": [
    "def discount(price, dc=10):\n",
    "    if dc > 100:\n",
    "        dc = 100\n",
    "    dcprice = price * (1-dc/100)\n",
    "    return dcprice\n",
    "\n",
    "pr = 10000\n",
    "d = 20\n",
    "print(f'할인된 가격은 {discount(pr, d)}원입니다.')"
   ]
  },
  {
   "cell_type": "markdown",
   "id": "bc619d2d",
   "metadata": {},
   "source": [
    "### Q4. 시험 점수를 입력받아 평균을 계산하는 계산기 함수를 작성해보세요\n",
    "이 때, 몇 개의 점수를 입력받을지는 모른다고 가정하고 작성해보세요\n"
   ]
  },
  {
   "cell_type": "code",
   "execution_count": 37,
   "id": "db65f0a9",
   "metadata": {},
   "outputs": [
    {
     "name": "stdout",
     "output_type": "stream",
     "text": [
      "평균 시험 점수는 80.0점입니다.\n"
     ]
    }
   ],
   "source": [
    "def mean(*score):\n",
    "    total = 0\n",
    "    for s in score:\n",
    "        total += s\n",
    "    total /= len(score)\n",
    "    return total\n",
    "\n",
    "print(f'평균 시험 점수는 {mean(70, 80, 90)}점입니다.')"
   ]
  },
  {
   "cell_type": "markdown",
   "id": "ed045b69",
   "metadata": {},
   "source": [
    "### Q5. 사용자의 이름과 메시지를 매개변수로 입력받는 메시지 함수를 작성해보세요.\n",
    "메시지는 '안녕하세요'를 기본 값으로 설정하세요 "
   ]
  },
  {
   "cell_type": "code",
   "execution_count": 39,
   "id": "fdb8e674",
   "metadata": {},
   "outputs": [
    {
     "name": "stdout",
     "output_type": "stream",
     "text": [
      "현서 님으로부터의 메세지입니다. 안녕하세요\n"
     ]
    }
   ],
   "source": [
    "def message(name, mes='안녕하세요'):\n",
    "    print(f'{name} 님으로부터의 메세지입니다. {mes}')\n",
    "\n",
    "message('현서')"
   ]
  },
  {
   "cell_type": "markdown",
   "id": "ec5fb5ae",
   "metadata": {},
   "source": [
    "## 4. 지역변수와 전역변수\n",
    "- 지역변수는 함수 내부에서만 유효하며, 전역변수는 프로그램 전체에서 접근할 수 있음"
   ]
  },
  {
   "cell_type": "code",
   "execution_count": 43,
   "id": "aeefe1ba",
   "metadata": {},
   "outputs": [],
   "source": [
    "def sample():\n",
    "    x = 10\n",
    "    y = 5\n",
    "    print(f'함수 내부에서의 x: {x}, y: {y}')"
   ]
  },
  {
   "cell_type": "code",
   "execution_count": 44,
   "id": "c526637b",
   "metadata": {},
   "outputs": [
    {
     "name": "stdout",
     "output_type": "stream",
     "text": [
      "함수 내부에서의 x: 10, y: 5\n"
     ]
    }
   ],
   "source": [
    "sample()"
   ]
  },
  {
   "cell_type": "code",
   "execution_count": 45,
   "id": "d1e00580",
   "metadata": {},
   "outputs": [
    {
     "ename": "NameError",
     "evalue": "name 'x' is not defined",
     "output_type": "error",
     "traceback": [
      "\u001b[1;31m---------------------------------------------------------------------------\u001b[0m",
      "\u001b[1;31mNameError\u001b[0m                                 Traceback (most recent call last)",
      "Cell \u001b[1;32mIn[45], line 1\u001b[0m\n\u001b[1;32m----> 1\u001b[0m \u001b[38;5;28mprint\u001b[39m(\u001b[43mx\u001b[49m)\n",
      "\u001b[1;31mNameError\u001b[0m: name 'x' is not defined"
     ]
    }
   ],
   "source": [
    "print(x)"
   ]
  },
  {
   "cell_type": "markdown",
   "id": "5a41e8c5",
   "metadata": {},
   "source": [
    "- 함수 내부에서는 지역변수가 우선\n",
    "- 함수 내부의 x는 전역변수와 같은 이름이지만 별도의 지역변수로 동작\n",
    "- 함수 외부의 전역변수 x 값에는 영향을 미치지 않는다"
   ]
  },
  {
   "cell_type": "code",
   "execution_count": 46,
   "id": "e018bc90",
   "metadata": {},
   "outputs": [],
   "source": [
    "x = 20"
   ]
  },
  {
   "cell_type": "code",
   "execution_count": 47,
   "id": "dd33f13a",
   "metadata": {},
   "outputs": [
    {
     "name": "stdout",
     "output_type": "stream",
     "text": [
      "20\n"
     ]
    }
   ],
   "source": [
    "print(x)"
   ]
  },
  {
   "cell_type": "code",
   "execution_count": 48,
   "id": "5eb42f8e",
   "metadata": {},
   "outputs": [
    {
     "name": "stdout",
     "output_type": "stream",
     "text": [
      "함수 내부에서의 x: 10, y: 5\n"
     ]
    }
   ],
   "source": [
    "sample()"
   ]
  },
  {
   "cell_type": "code",
   "execution_count": 50,
   "id": "578a26f1",
   "metadata": {},
   "outputs": [
    {
     "name": "stdout",
     "output_type": "stream",
     "text": [
      "함수 내부의 x 값은 5\n",
      "함수 외부의 x 값은 20\n"
     ]
    }
   ],
   "source": [
    "x = 20\n",
    "\n",
    "def sample():\n",
    "    x = 5\n",
    "    print(f'함수 내부의 x 값은 {x}')\n",
    "\n",
    "sample()\n",
    "print(f'함수 외부의 x 값은 {x}')"
   ]
  },
  {
   "cell_type": "markdown",
   "id": "1df16ff4",
   "metadata": {},
   "source": [
    "## 5. global\n",
    "- `global` 함수를 사용하면 함수 내부에서 전역변수를 수정할 수 있음"
   ]
  },
  {
   "cell_type": "code",
   "execution_count": 52,
   "id": "dd267f3d",
   "metadata": {},
   "outputs": [
    {
     "name": "stdout",
     "output_type": "stream",
     "text": [
      "함수 내부의 x 값은 100\n",
      "함수 외부의 x 값은 100\n"
     ]
    }
   ],
   "source": [
    "def sample():\n",
    "    global x  # 함수 내부 변수를 전역 변수로!\n",
    "    x = 100\n",
    "    print(f'함수 내부의 x 값은 {x}')\n",
    "\n",
    "sample()\n",
    "print(f'함수 외부의 x 값은 {x}')"
   ]
  },
  {
   "cell_type": "markdown",
   "id": "fa21c3d7",
   "metadata": {},
   "source": [
    "### Q1. 함수를 호출할 때 마다 전역변수 count가 1씩 카운팅되는 함수를 만들어보세요"
   ]
  },
  {
   "cell_type": "code",
   "execution_count": 53,
   "id": "f938a6f7",
   "metadata": {},
   "outputs": [
    {
     "name": "stdout",
     "output_type": "stream",
     "text": [
      "함수는 5번 호출되었습니다.\n"
     ]
    }
   ],
   "source": [
    "count = 0\n",
    "\n",
    "def sample():\n",
    "    global count\n",
    "    count += 1\n",
    "\n",
    "for i in range(5):\n",
    "    sample()\n",
    "print(f'함수는 {count}번 호출되었습니다.')"
   ]
  },
  {
   "cell_type": "markdown",
   "id": "a45559ea",
   "metadata": {},
   "source": [
    "### Q2. 팩토리얼을 계산하는 함수를 작성해보세요.\n",
    "factorial(5)의 출력 예시 : 5! = 1 * 2 * 3 * 4 * 5 = 120"
   ]
  },
  {
   "cell_type": "code",
   "execution_count": 95,
   "id": "7be17a08",
   "metadata": {},
   "outputs": [
    {
     "name": "stdout",
     "output_type": "stream",
     "text": [
      "5! = 1 * 2 * 3 * 4 * 5 = 120\n"
     ]
    }
   ],
   "source": [
    "def factorial(number):\n",
    "    total = 1\n",
    "    sent = ''\n",
    "    for i in range(1, number+1):\n",
    "        total *= i\n",
    "        if i < number:\n",
    "            sent += str(i) + ' * '\n",
    "        else:\n",
    "            sent += str(i)\n",
    "    return print(f'{number}! = {sent} = {total}')\n",
    "\n",
    "f = int(input('숫자를 입력하세요.'))\n",
    "factorial(f)"
   ]
  },
  {
   "cell_type": "markdown",
   "id": "012f52e9",
   "metadata": {},
   "source": [
    "### Q3. time 변수를 사용하여 남은 시간을 감소시키는 함수를 작성해보세요.\n",
    "이 함수는 호출될 때 마다 남은 time을 5초씩 감소시키고 남은 시간이 0이하가 되면 종료되었다는 메시지를 출력합니다."
   ]
  },
  {
   "cell_type": "code",
   "execution_count": 98,
   "id": "a5c8215f",
   "metadata": {},
   "outputs": [
    {
     "name": "stdout",
     "output_type": "stream",
     "text": [
      "남은 시간은 25초 입니다.\n",
      "남은 시간은 20초 입니다.\n",
      "남은 시간은 15초 입니다.\n",
      "남은 시간은 10초 입니다.\n",
      "남은 시간은 5초 입니다.\n",
      "종료되었습니다.\n"
     ]
    }
   ],
   "source": [
    "time = 30  # 전역 변수 (초 단위)\n",
    "\n",
    "def wastetime():\n",
    "    global time\n",
    "    time -= 5\n",
    "    if time <= 0:\n",
    "        print('종료되었습니다.')\n",
    "    else:\n",
    "        print(f'남은 시간은 {time}초 입니다.')\n",
    "\n",
    "while time > 0:\n",
    "    wastetime()"
   ]
  },
  {
   "cell_type": "markdown",
   "id": "ab7e84f0",
   "metadata": {},
   "source": [
    "### Q4. 매개변수로 숫자를 입력받아 숫자만큼 유저의 경험치를 증가시키는 함수를 작성해보세요.\n",
    "이 함수는 호출될 때마다 유저 경험치를 증가시키며 경험치가 100이상이 되면 레벨업 메시지가 출력됩니다."
   ]
  },
  {
   "cell_type": "code",
   "execution_count": 99,
   "id": "9daf883f",
   "metadata": {},
   "outputs": [
    {
     "name": "stdout",
     "output_type": "stream",
     "text": [
      "경험치가 20만큼 증가하여 총 20만큼의 경험치가 쌓였습니다!\n",
      "경험치가 40만큼 증가하여 총 60만큼의 경험치가 쌓였습니다!\n",
      "경험치가 30만큼 증가하여 총 90만큼의 경험치가 쌓였습니다!\n",
      "경험치가 20만큼 증가하여 총 110만큼의 경험치가 쌓였습니다!\n",
      "레벨 업! 되었습니다.\n",
      "경험치가 10만큼 증가하여 총 20만큼의 경험치가 쌓였습니다!\n"
     ]
    }
   ],
   "source": [
    "exp = 0  # 전역 변수\n",
    "\n",
    "def expup(number):\n",
    "    global exp\n",
    "    exp += number\n",
    "    print(f'경험치가 {number}만큼 증가하여 총 {exp}만큼의 경험치가 쌓였습니다!')\n",
    "    if exp >= 100:\n",
    "        print('레벨 업! 되었습니다.')\n",
    "        exp -= 100\n",
    "\n",
    "expup(20)\n",
    "expup(40)\n",
    "expup(30)\n",
    "expup(20)\n",
    "expup(10)"
   ]
  },
  {
   "cell_type": "markdown",
   "id": "9d8f249d",
   "metadata": {},
   "source": [
    "### Q5. 숫자를 입력받아 숫자를 뒤집어 출력하는 함수를 작성해보세요\n",
    "출력 예시 : 4321 -> 1234"
   ]
  },
  {
   "cell_type": "code",
   "execution_count": 101,
   "id": "6062ea0f",
   "metadata": {},
   "outputs": [
    {
     "name": "stdout",
     "output_type": "stream",
     "text": [
      "당신이 입력한 숫자인 -1245을 뒤집으면 -5421입니다.\n"
     ]
    }
   ],
   "source": [
    "def change(n):\n",
    "    answer = ''\n",
    "    if n >= 0:\n",
    "        answer = int(str(n)[::-1])\n",
    "    else:\n",
    "        answer = -int(str(-n)[::-1])\n",
    "    return answer\n",
    "\n",
    "num = int(input('숫자를 입력해주세요.'))\n",
    "print(f'당신이 입력한 숫자인 {num}을 뒤집으면 {change(num)}입니다.')"
   ]
  },
  {
   "cell_type": "markdown",
   "id": "8a520630",
   "metadata": {},
   "source": [
    "\n",
    "## 🌼마무리 문제\n",
    "\n",
    "아래 문제들을 풀어보세요!\n",
    "\n",
    "Q1. 달러 금액을 입력받아 원화로 변환하는 함수를 작성하세요."
   ]
  },
  {
   "cell_type": "code",
   "execution_count": 81,
   "id": "df407fa2",
   "metadata": {},
   "outputs": [
    {
     "name": "stdout",
     "output_type": "stream",
     "text": [
      "300달러를 변환하면 415113.0원입니다.\n"
     ]
    }
   ],
   "source": [
    "def exchange(dollar):\n",
    "    won = dollar * 1383.71\n",
    "    return won\n",
    "\n",
    "d = int(input('달러를 입력해주세요.'))\n",
    "print(f'{d}달러를 변환하면 {exchange(d)}원입니다.')"
   ]
  },
  {
   "cell_type": "markdown",
   "id": "27236f69",
   "metadata": {},
   "source": [
    "Q2. 사용자에게 숫자를 입력받고 입력받은 숫자만큼 ‘★’을 출력하는 함수를 작성하세요."
   ]
  },
  {
   "cell_type": "code",
   "execution_count": 83,
   "id": "11ec2b2d",
   "metadata": {},
   "outputs": [
    {
     "name": "stdout",
     "output_type": "stream",
     "text": [
      "★★★★★★★★\n"
     ]
    }
   ],
   "source": [
    "def star(n):\n",
    "    print('★'*n)\n",
    "\n",
    "num = int(input('숫자를 입력해주세요.'))\n",
    "star(num)"
   ]
  },
  {
   "cell_type": "markdown",
   "id": "ef2a7570",
   "metadata": {},
   "source": [
    "Q3. 영어 문자열을 입력받아 문자열에 포함된 모음(a,e,i,o,u)의 개수를 세는 함수를 작성하세요."
   ]
  },
  {
   "cell_type": "code",
   "execution_count": 85,
   "id": "69c081b8",
   "metadata": {},
   "outputs": [
    {
     "name": "stdout",
     "output_type": "stream",
     "text": [
      "입력하신 문자열 hello nice to meet you에는 모음이 9개 있습니다.\n"
     ]
    }
   ],
   "source": [
    "def count(t):\n",
    "    cnt = 0\n",
    "    for i in t:\n",
    "        if i in 'aeiou':\n",
    "            cnt += 1\n",
    "    return cnt\n",
    "\n",
    "text = input('영어 문자열을 입력해주세요.')\n",
    "print(f'입력하신 문자열 {text}에는 모음이 {count(text)}개 있습니다.')"
   ]
  },
  {
   "cell_type": "markdown",
   "id": "839ed99f",
   "metadata": {},
   "source": [
    "### Q1. drinks = {'커피': 700, '콜라': 900, '물': 500}의 메뉴를 갖고 있는 자판기를 만들어보세요\n",
    "1. 사용자에게 메뉴를 선택하게 하고, \n",
    "2. 음료에 알맞는 금액을 투입하게 하세요\n",
    "3. 음료의 가격을 알맞게 투입했다면 음료를 주고 거스름돈을 주세요\n",
    "4. 음료의 가격이 다르다면 처음으로 다시 돌아가세요\n",
    "* 반복문을 강제종료할 수 있도록 '종료' 라고 입력 시 반복문을 종료할 수 있도록 제어하세요"
   ]
  },
  {
   "cell_type": "code",
   "execution_count": 1,
   "id": "b32da05a",
   "metadata": {},
   "outputs": [
    {
     "name": "stdout",
     "output_type": "stream",
     "text": [
      "--------------------------------------------------------------\n",
      "\n",
      "안녕하세요! 메뉴판입니다.\n",
      "\n",
      "커피: 700원\n",
      "콜라: 900원\n",
      "물: 500원\n",
      "\n",
      "\n",
      "주문을 종료합니다.\n",
      "\n",
      "--------------------------------------------------------------\n",
      "\n"
     ]
    }
   ],
   "source": [
    "def coffeemachine():\n",
    "    drinks = {'커피': 700, '콜라': 900, '물': 500}\n",
    "\n",
    "    while True:\n",
    "        print('--------------------------------------------------------------\\n')\n",
    "        print('안녕하세요! 메뉴판입니다.\\n')\n",
    "        for d, p in drinks.items():\n",
    "            print(f'{d}: {p}원')\n",
    "        menu = input('원하시는 메뉴를 골라주세요 | 혹시 주문을 그만두고 싶으시다면 종료를 입력해주세요')\n",
    "\n",
    "        try:\n",
    "            print('\\n')\n",
    "            if menu == '종료':\n",
    "                print('주문을 종료합니다.\\n')\n",
    "                print('--------------------------------------------------------------\\n')\n",
    "                break\n",
    "            elif menu == '커피':\n",
    "                print(f'{menu}를 선택하셨군요. {drinks[menu]}원입니다.')\n",
    "                pay = int(input('금액을 투입하세요.'))\n",
    "            elif menu == '콜라':\n",
    "                print(f'{menu}를 선택하셨군요. {drinks[menu]}원입니다.')\n",
    "                pay = int(input('금액을 투입하세요.'))\n",
    "            elif menu == '물':\n",
    "                print(f'{menu}을 선택하셨군요. {drinks[menu]}원입니다.')\n",
    "                pay = int(input('금액을 투입하세요.'))\n",
    "            else:\n",
    "                print(f'주문하신 {menu}는 없는 메뉴입니다. 다시 입력해주세요.\\n')\n",
    "                continue\n",
    "        except ValueError:\n",
    "            print('금액을 숫자로 넣어주세요. 처음으로 돌아갑니다.\\n')\n",
    "            continue\n",
    "        \n",
    "        if pay >= drinks[menu]:\n",
    "            print(f'{pay}원 받았습니다. 주문하신 {menu} 나왔습니다. 거스름돈은 {pay-drinks[menu]}원입니다.')\n",
    "            print('감사합니다! 다음에 또 오십시오.\\n')\n",
    "        else:\n",
    "            print('금액보다 적은 돈을 투입하셨습니다. 처음부터 다시 주문해주세요.\\n')\n",
    "\n",
    "coffeemachine()"
   ]
  },
  {
   "cell_type": "markdown",
   "id": "ef76c543",
   "metadata": {},
   "source": [
    "### Q2. 사용자에게 숫자와 연산자를 입력받아 계산을 해주는 계산기를 만들어보세요."
   ]
  },
  {
   "cell_type": "code",
   "execution_count": 104,
   "id": "352bc721",
   "metadata": {},
   "outputs": [
    {
     "name": "stdout",
     "output_type": "stream",
     "text": [
      "0은 분모로 올 수 없습니다.\n"
     ]
    }
   ],
   "source": [
    "def caculator():\n",
    "    a = float(input('첫 번째 숫자를 입력하세요.'))\n",
    "    b = float(input('두 번째 숫자를 입력하세요.'))\n",
    "    s = input('연산자를 입력하세요. + - * / // %')\n",
    "\n",
    "    try:\n",
    "        if s == '+':\n",
    "            print(f'{a} + {b} = {a+b}')\n",
    "        elif s == '-':\n",
    "            print(f'{a} - {b} = {a-b}')\n",
    "        elif s == '*':\n",
    "            print(f'{a} * {b} = {a*b}')\n",
    "        elif s == '/':\n",
    "            print(f'{a} / {b} = {a/b}')\n",
    "        elif s == '//':\n",
    "            print(f'{a} // {b} = {a//b}')\n",
    "        elif s == '%':\n",
    "            print(f'{a} % {b} = {a%b}')\n",
    "        else:\n",
    "            print('연산자를 잘못 입력하셨습니다.')\n",
    "    except ZeroDivisionError:\n",
    "        print('0은 분모로 올 수 없습니다.')\n",
    "\n",
    "caculator()"
   ]
  },
  {
   "cell_type": "markdown",
   "id": "c2ba028e",
   "metadata": {},
   "source": [
    "### + 여러 숫자와 연산자를 입력 받아 계산하는 계산기"
   ]
  },
  {
   "cell_type": "code",
   "execution_count": 169,
   "id": "d273753b",
   "metadata": {},
   "outputs": [
    {
     "name": "stdout",
     "output_type": "stream",
     "text": [
      "4 / 2 * 10 - 4 + 1 * 3 / 6  = 16.5\n"
     ]
    }
   ],
   "source": [
    "def calculator(cal):\n",
    "    index = []\n",
    "    index_remove = []\n",
    "    new_cal = []\n",
    "    sent = ''\n",
    "\n",
    "    for ci, c1 in enumerate(cal):\n",
    "        if type(c1) is str:\n",
    "            if c1 in '*/':\n",
    "                index.append(ci)\n",
    "                index_remove += [ci-1, ci+1]\n",
    "\n",
    "    for c2 in cal:\n",
    "        sent += str(c2) + ' '\n",
    "    \n",
    "    for i in range(len(cal)):\n",
    "        if i in index:\n",
    "            temp = 0\n",
    "            if i-2 in index:\n",
    "                try:\n",
    "                    if cal[i] == '*':\n",
    "                        temp = new_cal.pop() * cal[i+1]\n",
    "                        new_cal.append(temp)\n",
    "                    elif cal[i] == '/':\n",
    "                        temp = new_cal.pop() / cal[i+1]\n",
    "                        new_cal.append(temp)\n",
    "                    else:\n",
    "                        print('뭔가 잘못됨')\n",
    "                except ZeroDivisionError:\n",
    "                    print('0은 분모로 올 수 없습니다.')\n",
    "                # except TypeError:\n",
    "                #     print('조용히해봐') \n",
    "            else:\n",
    "                try:\n",
    "                    if cal[i] == '*':\n",
    "                        temp = cal[i-1] * cal[i+1]\n",
    "                        new_cal.append(temp)\n",
    "                    elif cal[i] == '/':\n",
    "                        temp = cal[i-1] / cal[i+1]\n",
    "                        new_cal.append(temp)\n",
    "                    else:\n",
    "                        print('뭔가 잘못됨')\n",
    "                except ZeroDivisionError:\n",
    "                    print('0은 분모로 올 수 없습니다.')\n",
    "                # except TypeError:\n",
    "                #     print('조용히해봐')\n",
    "        elif i in index_remove:\n",
    "            pass\n",
    "        else:\n",
    "            new_cal.append(cal[i])\n",
    "\n",
    "    answer = new_cal.pop(0)\n",
    "    while new_cal:\n",
    "        op = new_cal.pop(0)\n",
    "        if op == '+':\n",
    "            answer += new_cal.pop(0)\n",
    "        elif op == '-':\n",
    "            answer -= new_cal.pop(0)\n",
    "        else:\n",
    "            print('뭔가 잘못됨2')\n",
    "\n",
    "    return print(f'{sent} = {answer}')\n",
    "    \n",
    "\n",
    "what = []\n",
    "while True:\n",
    "    errorn = False\n",
    "\n",
    "    while not errorn:\n",
    "        try:\n",
    "            num = int(input('계산하고 싶은 숫자를 입력해주세요.'))\n",
    "            what.append(num)\n",
    "            errorn = True\n",
    "        except ValueError:\n",
    "            print('숫자로 입력해주세요.')\n",
    "\n",
    "    if input('숫자 입력을 종료하고 싶다면 exit을 입력하세요.') == 'exit':\n",
    "        break\n",
    "\n",
    "    errors = False\n",
    "    \n",
    "    while not errors:\n",
    "        s = input('연산자를 입력해주세요. +, -, *, /')\n",
    "        if s in ['+', '-', '*', '/']:\n",
    "            what.append(s)\n",
    "            errors = True\n",
    "        else:\n",
    "            print('잘못 입력하셨습니다. 다시 입력해주세요.')\n",
    "\n",
    "calculator(what)"
   ]
  }
 ],
 "metadata": {
  "kernelspec": {
   "display_name": "test_env",
   "language": "python",
   "name": "python3"
  },
  "language_info": {
   "codemirror_mode": {
    "name": "ipython",
    "version": 3
   },
   "file_extension": ".py",
   "mimetype": "text/x-python",
   "name": "python",
   "nbconvert_exporter": "python",
   "pygments_lexer": "ipython3",
   "version": "3.9.20"
  }
 },
 "nbformat": 4,
 "nbformat_minor": 5
}
